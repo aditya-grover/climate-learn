{
 "cells": [
  {
   "cell_type": "code",
   "execution_count": 1,
   "metadata": {},
   "outputs": [],
   "source": [
    "import glob\n",
    "import os\n",
    "import numpy as np\n",
    "import xarray as xr\n",
    "import netCDF4 as nc\n",
    "import pandas as pd"
   ]
  },
  {
   "cell_type": "code",
   "execution_count": 2,
   "metadata": {},
   "outputs": [],
   "source": [
    "NAME_TO_VAR = {\n",
    "    \"geopotential\": \"zg\",\n",
    "    \"u_component_of_wind\": \"u\",\n",
    "    \"v_component_of_wind\": \"v\",\n",
    "    \"temperature\": \"ta\",\n",
    "    \"specific_humidity\": \"hus\",\n",
    "    \"air_temperature\": \"tas\",\n",
    "}\n",
    "\n",
    "variables = [\n",
    "    \"air_temperature\",\n",
    "    \"geopotential\",\n",
    "    \"specific_humidity\",\n",
    "    \"temperature\",\n",
    "    \"u_component_of_wind\",\n",
    "    \"v_component_of_wind\"\n",
    "]\n",
    "res = \"5.625deg\"\n",
    "path = f\"/data0/datasets/weatherbench/data/esgf/cmip6/{res}\"\n",
    "\n",
    "HOURS_PER_YEAR = 1456\n",
    "DEFAULT_PRESSURE_LEVELS = [50, 250, 500, 600, 700, 850, 925]\n",
    "num_shards_per_year = 4\n",
    "assert HOURS_PER_YEAR % num_shards_per_year == 0\n",
    "num_hrs_per_shard = HOURS_PER_YEAR // num_shards_per_year"
   ]
  },
  {
   "cell_type": "code",
   "execution_count": 3,
   "metadata": {},
   "outputs": [
    {
     "name": "stdout",
     "output_type": "stream",
     "text": [
      "1850\n",
      "1855\n",
      "1860\n",
      "1865\n",
      "1870\n",
      "1875\n",
      "1880\n",
      "1885\n",
      "1890\n",
      "1895\n",
      "1900\n",
      "1905\n",
      "1910\n",
      "1915\n",
      "1920\n",
      "1925\n",
      "1930\n",
      "1935\n",
      "1940\n",
      "1945\n",
      "1950\n",
      "1955\n",
      "1960\n",
      "1965\n",
      "1970\n",
      "1975\n",
      "1980\n",
      "1985\n",
      "1990\n",
      "1995\n",
      "2000\n",
      "2005\n",
      "2010\n"
     ]
    }
   ],
   "source": [
    "save_dir = f\"/data0/datasets/weatherbench/data/esgf/cmip6/{res}_npz\"\n",
    "years_it = range(1850, 2014, 5)\n",
    "for year_it in years_it:\n",
    "    print(year_it)\n",
    "    year_string = f\"{year_it}01010600-{year_it + 5}01010000\"\n",
    "    np_vars = [{} for _ in range(5)]\n",
    "    normalize_mean = [{} for _ in range(5)]\n",
    "    normalize_std = [{} for _ in range(5)]\n",
    "    climatology = [{} for _ in range(5)]\n",
    "    for var in variables:\n",
    "        ps = glob.glob(os.path.join(path, var, f\"*{year_string}_{res}.nc\"))\n",
    "        ds = xr.load_dataset(ps[0])\n",
    "        code = NAME_TO_VAR[var]\n",
    "        years = pd.DatetimeIndex(ds[\"time\"].values).year\n",
    "        indices_by_year = [[] for _ in range(5)]\n",
    "        for index, year in enumerate(years):\n",
    "            if year >= year_it and year < year_it + 5:\n",
    "                indices_by_year[year-year_it].append(index)\n",
    "        for index in range(5):\n",
    "            indices_by_year[index] = indices_by_year[index][-HOURS_PER_YEAR:]\n",
    "\n",
    "        for year in range(year_it, year_it + 5):\n",
    "            if len(ds[code].shape) == 3:\n",
    "                np_vars[year-year_it][var] = np.expand_dims((ds[code][indices_by_year[year-year_it]]).to_numpy(), axis=1)\n",
    "            else:\n",
    "                assert len(ds[code].shape) == 4\n",
    "                for level in DEFAULT_PRESSURE_LEVELS:\n",
    "                    lev = float(level * 100)\n",
    "                    ds_level = ds[code][indices_by_year[year-year_it]].sel(plev=[lev])\n",
    "                    np_vars[year-year_it][f\"{var}_{level}\"] = ds_level.to_numpy()\n",
    "            \n",
    "    for index in range(5):\n",
    "        for key in np_vars[index].keys():\n",
    "            normalize_mean[index][key] = np_vars[index][key].mean(axis=(0, 2, 3))\n",
    "            normalize_std[index][key] = np_vars[index][key].std(axis=(0, 2, 3))\n",
    "            climatology[index][key] = np_vars[index][key].mean(axis=0)\n",
    "    \n",
    "    for year in range(year_it, year_it + 5):\n",
    "        for shard_id in range(num_shards_per_year):\n",
    "            start_id = shard_id * num_hrs_per_shard\n",
    "            end_id = start_id + num_hrs_per_shard\n",
    "            sharded_data = {k: np_vars[year - year_it][k][start_id:end_id] for k in np_vars[year - year_it].keys()}\n",
    "            np.savez(\n",
    "                os.path.join(save_dir, f\"{year}_{shard_id}.npz\"),\n",
    "                **sharded_data,\n",
    "            )\n",
    "        normalized_mean_data = {k: normalize_mean[year - year_it][k] for k in normalize_mean[year - year_it].keys()}\n",
    "        np.savez(\n",
    "            os.path.join(save_dir, f\"{year}_mean.npz\"),\n",
    "            **normalized_mean_data,\n",
    "        )\n",
    "        normalized_std_data = {k: normalize_std[year - year_it][k] for k in normalize_std[year - year_it].keys()}\n",
    "        np.savez(\n",
    "            os.path.join(save_dir, f\"{year}_std.npz\"),\n",
    "            **normalized_std_data,\n",
    "        )\n",
    "        climatology_data = {k: climatology[year - year_it][k] for k in climatology[year - year_it].keys()}\n",
    "        np.savez(\n",
    "            os.path.join(save_dir, f\"{year}_climatology.npz\"),\n",
    "            **climatology_data,\n",
    "        )"
   ]
  },
  {
   "cell_type": "code",
   "execution_count": 4,
   "metadata": {},
   "outputs": [],
   "source": [
    "def func_mean(ps):\n",
    "    d = dict()\n",
    "    for file in ps:\n",
    "        data = np.load(file)\n",
    "        if d == dict():\n",
    "            d = {k: data[k] for k in data.keys()}\n",
    "        else:\n",
    "            d = {k: np.concatenate((d[k], data[k]), axis=0) for k in data.keys()}\n",
    "    print({k: d[k].shape for k in d.keys()})\n",
    "    d = {k: np.expand_dims(np.mean(d[k], axis=0), axis=0) for k in d.keys()}\n",
    "    print({k: d[k].shape for k in d.keys()})\n",
    "    print(\"end\")\n",
    "    return d"
   ]
  },
  {
   "cell_type": "code",
   "execution_count": 13,
   "metadata": {},
   "outputs": [
    {
     "name": "stdout",
     "output_type": "stream",
     "text": [
      "{'air_temperature': (161,), 'geopotential_50': (161,), 'geopotential_250': (161,), 'geopotential_500': (161,), 'geopotential_600': (161,), 'geopotential_700': (161,), 'geopotential_850': (161,), 'geopotential_925': (161,), 'specific_humidity_50': (161,), 'specific_humidity_250': (161,), 'specific_humidity_500': (161,), 'specific_humidity_600': (161,), 'specific_humidity_700': (161,), 'specific_humidity_850': (161,), 'specific_humidity_925': (161,), 'temperature_50': (161,), 'temperature_250': (161,), 'temperature_500': (161,), 'temperature_600': (161,), 'temperature_700': (161,), 'temperature_850': (161,), 'temperature_925': (161,), 'u_component_of_wind_50': (161,), 'u_component_of_wind_250': (161,), 'u_component_of_wind_500': (161,), 'u_component_of_wind_600': (161,), 'u_component_of_wind_700': (161,), 'u_component_of_wind_850': (161,), 'u_component_of_wind_925': (161,), 'v_component_of_wind_50': (161,), 'v_component_of_wind_250': (161,), 'v_component_of_wind_500': (161,), 'v_component_of_wind_600': (161,), 'v_component_of_wind_700': (161,), 'v_component_of_wind_850': (161,), 'v_component_of_wind_925': (161,)}\n",
      "{'air_temperature': (1,), 'geopotential_50': (1,), 'geopotential_250': (1,), 'geopotential_500': (1,), 'geopotential_600': (1,), 'geopotential_700': (1,), 'geopotential_850': (1,), 'geopotential_925': (1,), 'specific_humidity_50': (1,), 'specific_humidity_250': (1,), 'specific_humidity_500': (1,), 'specific_humidity_600': (1,), 'specific_humidity_700': (1,), 'specific_humidity_850': (1,), 'specific_humidity_925': (1,), 'temperature_50': (1,), 'temperature_250': (1,), 'temperature_500': (1,), 'temperature_600': (1,), 'temperature_700': (1,), 'temperature_850': (1,), 'temperature_925': (1,), 'u_component_of_wind_50': (1,), 'u_component_of_wind_250': (1,), 'u_component_of_wind_500': (1,), 'u_component_of_wind_600': (1,), 'u_component_of_wind_700': (1,), 'u_component_of_wind_850': (1,), 'u_component_of_wind_925': (1,), 'v_component_of_wind_50': (1,), 'v_component_of_wind_250': (1,), 'v_component_of_wind_500': (1,), 'v_component_of_wind_600': (1,), 'v_component_of_wind_700': (1,), 'v_component_of_wind_850': (1,), 'v_component_of_wind_925': (1,)}\n",
      "end\n",
      "{'air_temperature': (2,), 'geopotential_50': (2,), 'geopotential_250': (2,), 'geopotential_500': (2,), 'geopotential_600': (2,), 'geopotential_700': (2,), 'geopotential_850': (2,), 'geopotential_925': (2,), 'specific_humidity_50': (2,), 'specific_humidity_250': (2,), 'specific_humidity_500': (2,), 'specific_humidity_600': (2,), 'specific_humidity_700': (2,), 'specific_humidity_850': (2,), 'specific_humidity_925': (2,), 'temperature_50': (2,), 'temperature_250': (2,), 'temperature_500': (2,), 'temperature_600': (2,), 'temperature_700': (2,), 'temperature_850': (2,), 'temperature_925': (2,), 'u_component_of_wind_50': (2,), 'u_component_of_wind_250': (2,), 'u_component_of_wind_500': (2,), 'u_component_of_wind_600': (2,), 'u_component_of_wind_700': (2,), 'u_component_of_wind_850': (2,), 'u_component_of_wind_925': (2,), 'v_component_of_wind_50': (2,), 'v_component_of_wind_250': (2,), 'v_component_of_wind_500': (2,), 'v_component_of_wind_600': (2,), 'v_component_of_wind_700': (2,), 'v_component_of_wind_850': (2,), 'v_component_of_wind_925': (2,)}\n",
      "{'air_temperature': (1,), 'geopotential_50': (1,), 'geopotential_250': (1,), 'geopotential_500': (1,), 'geopotential_600': (1,), 'geopotential_700': (1,), 'geopotential_850': (1,), 'geopotential_925': (1,), 'specific_humidity_50': (1,), 'specific_humidity_250': (1,), 'specific_humidity_500': (1,), 'specific_humidity_600': (1,), 'specific_humidity_700': (1,), 'specific_humidity_850': (1,), 'specific_humidity_925': (1,), 'temperature_50': (1,), 'temperature_250': (1,), 'temperature_500': (1,), 'temperature_600': (1,), 'temperature_700': (1,), 'temperature_850': (1,), 'temperature_925': (1,), 'u_component_of_wind_50': (1,), 'u_component_of_wind_250': (1,), 'u_component_of_wind_500': (1,), 'u_component_of_wind_600': (1,), 'u_component_of_wind_700': (1,), 'u_component_of_wind_850': (1,), 'u_component_of_wind_925': (1,), 'v_component_of_wind_50': (1,), 'v_component_of_wind_250': (1,), 'v_component_of_wind_500': (1,), 'v_component_of_wind_600': (1,), 'v_component_of_wind_700': (1,), 'v_component_of_wind_850': (1,), 'v_component_of_wind_925': (1,)}\n",
      "end\n",
      "{'air_temperature': (2,), 'geopotential_50': (2,), 'geopotential_250': (2,), 'geopotential_500': (2,), 'geopotential_600': (2,), 'geopotential_700': (2,), 'geopotential_850': (2,), 'geopotential_925': (2,), 'specific_humidity_50': (2,), 'specific_humidity_250': (2,), 'specific_humidity_500': (2,), 'specific_humidity_600': (2,), 'specific_humidity_700': (2,), 'specific_humidity_850': (2,), 'specific_humidity_925': (2,), 'temperature_50': (2,), 'temperature_250': (2,), 'temperature_500': (2,), 'temperature_600': (2,), 'temperature_700': (2,), 'temperature_850': (2,), 'temperature_925': (2,), 'u_component_of_wind_50': (2,), 'u_component_of_wind_250': (2,), 'u_component_of_wind_500': (2,), 'u_component_of_wind_600': (2,), 'u_component_of_wind_700': (2,), 'u_component_of_wind_850': (2,), 'u_component_of_wind_925': (2,), 'v_component_of_wind_50': (2,), 'v_component_of_wind_250': (2,), 'v_component_of_wind_500': (2,), 'v_component_of_wind_600': (2,), 'v_component_of_wind_700': (2,), 'v_component_of_wind_850': (2,), 'v_component_of_wind_925': (2,)}\n",
      "{'air_temperature': (1,), 'geopotential_50': (1,), 'geopotential_250': (1,), 'geopotential_500': (1,), 'geopotential_600': (1,), 'geopotential_700': (1,), 'geopotential_850': (1,), 'geopotential_925': (1,), 'specific_humidity_50': (1,), 'specific_humidity_250': (1,), 'specific_humidity_500': (1,), 'specific_humidity_600': (1,), 'specific_humidity_700': (1,), 'specific_humidity_850': (1,), 'specific_humidity_925': (1,), 'temperature_50': (1,), 'temperature_250': (1,), 'temperature_500': (1,), 'temperature_600': (1,), 'temperature_700': (1,), 'temperature_850': (1,), 'temperature_925': (1,), 'u_component_of_wind_50': (1,), 'u_component_of_wind_250': (1,), 'u_component_of_wind_500': (1,), 'u_component_of_wind_600': (1,), 'u_component_of_wind_700': (1,), 'u_component_of_wind_850': (1,), 'u_component_of_wind_925': (1,), 'v_component_of_wind_50': (1,), 'v_component_of_wind_250': (1,), 'v_component_of_wind_500': (1,), 'v_component_of_wind_600': (1,), 'v_component_of_wind_700': (1,), 'v_component_of_wind_850': (1,), 'v_component_of_wind_925': (1,)}\n",
      "end\n",
      "{'air_temperature': (161, 64, 128), 'geopotential_50': (161, 64, 128), 'geopotential_250': (161, 64, 128), 'geopotential_500': (161, 64, 128), 'geopotential_600': (161, 64, 128), 'geopotential_700': (161, 64, 128), 'geopotential_850': (161, 64, 128), 'geopotential_925': (161, 64, 128), 'specific_humidity_50': (161, 64, 128), 'specific_humidity_250': (161, 64, 128), 'specific_humidity_500': (161, 64, 128), 'specific_humidity_600': (161, 64, 128), 'specific_humidity_700': (161, 64, 128), 'specific_humidity_850': (161, 64, 128), 'specific_humidity_925': (161, 64, 128), 'temperature_50': (161, 64, 128), 'temperature_250': (161, 64, 128), 'temperature_500': (161, 64, 128), 'temperature_600': (161, 64, 128), 'temperature_700': (161, 64, 128), 'temperature_850': (161, 64, 128), 'temperature_925': (161, 64, 128), 'u_component_of_wind_50': (161, 64, 128), 'u_component_of_wind_250': (161, 64, 128), 'u_component_of_wind_500': (161, 64, 128), 'u_component_of_wind_600': (161, 64, 128), 'u_component_of_wind_700': (161, 64, 128), 'u_component_of_wind_850': (161, 64, 128), 'u_component_of_wind_925': (161, 64, 128), 'v_component_of_wind_50': (161, 64, 128), 'v_component_of_wind_250': (161, 64, 128), 'v_component_of_wind_500': (161, 64, 128), 'v_component_of_wind_600': (161, 64, 128), 'v_component_of_wind_700': (161, 64, 128), 'v_component_of_wind_850': (161, 64, 128), 'v_component_of_wind_925': (161, 64, 128)}\n",
      "{'air_temperature': (1, 64, 128), 'geopotential_50': (1, 64, 128), 'geopotential_250': (1, 64, 128), 'geopotential_500': (1, 64, 128), 'geopotential_600': (1, 64, 128), 'geopotential_700': (1, 64, 128), 'geopotential_850': (1, 64, 128), 'geopotential_925': (1, 64, 128), 'specific_humidity_50': (1, 64, 128), 'specific_humidity_250': (1, 64, 128), 'specific_humidity_500': (1, 64, 128), 'specific_humidity_600': (1, 64, 128), 'specific_humidity_700': (1, 64, 128), 'specific_humidity_850': (1, 64, 128), 'specific_humidity_925': (1, 64, 128), 'temperature_50': (1, 64, 128), 'temperature_250': (1, 64, 128), 'temperature_500': (1, 64, 128), 'temperature_600': (1, 64, 128), 'temperature_700': (1, 64, 128), 'temperature_850': (1, 64, 128), 'temperature_925': (1, 64, 128), 'u_component_of_wind_50': (1, 64, 128), 'u_component_of_wind_250': (1, 64, 128), 'u_component_of_wind_500': (1, 64, 128), 'u_component_of_wind_600': (1, 64, 128), 'u_component_of_wind_700': (1, 64, 128), 'u_component_of_wind_850': (1, 64, 128), 'u_component_of_wind_925': (1, 64, 128), 'v_component_of_wind_50': (1, 64, 128), 'v_component_of_wind_250': (1, 64, 128), 'v_component_of_wind_500': (1, 64, 128), 'v_component_of_wind_600': (1, 64, 128), 'v_component_of_wind_700': (1, 64, 128), 'v_component_of_wind_850': (1, 64, 128), 'v_component_of_wind_925': (1, 64, 128)}\n",
      "end\n",
      "{'air_temperature': (2, 64, 128), 'geopotential_50': (2, 64, 128), 'geopotential_250': (2, 64, 128), 'geopotential_500': (2, 64, 128), 'geopotential_600': (2, 64, 128), 'geopotential_700': (2, 64, 128), 'geopotential_850': (2, 64, 128), 'geopotential_925': (2, 64, 128), 'specific_humidity_50': (2, 64, 128), 'specific_humidity_250': (2, 64, 128), 'specific_humidity_500': (2, 64, 128), 'specific_humidity_600': (2, 64, 128), 'specific_humidity_700': (2, 64, 128), 'specific_humidity_850': (2, 64, 128), 'specific_humidity_925': (2, 64, 128), 'temperature_50': (2, 64, 128), 'temperature_250': (2, 64, 128), 'temperature_500': (2, 64, 128), 'temperature_600': (2, 64, 128), 'temperature_700': (2, 64, 128), 'temperature_850': (2, 64, 128), 'temperature_925': (2, 64, 128), 'u_component_of_wind_50': (2, 64, 128), 'u_component_of_wind_250': (2, 64, 128), 'u_component_of_wind_500': (2, 64, 128), 'u_component_of_wind_600': (2, 64, 128), 'u_component_of_wind_700': (2, 64, 128), 'u_component_of_wind_850': (2, 64, 128), 'u_component_of_wind_925': (2, 64, 128), 'v_component_of_wind_50': (2, 64, 128), 'v_component_of_wind_250': (2, 64, 128), 'v_component_of_wind_500': (2, 64, 128), 'v_component_of_wind_600': (2, 64, 128), 'v_component_of_wind_700': (2, 64, 128), 'v_component_of_wind_850': (2, 64, 128), 'v_component_of_wind_925': (2, 64, 128)}\n",
      "{'air_temperature': (1, 64, 128), 'geopotential_50': (1, 64, 128), 'geopotential_250': (1, 64, 128), 'geopotential_500': (1, 64, 128), 'geopotential_600': (1, 64, 128), 'geopotential_700': (1, 64, 128), 'geopotential_850': (1, 64, 128), 'geopotential_925': (1, 64, 128), 'specific_humidity_50': (1, 64, 128), 'specific_humidity_250': (1, 64, 128), 'specific_humidity_500': (1, 64, 128), 'specific_humidity_600': (1, 64, 128), 'specific_humidity_700': (1, 64, 128), 'specific_humidity_850': (1, 64, 128), 'specific_humidity_925': (1, 64, 128), 'temperature_50': (1, 64, 128), 'temperature_250': (1, 64, 128), 'temperature_500': (1, 64, 128), 'temperature_600': (1, 64, 128), 'temperature_700': (1, 64, 128), 'temperature_850': (1, 64, 128), 'temperature_925': (1, 64, 128), 'u_component_of_wind_50': (1, 64, 128), 'u_component_of_wind_250': (1, 64, 128), 'u_component_of_wind_500': (1, 64, 128), 'u_component_of_wind_600': (1, 64, 128), 'u_component_of_wind_700': (1, 64, 128), 'u_component_of_wind_850': (1, 64, 128), 'u_component_of_wind_925': (1, 64, 128), 'v_component_of_wind_50': (1, 64, 128), 'v_component_of_wind_250': (1, 64, 128), 'v_component_of_wind_500': (1, 64, 128), 'v_component_of_wind_600': (1, 64, 128), 'v_component_of_wind_700': (1, 64, 128), 'v_component_of_wind_850': (1, 64, 128), 'v_component_of_wind_925': (1, 64, 128)}\n",
      "end\n",
      "{'air_temperature': (2, 64, 128), 'geopotential_50': (2, 64, 128), 'geopotential_250': (2, 64, 128), 'geopotential_500': (2, 64, 128), 'geopotential_600': (2, 64, 128), 'geopotential_700': (2, 64, 128), 'geopotential_850': (2, 64, 128), 'geopotential_925': (2, 64, 128), 'specific_humidity_50': (2, 64, 128), 'specific_humidity_250': (2, 64, 128), 'specific_humidity_500': (2, 64, 128), 'specific_humidity_600': (2, 64, 128), 'specific_humidity_700': (2, 64, 128), 'specific_humidity_850': (2, 64, 128), 'specific_humidity_925': (2, 64, 128), 'temperature_50': (2, 64, 128), 'temperature_250': (2, 64, 128), 'temperature_500': (2, 64, 128), 'temperature_600': (2, 64, 128), 'temperature_700': (2, 64, 128), 'temperature_850': (2, 64, 128), 'temperature_925': (2, 64, 128), 'u_component_of_wind_50': (2, 64, 128), 'u_component_of_wind_250': (2, 64, 128), 'u_component_of_wind_500': (2, 64, 128), 'u_component_of_wind_600': (2, 64, 128), 'u_component_of_wind_700': (2, 64, 128), 'u_component_of_wind_850': (2, 64, 128), 'u_component_of_wind_925': (2, 64, 128), 'v_component_of_wind_50': (2, 64, 128), 'v_component_of_wind_250': (2, 64, 128), 'v_component_of_wind_500': (2, 64, 128), 'v_component_of_wind_600': (2, 64, 128), 'v_component_of_wind_700': (2, 64, 128), 'v_component_of_wind_850': (2, 64, 128), 'v_component_of_wind_925': (2, 64, 128)}\n",
      "{'air_temperature': (1, 64, 128), 'geopotential_50': (1, 64, 128), 'geopotential_250': (1, 64, 128), 'geopotential_500': (1, 64, 128), 'geopotential_600': (1, 64, 128), 'geopotential_700': (1, 64, 128), 'geopotential_850': (1, 64, 128), 'geopotential_925': (1, 64, 128), 'specific_humidity_50': (1, 64, 128), 'specific_humidity_250': (1, 64, 128), 'specific_humidity_500': (1, 64, 128), 'specific_humidity_600': (1, 64, 128), 'specific_humidity_700': (1, 64, 128), 'specific_humidity_850': (1, 64, 128), 'specific_humidity_925': (1, 64, 128), 'temperature_50': (1, 64, 128), 'temperature_250': (1, 64, 128), 'temperature_500': (1, 64, 128), 'temperature_600': (1, 64, 128), 'temperature_700': (1, 64, 128), 'temperature_850': (1, 64, 128), 'temperature_925': (1, 64, 128), 'u_component_of_wind_50': (1, 64, 128), 'u_component_of_wind_250': (1, 64, 128), 'u_component_of_wind_500': (1, 64, 128), 'u_component_of_wind_600': (1, 64, 128), 'u_component_of_wind_700': (1, 64, 128), 'u_component_of_wind_850': (1, 64, 128), 'u_component_of_wind_925': (1, 64, 128), 'v_component_of_wind_50': (1, 64, 128), 'v_component_of_wind_250': (1, 64, 128), 'v_component_of_wind_500': (1, 64, 128), 'v_component_of_wind_600': (1, 64, 128), 'v_component_of_wind_700': (1, 64, 128), 'v_component_of_wind_850': (1, 64, 128), 'v_component_of_wind_925': (1, 64, 128)}\n",
      "end\n"
     ]
    }
   ],
   "source": [
    "res = \"2.8125deg\"\n",
    "save_dir_path = f\"/data0/datasets/weatherbench/data/esgf/cmip6/{res}_npz\"\n",
    "\n",
    "ps = glob.glob(os.path.join(save_dir_path, f\"train/*_mean.npz\"))\n",
    "train_mean = func_mean(ps)\n",
    "\n",
    "ps = glob.glob(os.path.join(save_dir_path, f\"val/*_mean.npz\"))\n",
    "val_mean = func_mean(ps)\n",
    "\n",
    "ps = glob.glob(os.path.join(save_dir_path, f\"test/*_mean.npz\"))\n",
    "test_mean = func_mean(ps)\n",
    "\n",
    "ps = glob.glob(os.path.join(save_dir_path, f\"train/*_climatology.npz\"))\n",
    "train_clim = func_mean(ps)\n",
    "\n",
    "ps = glob.glob(os.path.join(save_dir_path, f\"val/*_climatology.npz\"))\n",
    "val_clim = func_mean(ps)\n",
    "\n",
    "ps = glob.glob(os.path.join(save_dir_path, f\"test/*_climatology.npz\"))\n",
    "test_clim = func_mean(ps)"
   ]
  },
  {
   "cell_type": "code",
   "execution_count": 14,
   "metadata": {},
   "outputs": [],
   "source": [
    "def f1(ps):\n",
    "    d = dict()\n",
    "    for file in ps:\n",
    "        data = np.load(file)\n",
    "        if d == dict():\n",
    "            d = {k: data[k] for k in data.keys()}\n",
    "        else:\n",
    "            d = {k: np.concatenate((d[k], data[k]), axis=0) for k in data.keys()}\n",
    "    print({k: d[k].shape for k in d.keys()})\n",
    "    print(\"end\")\n",
    "    return d"
   ]
  },
  {
   "cell_type": "code",
   "execution_count": 16,
   "metadata": {},
   "outputs": [
    {
     "name": "stdout",
     "output_type": "stream",
     "text": [
      "{'air_temperature': (161,), 'geopotential_50': (161,), 'geopotential_250': (161,), 'geopotential_500': (161,), 'geopotential_600': (161,), 'geopotential_700': (161,), 'geopotential_850': (161,), 'geopotential_925': (161,), 'specific_humidity_50': (161,), 'specific_humidity_250': (161,), 'specific_humidity_500': (161,), 'specific_humidity_600': (161,), 'specific_humidity_700': (161,), 'specific_humidity_850': (161,), 'specific_humidity_925': (161,), 'temperature_50': (161,), 'temperature_250': (161,), 'temperature_500': (161,), 'temperature_600': (161,), 'temperature_700': (161,), 'temperature_850': (161,), 'temperature_925': (161,), 'u_component_of_wind_50': (161,), 'u_component_of_wind_250': (161,), 'u_component_of_wind_500': (161,), 'u_component_of_wind_600': (161,), 'u_component_of_wind_700': (161,), 'u_component_of_wind_850': (161,), 'u_component_of_wind_925': (161,), 'v_component_of_wind_50': (161,), 'v_component_of_wind_250': (161,), 'v_component_of_wind_500': (161,), 'v_component_of_wind_600': (161,), 'v_component_of_wind_700': (161,), 'v_component_of_wind_850': (161,), 'v_component_of_wind_925': (161,)}\n",
      "end\n",
      "{'air_temperature': (2,), 'geopotential_50': (2,), 'geopotential_250': (2,), 'geopotential_500': (2,), 'geopotential_600': (2,), 'geopotential_700': (2,), 'geopotential_850': (2,), 'geopotential_925': (2,), 'specific_humidity_50': (2,), 'specific_humidity_250': (2,), 'specific_humidity_500': (2,), 'specific_humidity_600': (2,), 'specific_humidity_700': (2,), 'specific_humidity_850': (2,), 'specific_humidity_925': (2,), 'temperature_50': (2,), 'temperature_250': (2,), 'temperature_500': (2,), 'temperature_600': (2,), 'temperature_700': (2,), 'temperature_850': (2,), 'temperature_925': (2,), 'u_component_of_wind_50': (2,), 'u_component_of_wind_250': (2,), 'u_component_of_wind_500': (2,), 'u_component_of_wind_600': (2,), 'u_component_of_wind_700': (2,), 'u_component_of_wind_850': (2,), 'u_component_of_wind_925': (2,), 'v_component_of_wind_50': (2,), 'v_component_of_wind_250': (2,), 'v_component_of_wind_500': (2,), 'v_component_of_wind_600': (2,), 'v_component_of_wind_700': (2,), 'v_component_of_wind_850': (2,), 'v_component_of_wind_925': (2,)}\n",
      "end\n",
      "{'air_temperature': (2,), 'geopotential_50': (2,), 'geopotential_250': (2,), 'geopotential_500': (2,), 'geopotential_600': (2,), 'geopotential_700': (2,), 'geopotential_850': (2,), 'geopotential_925': (2,), 'specific_humidity_50': (2,), 'specific_humidity_250': (2,), 'specific_humidity_500': (2,), 'specific_humidity_600': (2,), 'specific_humidity_700': (2,), 'specific_humidity_850': (2,), 'specific_humidity_925': (2,), 'temperature_50': (2,), 'temperature_250': (2,), 'temperature_500': (2,), 'temperature_600': (2,), 'temperature_700': (2,), 'temperature_850': (2,), 'temperature_925': (2,), 'u_component_of_wind_50': (2,), 'u_component_of_wind_250': (2,), 'u_component_of_wind_500': (2,), 'u_component_of_wind_600': (2,), 'u_component_of_wind_700': (2,), 'u_component_of_wind_850': (2,), 'u_component_of_wind_925': (2,), 'v_component_of_wind_50': (2,), 'v_component_of_wind_250': (2,), 'v_component_of_wind_500': (2,), 'v_component_of_wind_600': (2,), 'v_component_of_wind_700': (2,), 'v_component_of_wind_850': (2,), 'v_component_of_wind_925': (2,)}\n",
      "end\n",
      "{'air_temperature': (161,), 'geopotential_50': (161,), 'geopotential_250': (161,), 'geopotential_500': (161,), 'geopotential_600': (161,), 'geopotential_700': (161,), 'geopotential_850': (161,), 'geopotential_925': (161,), 'specific_humidity_50': (161,), 'specific_humidity_250': (161,), 'specific_humidity_500': (161,), 'specific_humidity_600': (161,), 'specific_humidity_700': (161,), 'specific_humidity_850': (161,), 'specific_humidity_925': (161,), 'temperature_50': (161,), 'temperature_250': (161,), 'temperature_500': (161,), 'temperature_600': (161,), 'temperature_700': (161,), 'temperature_850': (161,), 'temperature_925': (161,), 'u_component_of_wind_50': (161,), 'u_component_of_wind_250': (161,), 'u_component_of_wind_500': (161,), 'u_component_of_wind_600': (161,), 'u_component_of_wind_700': (161,), 'u_component_of_wind_850': (161,), 'u_component_of_wind_925': (161,), 'v_component_of_wind_50': (161,), 'v_component_of_wind_250': (161,), 'v_component_of_wind_500': (161,), 'v_component_of_wind_600': (161,), 'v_component_of_wind_700': (161,), 'v_component_of_wind_850': (161,), 'v_component_of_wind_925': (161,)}\n",
      "end\n",
      "{'air_temperature': (2,), 'geopotential_50': (2,), 'geopotential_250': (2,), 'geopotential_500': (2,), 'geopotential_600': (2,), 'geopotential_700': (2,), 'geopotential_850': (2,), 'geopotential_925': (2,), 'specific_humidity_50': (2,), 'specific_humidity_250': (2,), 'specific_humidity_500': (2,), 'specific_humidity_600': (2,), 'specific_humidity_700': (2,), 'specific_humidity_850': (2,), 'specific_humidity_925': (2,), 'temperature_50': (2,), 'temperature_250': (2,), 'temperature_500': (2,), 'temperature_600': (2,), 'temperature_700': (2,), 'temperature_850': (2,), 'temperature_925': (2,), 'u_component_of_wind_50': (2,), 'u_component_of_wind_250': (2,), 'u_component_of_wind_500': (2,), 'u_component_of_wind_600': (2,), 'u_component_of_wind_700': (2,), 'u_component_of_wind_850': (2,), 'u_component_of_wind_925': (2,), 'v_component_of_wind_50': (2,), 'v_component_of_wind_250': (2,), 'v_component_of_wind_500': (2,), 'v_component_of_wind_600': (2,), 'v_component_of_wind_700': (2,), 'v_component_of_wind_850': (2,), 'v_component_of_wind_925': (2,)}\n",
      "end\n",
      "{'air_temperature': (2,), 'geopotential_50': (2,), 'geopotential_250': (2,), 'geopotential_500': (2,), 'geopotential_600': (2,), 'geopotential_700': (2,), 'geopotential_850': (2,), 'geopotential_925': (2,), 'specific_humidity_50': (2,), 'specific_humidity_250': (2,), 'specific_humidity_500': (2,), 'specific_humidity_600': (2,), 'specific_humidity_700': (2,), 'specific_humidity_850': (2,), 'specific_humidity_925': (2,), 'temperature_50': (2,), 'temperature_250': (2,), 'temperature_500': (2,), 'temperature_600': (2,), 'temperature_700': (2,), 'temperature_850': (2,), 'temperature_925': (2,), 'u_component_of_wind_50': (2,), 'u_component_of_wind_250': (2,), 'u_component_of_wind_500': (2,), 'u_component_of_wind_600': (2,), 'u_component_of_wind_700': (2,), 'u_component_of_wind_850': (2,), 'u_component_of_wind_925': (2,), 'v_component_of_wind_50': (2,), 'v_component_of_wind_250': (2,), 'v_component_of_wind_500': (2,), 'v_component_of_wind_600': (2,), 'v_component_of_wind_700': (2,), 'v_component_of_wind_850': (2,), 'v_component_of_wind_925': (2,)}\n",
      "end\n"
     ]
    }
   ],
   "source": [
    "ps = glob.glob(os.path.join(save_dir_path, f\"train/*_mean.npz\"))\n",
    "train_dmean = f1(ps)\n",
    "\n",
    "ps = glob.glob(os.path.join(save_dir_path, f\"val/*_mean.npz\"))\n",
    "val_dmean = f1(ps)\n",
    "\n",
    "ps = glob.glob(os.path.join(save_dir_path, f\"test/*_mean.npz\"))\n",
    "test_dmean = f1(ps)\n",
    "\n",
    "ps = glob.glob(os.path.join(save_dir_path, f\"train/*_std.npz\"))\n",
    "train_dstd = f1(ps)\n",
    "\n",
    "ps = glob.glob(os.path.join(save_dir_path, f\"val/*_std.npz\"))\n",
    "val_dstd = f1(ps)\n",
    "\n",
    "ps = glob.glob(os.path.join(save_dir_path, f\"test/*_std.npz\"))\n",
    "test_dstd = f1(ps)"
   ]
  },
  {
   "cell_type": "code",
   "execution_count": 17,
   "metadata": {},
   "outputs": [],
   "source": [
    "def get_std(dmean, dstd):\n",
    "    ds ={}\n",
    "    for var in dmean.keys():\n",
    "        mean, std = dmean[var], dstd[var]\n",
    "        variance = (\n",
    "            (std**2).mean(axis=0)\n",
    "            + (mean**2).mean(axis=0)\n",
    "            - mean.mean(axis=0) ** 2\n",
    "        )\n",
    "        std = np.sqrt(variance)\n",
    "        ds[var] = np.expand_dims(std, axis=0)\n",
    "    return ds\n"
   ]
  },
  {
   "cell_type": "code",
   "execution_count": 18,
   "metadata": {},
   "outputs": [],
   "source": [
    "train_std = get_std(train_dmean, train_dstd)\n",
    "val_std = get_std(val_dmean, val_dstd)\n",
    "test_std = get_std(test_dmean, test_dstd)"
   ]
  },
  {
   "cell_type": "code",
   "execution_count": 19,
   "metadata": {},
   "outputs": [],
   "source": [
    "np.savez(\n",
    "    os.path.join(save_dir_path, f\"train/climatology.npz\"),\n",
    "    **train_clim,\n",
    ")\n",
    "\n",
    "np.savez(\n",
    "    os.path.join(save_dir_path, f\"val/climatology.npz\"),\n",
    "    **val_clim,\n",
    ")\n",
    "\n",
    "np.savez(\n",
    "    os.path.join(save_dir_path, f\"test/climatology.npz\"),\n",
    "    **test_clim,\n",
    ")"
   ]
  },
  {
   "cell_type": "code",
   "execution_count": 20,
   "metadata": {},
   "outputs": [],
   "source": [
    "np.savez(\n",
    "    os.path.join(save_dir_path, f\"train/normalize_std.npz\"),\n",
    "    **train_std,\n",
    ")\n",
    "\n",
    "np.savez(\n",
    "    os.path.join(save_dir_path, f\"val/normalize_std.npz\"),\n",
    "    **val_std,\n",
    ")\n",
    "\n",
    "np.savez(\n",
    "    os.path.join(save_dir_path, f\"test/normalize_std.npz\"),\n",
    "    **test_std,\n",
    ")\n",
    "\n",
    "np.savez(\n",
    "    os.path.join(save_dir_path, f\"train/normalize_mean.npz\"),\n",
    "    **train_mean,\n",
    ")\n",
    "\n",
    "np.savez(\n",
    "    os.path.join(save_dir_path, f\"val/normalize_mean.npz\"),\n",
    "    **val_mean,\n",
    ")\n",
    "\n",
    "np.savez(\n",
    "    os.path.join(save_dir_path, f\"test/normalize_mean.npz\"),\n",
    "    **test_mean,\n",
    ")"
   ]
  },
  {
   "cell_type": "code",
   "execution_count": 22,
   "metadata": {},
   "outputs": [
    {
     "name": "stdout",
     "output_type": "stream",
     "text": [
      "<numpy.lib.npyio.NpzFile object at 0x7fdd20935a00>\n"
     ]
    },
    {
     "data": {
      "text/plain": [
       "{'air_temperature': (1,),\n",
       " 'geopotential_50': (1,),\n",
       " 'geopotential_250': (1,),\n",
       " 'geopotential_500': (1,),\n",
       " 'geopotential_600': (1,),\n",
       " 'geopotential_700': (1,),\n",
       " 'geopotential_850': (1,),\n",
       " 'geopotential_925': (1,),\n",
       " 'specific_humidity_50': (1,),\n",
       " 'specific_humidity_250': (1,),\n",
       " 'specific_humidity_500': (1,),\n",
       " 'specific_humidity_600': (1,),\n",
       " 'specific_humidity_700': (1,),\n",
       " 'specific_humidity_850': (1,),\n",
       " 'specific_humidity_925': (1,),\n",
       " 'temperature_50': (1,),\n",
       " 'temperature_250': (1,),\n",
       " 'temperature_500': (1,),\n",
       " 'temperature_600': (1,),\n",
       " 'temperature_700': (1,),\n",
       " 'temperature_850': (1,),\n",
       " 'temperature_925': (1,),\n",
       " 'u_component_of_wind_50': (1,),\n",
       " 'u_component_of_wind_250': (1,),\n",
       " 'u_component_of_wind_500': (1,),\n",
       " 'u_component_of_wind_600': (1,),\n",
       " 'u_component_of_wind_700': (1,),\n",
       " 'u_component_of_wind_850': (1,),\n",
       " 'u_component_of_wind_925': (1,),\n",
       " 'v_component_of_wind_50': (1,),\n",
       " 'v_component_of_wind_250': (1,),\n",
       " 'v_component_of_wind_500': (1,),\n",
       " 'v_component_of_wind_600': (1,),\n",
       " 'v_component_of_wind_700': (1,),\n",
       " 'v_component_of_wind_850': (1,),\n",
       " 'v_component_of_wind_925': (1,)}"
      ]
     },
     "execution_count": 22,
     "metadata": {},
     "output_type": "execute_result"
    }
   ],
   "source": [
    "xyz = np.load(save_dir_path + \"/normalize_std.npz\")\n",
    "\n",
    "print(xyz)\n",
    "{k: xyz[k].shape for k in xyz.keys()}"
   ]
  },
  {
   "cell_type": "code",
   "execution_count": null,
   "metadata": {},
   "outputs": [],
   "source": [
    "save_dir_path"
   ]
  },
  {
   "cell_type": "code",
   "execution_count": 25,
   "metadata": {},
   "outputs": [],
   "source": [
    "res = \"5.625deg\"\n",
    "path = f\"/data0/datasets/weatherbench/data/esgf/cmip6/{res}\"\n",
    "save_dir = f\"/data0/datasets/weatherbench/data/esgf/cmip6/{res}_npz\"\n",
    "year_it = 1850\n",
    "var = variables[0]\n",
    "year_string = f\"{year_it}01010600-{year_it + 5}01010000\"\n",
    "ps = glob.glob(os.path.join(path, var, f\"*{year_string}_{res}.nc\"))\n",
    "ds = xr.load_dataset(ps[0])"
   ]
  },
  {
   "cell_type": "code",
   "execution_count": 26,
   "metadata": {},
   "outputs": [],
   "source": [
    "lat = np.array(ds[\"lat\"])\n",
    "lon = np.array(ds[\"lon\"])\n",
    "np.save(os.path.join(save_dir, \"lat.npy\"), lat)\n",
    "np.save(os.path.join(save_dir, \"lon.npy\"), lon)"
   ]
  },
  {
   "cell_type": "code",
   "execution_count": null,
   "metadata": {},
   "outputs": [],
   "source": [
    "lat"
   ]
  },
  {
   "cell_type": "code",
   "execution_count": null,
   "metadata": {},
   "outputs": [],
   "source": [
    "xyz = np.load(os.path.join(save_dir, \"lat.npy\"))\n",
    "print(xyz)"
   ]
  },
  {
   "cell_type": "code",
   "execution_count": null,
   "metadata": {},
   "outputs": [],
   "source": [
    "import numpy as np\n",
    "res = \"5.625deg\"\n",
    "era5_path = f\"/data0/datasets/weatherbench/data/weatherbench/era5/{res}_npz/\"\n",
    "cmip6_path = f\"/data0/datasets/weatherbench/data/esgf/cmip6/{res}_npz/\"\n",
    "\n",
    "xyz = np.load(era5_path + \"/train/climatology.npz\")\n",
    "abc = np.load(cmip6_path + \"/train/climatology.npz\")\n",
    "for key in xyz.keys():\n",
    "    print(xyz[key].shape)\n",
    "\n",
    "for key in abc.keys():\n",
    "    print(abc[key].shape)"
   ]
  },
  {
   "cell_type": "code",
   "execution_count": null,
   "metadata": {},
   "outputs": [],
   "source": [
    "xyz = np.load(era5_path + \"/normalize_mean.npz\")\n",
    "abc = np.load(cmip6_path + \"/normalize_mean.npz\")\n",
    "for key in xyz.keys():\n",
    "    print(xyz[key].shape)\n",
    "\n",
    "for key in abc.keys():\n",
    "    print(abc[key].shape)"
   ]
  },
  {
   "cell_type": "code",
   "execution_count": null,
   "metadata": {},
   "outputs": [],
   "source": []
  }
 ],
 "metadata": {
  "kernelspec": {
   "display_name": "cl_exp",
   "language": "python",
   "name": "python3"
  },
  "language_info": {
   "codemirror_mode": {
    "name": "ipython",
    "version": 3
   },
   "file_extension": ".py",
   "mimetype": "text/x-python",
   "name": "python",
   "nbconvert_exporter": "python",
   "pygments_lexer": "ipython3",
   "version": "3.9.16"
  },
  "orig_nbformat": 4
 },
 "nbformat": 4,
 "nbformat_minor": 2
}
