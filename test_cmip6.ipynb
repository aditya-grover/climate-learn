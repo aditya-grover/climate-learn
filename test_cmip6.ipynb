{
 "cells": [
  {
   "cell_type": "code",
   "execution_count": 1,
   "metadata": {},
   "outputs": [],
   "source": [
    "import glob\n",
    "import os\n",
    "import numpy as np\n",
    "import xarray as xr\n",
    "import netCDF4 as nc\n",
    "import pandas as pd"
   ]
  },
  {
   "cell_type": "code",
   "execution_count": 2,
   "metadata": {},
   "outputs": [],
   "source": [
    "NAME_TO_VAR = {\n",
    "    \"geopotential\": \"zg\",\n",
    "    \"u_component_of_wind\": \"u\",\n",
    "    \"v_component_of_wind\": \"v\",\n",
    "    \"temperature\": \"ta\",\n",
    "    \"specific_humidity\": \"hus\",\n",
    "    \"air_temperature\": \"tas\",\n",
    "}\n",
    "\n",
    "variables = [\n",
    "    \"air_temperature\",\n",
    "    \"geopotential\",\n",
    "    \"specific_humidity\",\n",
    "    \"temperature\",\n",
    "    \"u_component_of_wind\",\n",
    "    \"v_component_of_wind\"\n",
    "]\n",
    "res = \"5.625deg\"\n",
    "path = f\"/data0/datasets/weatherbench/data/esgf/cmip6/{res}\"\n",
    "\n",
    "HOURS_PER_YEAR = 1456\n",
    "DEFAULT_PRESSURE_LEVELS = [50, 250, 500, 600, 700, 850, 925]\n",
    "num_shards_per_year = 4\n",
    "assert HOURS_PER_YEAR % num_shards_per_year == 0\n",
    "num_hrs_per_shard = HOURS_PER_YEAR // num_shards_per_year"
   ]
  },
  {
   "cell_type": "code",
   "execution_count": 3,
   "metadata": {},
   "outputs": [
    {
     "name": "stdout",
     "output_type": "stream",
     "text": [
      "1975\n",
      "1980\n",
      "1985\n",
      "1990\n",
      "1995\n",
      "2000\n",
      "2005\n",
      "2010\n"
     ]
    }
   ],
   "source": [
    "save_dir = f\"/data0/datasets/weatherbench/data/esgf/cmip6/new_cmip/{res}_npz\"\n",
    "years_it = range(1975, 2014, 5)\n",
    "for year_it in years_it:\n",
    "    print(year_it)\n",
    "    year_string = f\"{year_it}01010600-{year_it + 5}01010000\"\n",
    "    np_vars = [{} for _ in range(5)]\n",
    "    normalize_mean = [{} for _ in range(5)]\n",
    "    normalize_std = [{} for _ in range(5)]\n",
    "    climatology = [{} for _ in range(5)]\n",
    "    for var in variables:\n",
    "        ps = glob.glob(os.path.join(path, var, f\"*{year_string}_{res}.nc\"))\n",
    "        ds = xr.load_dataset(ps[0])\n",
    "        code = NAME_TO_VAR[var]\n",
    "        years = pd.DatetimeIndex(ds[\"time\"].values).year\n",
    "        indices_by_year = [[] for _ in range(5)]\n",
    "        for index, year in enumerate(years):\n",
    "            if year >= year_it and year < year_it + 5:\n",
    "                indices_by_year[year-year_it].append(index)\n",
    "        for index in range(5):\n",
    "            indices_by_year[index] = indices_by_year[index][-HOURS_PER_YEAR:]\n",
    "\n",
    "        for year in range(year_it, year_it + 5):\n",
    "            if len(ds[code].shape) == 3:\n",
    "                np_vars[year-year_it][var] = np.expand_dims((ds[code][indices_by_year[year-year_it]]).to_numpy(), axis=1)\n",
    "            else:\n",
    "                assert len(ds[code].shape) == 4\n",
    "                for level in DEFAULT_PRESSURE_LEVELS:\n",
    "                    lev = float(level * 100)\n",
    "                    ds_level = ds[code][indices_by_year[year-year_it]].sel(plev=[lev])\n",
    "                    np_vars[year-year_it][f\"{var}_{level}\"] = ds_level.to_numpy()\n",
    "            \n",
    "    for index in range(5):\n",
    "        for key in np_vars[index].keys():\n",
    "            normalize_mean[index][key] = np_vars[index][key].mean(axis=(0, 2, 3))\n",
    "            normalize_std[index][key] = np_vars[index][key].std(axis=(0, 2, 3))\n",
    "            climatology[index][key] = np_vars[index][key].mean(axis=0)\n",
    "    \n",
    "    for year in range(year_it, year_it + 5):\n",
    "        for shard_id in range(num_shards_per_year):\n",
    "            start_id = shard_id * num_hrs_per_shard\n",
    "            end_id = start_id + num_hrs_per_shard\n",
    "            sharded_data = {k: np_vars[year - year_it][k][start_id:end_id] for k in np_vars[year - year_it].keys()}\n",
    "            np.savez(\n",
    "                os.path.join(save_dir, f\"{year}_{shard_id}.npz\"),\n",
    "                **sharded_data,\n",
    "            )\n",
    "        normalized_mean_data = {k: normalize_mean[year - year_it][k] for k in normalize_mean[year - year_it].keys()}\n",
    "        np.savez(\n",
    "            os.path.join(save_dir, f\"{year}_mean.npz\"),\n",
    "            **normalized_mean_data,\n",
    "        )\n",
    "        normalized_std_data = {k: normalize_std[year - year_it][k] for k in normalize_std[year - year_it].keys()}\n",
    "        np.savez(\n",
    "            os.path.join(save_dir, f\"{year}_std.npz\"),\n",
    "            **normalized_std_data,\n",
    "        )\n",
    "        climatology_data = {k: climatology[year - year_it][k] for k in climatology[year - year_it].keys()}\n",
    "        np.savez(\n",
    "            os.path.join(save_dir, f\"{year}_climatology.npz\"),\n",
    "            **climatology_data,\n",
    "        )"
   ]
  },
  {
   "cell_type": "code",
   "execution_count": 4,
   "metadata": {},
   "outputs": [],
   "source": [
    "def func_mean(ps):\n",
    "    d = dict()\n",
    "    for file in ps:\n",
    "        data = np.load(file)\n",
    "        if d == dict():\n",
    "            d = {k: data[k] for k in data.keys()}\n",
    "        else:\n",
    "            d = {k: np.concatenate((d[k], data[k]), axis=0) for k in data.keys()}\n",
    "    print({k: d[k].shape for k in d.keys()})\n",
    "    d = {k: np.expand_dims(np.mean(d[k], axis=0), axis=0) for k in d.keys()}\n",
    "    print({k: d[k].shape for k in d.keys()})\n",
    "    print(\"end\")\n",
    "    return d"
   ]
  },
  {
   "cell_type": "code",
   "execution_count": 5,
   "metadata": {},
   "outputs": [
    {
     "name": "stdout",
     "output_type": "stream",
     "text": [
      "{'air_temperature': (32,), 'geopotential_50': (32,), 'geopotential_250': (32,), 'geopotential_500': (32,), 'geopotential_600': (32,), 'geopotential_700': (32,), 'geopotential_850': (32,), 'geopotential_925': (32,), 'specific_humidity_50': (32,), 'specific_humidity_250': (32,), 'specific_humidity_500': (32,), 'specific_humidity_600': (32,), 'specific_humidity_700': (32,), 'specific_humidity_850': (32,), 'specific_humidity_925': (32,), 'temperature_50': (32,), 'temperature_250': (32,), 'temperature_500': (32,), 'temperature_600': (32,), 'temperature_700': (32,), 'temperature_850': (32,), 'temperature_925': (32,), 'u_component_of_wind_50': (32,), 'u_component_of_wind_250': (32,), 'u_component_of_wind_500': (32,), 'u_component_of_wind_600': (32,), 'u_component_of_wind_700': (32,), 'u_component_of_wind_850': (32,), 'u_component_of_wind_925': (32,), 'v_component_of_wind_50': (32,), 'v_component_of_wind_250': (32,), 'v_component_of_wind_500': (32,), 'v_component_of_wind_600': (32,), 'v_component_of_wind_700': (32,), 'v_component_of_wind_850': (32,), 'v_component_of_wind_925': (32,)}\n",
      "{'air_temperature': (1,), 'geopotential_50': (1,), 'geopotential_250': (1,), 'geopotential_500': (1,), 'geopotential_600': (1,), 'geopotential_700': (1,), 'geopotential_850': (1,), 'geopotential_925': (1,), 'specific_humidity_50': (1,), 'specific_humidity_250': (1,), 'specific_humidity_500': (1,), 'specific_humidity_600': (1,), 'specific_humidity_700': (1,), 'specific_humidity_850': (1,), 'specific_humidity_925': (1,), 'temperature_50': (1,), 'temperature_250': (1,), 'temperature_500': (1,), 'temperature_600': (1,), 'temperature_700': (1,), 'temperature_850': (1,), 'temperature_925': (1,), 'u_component_of_wind_50': (1,), 'u_component_of_wind_250': (1,), 'u_component_of_wind_500': (1,), 'u_component_of_wind_600': (1,), 'u_component_of_wind_700': (1,), 'u_component_of_wind_850': (1,), 'u_component_of_wind_925': (1,), 'v_component_of_wind_50': (1,), 'v_component_of_wind_250': (1,), 'v_component_of_wind_500': (1,), 'v_component_of_wind_600': (1,), 'v_component_of_wind_700': (1,), 'v_component_of_wind_850': (1,), 'v_component_of_wind_925': (1,)}\n",
      "end\n",
      "{'air_temperature': (2,), 'geopotential_50': (2,), 'geopotential_250': (2,), 'geopotential_500': (2,), 'geopotential_600': (2,), 'geopotential_700': (2,), 'geopotential_850': (2,), 'geopotential_925': (2,), 'specific_humidity_50': (2,), 'specific_humidity_250': (2,), 'specific_humidity_500': (2,), 'specific_humidity_600': (2,), 'specific_humidity_700': (2,), 'specific_humidity_850': (2,), 'specific_humidity_925': (2,), 'temperature_50': (2,), 'temperature_250': (2,), 'temperature_500': (2,), 'temperature_600': (2,), 'temperature_700': (2,), 'temperature_850': (2,), 'temperature_925': (2,), 'u_component_of_wind_50': (2,), 'u_component_of_wind_250': (2,), 'u_component_of_wind_500': (2,), 'u_component_of_wind_600': (2,), 'u_component_of_wind_700': (2,), 'u_component_of_wind_850': (2,), 'u_component_of_wind_925': (2,), 'v_component_of_wind_50': (2,), 'v_component_of_wind_250': (2,), 'v_component_of_wind_500': (2,), 'v_component_of_wind_600': (2,), 'v_component_of_wind_700': (2,), 'v_component_of_wind_850': (2,), 'v_component_of_wind_925': (2,)}\n",
      "{'air_temperature': (1,), 'geopotential_50': (1,), 'geopotential_250': (1,), 'geopotential_500': (1,), 'geopotential_600': (1,), 'geopotential_700': (1,), 'geopotential_850': (1,), 'geopotential_925': (1,), 'specific_humidity_50': (1,), 'specific_humidity_250': (1,), 'specific_humidity_500': (1,), 'specific_humidity_600': (1,), 'specific_humidity_700': (1,), 'specific_humidity_850': (1,), 'specific_humidity_925': (1,), 'temperature_50': (1,), 'temperature_250': (1,), 'temperature_500': (1,), 'temperature_600': (1,), 'temperature_700': (1,), 'temperature_850': (1,), 'temperature_925': (1,), 'u_component_of_wind_50': (1,), 'u_component_of_wind_250': (1,), 'u_component_of_wind_500': (1,), 'u_component_of_wind_600': (1,), 'u_component_of_wind_700': (1,), 'u_component_of_wind_850': (1,), 'u_component_of_wind_925': (1,), 'v_component_of_wind_50': (1,), 'v_component_of_wind_250': (1,), 'v_component_of_wind_500': (1,), 'v_component_of_wind_600': (1,), 'v_component_of_wind_700': (1,), 'v_component_of_wind_850': (1,), 'v_component_of_wind_925': (1,)}\n",
      "end\n",
      "{'air_temperature': (2,), 'geopotential_50': (2,), 'geopotential_250': (2,), 'geopotential_500': (2,), 'geopotential_600': (2,), 'geopotential_700': (2,), 'geopotential_850': (2,), 'geopotential_925': (2,), 'specific_humidity_50': (2,), 'specific_humidity_250': (2,), 'specific_humidity_500': (2,), 'specific_humidity_600': (2,), 'specific_humidity_700': (2,), 'specific_humidity_850': (2,), 'specific_humidity_925': (2,), 'temperature_50': (2,), 'temperature_250': (2,), 'temperature_500': (2,), 'temperature_600': (2,), 'temperature_700': (2,), 'temperature_850': (2,), 'temperature_925': (2,), 'u_component_of_wind_50': (2,), 'u_component_of_wind_250': (2,), 'u_component_of_wind_500': (2,), 'u_component_of_wind_600': (2,), 'u_component_of_wind_700': (2,), 'u_component_of_wind_850': (2,), 'u_component_of_wind_925': (2,), 'v_component_of_wind_50': (2,), 'v_component_of_wind_250': (2,), 'v_component_of_wind_500': (2,), 'v_component_of_wind_600': (2,), 'v_component_of_wind_700': (2,), 'v_component_of_wind_850': (2,), 'v_component_of_wind_925': (2,)}\n",
      "{'air_temperature': (1,), 'geopotential_50': (1,), 'geopotential_250': (1,), 'geopotential_500': (1,), 'geopotential_600': (1,), 'geopotential_700': (1,), 'geopotential_850': (1,), 'geopotential_925': (1,), 'specific_humidity_50': (1,), 'specific_humidity_250': (1,), 'specific_humidity_500': (1,), 'specific_humidity_600': (1,), 'specific_humidity_700': (1,), 'specific_humidity_850': (1,), 'specific_humidity_925': (1,), 'temperature_50': (1,), 'temperature_250': (1,), 'temperature_500': (1,), 'temperature_600': (1,), 'temperature_700': (1,), 'temperature_850': (1,), 'temperature_925': (1,), 'u_component_of_wind_50': (1,), 'u_component_of_wind_250': (1,), 'u_component_of_wind_500': (1,), 'u_component_of_wind_600': (1,), 'u_component_of_wind_700': (1,), 'u_component_of_wind_850': (1,), 'u_component_of_wind_925': (1,), 'v_component_of_wind_50': (1,), 'v_component_of_wind_250': (1,), 'v_component_of_wind_500': (1,), 'v_component_of_wind_600': (1,), 'v_component_of_wind_700': (1,), 'v_component_of_wind_850': (1,), 'v_component_of_wind_925': (1,)}\n",
      "end\n",
      "{'air_temperature': (32, 32, 64), 'geopotential_50': (32, 32, 64), 'geopotential_250': (32, 32, 64), 'geopotential_500': (32, 32, 64), 'geopotential_600': (32, 32, 64), 'geopotential_700': (32, 32, 64), 'geopotential_850': (32, 32, 64), 'geopotential_925': (32, 32, 64), 'specific_humidity_50': (32, 32, 64), 'specific_humidity_250': (32, 32, 64), 'specific_humidity_500': (32, 32, 64), 'specific_humidity_600': (32, 32, 64), 'specific_humidity_700': (32, 32, 64), 'specific_humidity_850': (32, 32, 64), 'specific_humidity_925': (32, 32, 64), 'temperature_50': (32, 32, 64), 'temperature_250': (32, 32, 64), 'temperature_500': (32, 32, 64), 'temperature_600': (32, 32, 64), 'temperature_700': (32, 32, 64), 'temperature_850': (32, 32, 64), 'temperature_925': (32, 32, 64), 'u_component_of_wind_50': (32, 32, 64), 'u_component_of_wind_250': (32, 32, 64), 'u_component_of_wind_500': (32, 32, 64), 'u_component_of_wind_600': (32, 32, 64), 'u_component_of_wind_700': (32, 32, 64), 'u_component_of_wind_850': (32, 32, 64), 'u_component_of_wind_925': (32, 32, 64), 'v_component_of_wind_50': (32, 32, 64), 'v_component_of_wind_250': (32, 32, 64), 'v_component_of_wind_500': (32, 32, 64), 'v_component_of_wind_600': (32, 32, 64), 'v_component_of_wind_700': (32, 32, 64), 'v_component_of_wind_850': (32, 32, 64), 'v_component_of_wind_925': (32, 32, 64)}\n",
      "{'air_temperature': (1, 32, 64), 'geopotential_50': (1, 32, 64), 'geopotential_250': (1, 32, 64), 'geopotential_500': (1, 32, 64), 'geopotential_600': (1, 32, 64), 'geopotential_700': (1, 32, 64), 'geopotential_850': (1, 32, 64), 'geopotential_925': (1, 32, 64), 'specific_humidity_50': (1, 32, 64), 'specific_humidity_250': (1, 32, 64), 'specific_humidity_500': (1, 32, 64), 'specific_humidity_600': (1, 32, 64), 'specific_humidity_700': (1, 32, 64), 'specific_humidity_850': (1, 32, 64), 'specific_humidity_925': (1, 32, 64), 'temperature_50': (1, 32, 64), 'temperature_250': (1, 32, 64), 'temperature_500': (1, 32, 64), 'temperature_600': (1, 32, 64), 'temperature_700': (1, 32, 64), 'temperature_850': (1, 32, 64), 'temperature_925': (1, 32, 64), 'u_component_of_wind_50': (1, 32, 64), 'u_component_of_wind_250': (1, 32, 64), 'u_component_of_wind_500': (1, 32, 64), 'u_component_of_wind_600': (1, 32, 64), 'u_component_of_wind_700': (1, 32, 64), 'u_component_of_wind_850': (1, 32, 64), 'u_component_of_wind_925': (1, 32, 64), 'v_component_of_wind_50': (1, 32, 64), 'v_component_of_wind_250': (1, 32, 64), 'v_component_of_wind_500': (1, 32, 64), 'v_component_of_wind_600': (1, 32, 64), 'v_component_of_wind_700': (1, 32, 64), 'v_component_of_wind_850': (1, 32, 64), 'v_component_of_wind_925': (1, 32, 64)}\n",
      "end\n",
      "{'air_temperature': (2, 32, 64), 'geopotential_50': (2, 32, 64), 'geopotential_250': (2, 32, 64), 'geopotential_500': (2, 32, 64), 'geopotential_600': (2, 32, 64), 'geopotential_700': (2, 32, 64), 'geopotential_850': (2, 32, 64), 'geopotential_925': (2, 32, 64), 'specific_humidity_50': (2, 32, 64), 'specific_humidity_250': (2, 32, 64), 'specific_humidity_500': (2, 32, 64), 'specific_humidity_600': (2, 32, 64), 'specific_humidity_700': (2, 32, 64), 'specific_humidity_850': (2, 32, 64), 'specific_humidity_925': (2, 32, 64), 'temperature_50': (2, 32, 64), 'temperature_250': (2, 32, 64), 'temperature_500': (2, 32, 64), 'temperature_600': (2, 32, 64), 'temperature_700': (2, 32, 64), 'temperature_850': (2, 32, 64), 'temperature_925': (2, 32, 64), 'u_component_of_wind_50': (2, 32, 64), 'u_component_of_wind_250': (2, 32, 64), 'u_component_of_wind_500': (2, 32, 64), 'u_component_of_wind_600': (2, 32, 64), 'u_component_of_wind_700': (2, 32, 64), 'u_component_of_wind_850': (2, 32, 64), 'u_component_of_wind_925': (2, 32, 64), 'v_component_of_wind_50': (2, 32, 64), 'v_component_of_wind_250': (2, 32, 64), 'v_component_of_wind_500': (2, 32, 64), 'v_component_of_wind_600': (2, 32, 64), 'v_component_of_wind_700': (2, 32, 64), 'v_component_of_wind_850': (2, 32, 64), 'v_component_of_wind_925': (2, 32, 64)}\n",
      "{'air_temperature': (1, 32, 64), 'geopotential_50': (1, 32, 64), 'geopotential_250': (1, 32, 64), 'geopotential_500': (1, 32, 64), 'geopotential_600': (1, 32, 64), 'geopotential_700': (1, 32, 64), 'geopotential_850': (1, 32, 64), 'geopotential_925': (1, 32, 64), 'specific_humidity_50': (1, 32, 64), 'specific_humidity_250': (1, 32, 64), 'specific_humidity_500': (1, 32, 64), 'specific_humidity_600': (1, 32, 64), 'specific_humidity_700': (1, 32, 64), 'specific_humidity_850': (1, 32, 64), 'specific_humidity_925': (1, 32, 64), 'temperature_50': (1, 32, 64), 'temperature_250': (1, 32, 64), 'temperature_500': (1, 32, 64), 'temperature_600': (1, 32, 64), 'temperature_700': (1, 32, 64), 'temperature_850': (1, 32, 64), 'temperature_925': (1, 32, 64), 'u_component_of_wind_50': (1, 32, 64), 'u_component_of_wind_250': (1, 32, 64), 'u_component_of_wind_500': (1, 32, 64), 'u_component_of_wind_600': (1, 32, 64), 'u_component_of_wind_700': (1, 32, 64), 'u_component_of_wind_850': (1, 32, 64), 'u_component_of_wind_925': (1, 32, 64), 'v_component_of_wind_50': (1, 32, 64), 'v_component_of_wind_250': (1, 32, 64), 'v_component_of_wind_500': (1, 32, 64), 'v_component_of_wind_600': (1, 32, 64), 'v_component_of_wind_700': (1, 32, 64), 'v_component_of_wind_850': (1, 32, 64), 'v_component_of_wind_925': (1, 32, 64)}\n",
      "end\n",
      "{'air_temperature': (2, 32, 64), 'geopotential_50': (2, 32, 64), 'geopotential_250': (2, 32, 64), 'geopotential_500': (2, 32, 64), 'geopotential_600': (2, 32, 64), 'geopotential_700': (2, 32, 64), 'geopotential_850': (2, 32, 64), 'geopotential_925': (2, 32, 64), 'specific_humidity_50': (2, 32, 64), 'specific_humidity_250': (2, 32, 64), 'specific_humidity_500': (2, 32, 64), 'specific_humidity_600': (2, 32, 64), 'specific_humidity_700': (2, 32, 64), 'specific_humidity_850': (2, 32, 64), 'specific_humidity_925': (2, 32, 64), 'temperature_50': (2, 32, 64), 'temperature_250': (2, 32, 64), 'temperature_500': (2, 32, 64), 'temperature_600': (2, 32, 64), 'temperature_700': (2, 32, 64), 'temperature_850': (2, 32, 64), 'temperature_925': (2, 32, 64), 'u_component_of_wind_50': (2, 32, 64), 'u_component_of_wind_250': (2, 32, 64), 'u_component_of_wind_500': (2, 32, 64), 'u_component_of_wind_600': (2, 32, 64), 'u_component_of_wind_700': (2, 32, 64), 'u_component_of_wind_850': (2, 32, 64), 'u_component_of_wind_925': (2, 32, 64), 'v_component_of_wind_50': (2, 32, 64), 'v_component_of_wind_250': (2, 32, 64), 'v_component_of_wind_500': (2, 32, 64), 'v_component_of_wind_600': (2, 32, 64), 'v_component_of_wind_700': (2, 32, 64), 'v_component_of_wind_850': (2, 32, 64), 'v_component_of_wind_925': (2, 32, 64)}\n",
      "{'air_temperature': (1, 32, 64), 'geopotential_50': (1, 32, 64), 'geopotential_250': (1, 32, 64), 'geopotential_500': (1, 32, 64), 'geopotential_600': (1, 32, 64), 'geopotential_700': (1, 32, 64), 'geopotential_850': (1, 32, 64), 'geopotential_925': (1, 32, 64), 'specific_humidity_50': (1, 32, 64), 'specific_humidity_250': (1, 32, 64), 'specific_humidity_500': (1, 32, 64), 'specific_humidity_600': (1, 32, 64), 'specific_humidity_700': (1, 32, 64), 'specific_humidity_850': (1, 32, 64), 'specific_humidity_925': (1, 32, 64), 'temperature_50': (1, 32, 64), 'temperature_250': (1, 32, 64), 'temperature_500': (1, 32, 64), 'temperature_600': (1, 32, 64), 'temperature_700': (1, 32, 64), 'temperature_850': (1, 32, 64), 'temperature_925': (1, 32, 64), 'u_component_of_wind_50': (1, 32, 64), 'u_component_of_wind_250': (1, 32, 64), 'u_component_of_wind_500': (1, 32, 64), 'u_component_of_wind_600': (1, 32, 64), 'u_component_of_wind_700': (1, 32, 64), 'u_component_of_wind_850': (1, 32, 64), 'u_component_of_wind_925': (1, 32, 64), 'v_component_of_wind_50': (1, 32, 64), 'v_component_of_wind_250': (1, 32, 64), 'v_component_of_wind_500': (1, 32, 64), 'v_component_of_wind_600': (1, 32, 64), 'v_component_of_wind_700': (1, 32, 64), 'v_component_of_wind_850': (1, 32, 64), 'v_component_of_wind_925': (1, 32, 64)}\n",
      "end\n"
     ]
    }
   ],
   "source": [
    "res = \"5.625deg\"\n",
    "save_dir_path = f\"/data0/datasets/weatherbench/data/esgf/cmip6/new_cmip/{res}_npz\"\n",
    "\n",
    "ps = glob.glob(os.path.join(save_dir_path, f\"train/*_mean.npz\"))\n",
    "train_mean = func_mean(ps)\n",
    "\n",
    "ps = glob.glob(os.path.join(save_dir_path, f\"val/*_mean.npz\"))\n",
    "val_mean = func_mean(ps)\n",
    "\n",
    "ps = glob.glob(os.path.join(save_dir_path, f\"test/*_mean.npz\"))\n",
    "test_mean = func_mean(ps)\n",
    "\n",
    "ps = glob.glob(os.path.join(save_dir_path, f\"train/*_climatology.npz\"))\n",
    "train_clim = func_mean(ps)\n",
    "\n",
    "ps = glob.glob(os.path.join(save_dir_path, f\"val/*_climatology.npz\"))\n",
    "val_clim = func_mean(ps)\n",
    "\n",
    "ps = glob.glob(os.path.join(save_dir_path, f\"test/*_climatology.npz\"))\n",
    "test_clim = func_mean(ps)"
   ]
  },
  {
   "cell_type": "code",
   "execution_count": 6,
   "metadata": {},
   "outputs": [],
   "source": [
    "def f1(ps):\n",
    "    d = dict()\n",
    "    for file in ps:\n",
    "        data = np.load(file)\n",
    "        if d == dict():\n",
    "            d = {k: data[k] for k in data.keys()}\n",
    "        else:\n",
    "            d = {k: np.concatenate((d[k], data[k]), axis=0) for k in data.keys()}\n",
    "    print({k: d[k].shape for k in d.keys()})\n",
    "    print(\"end\")\n",
    "    return d"
   ]
  },
  {
   "cell_type": "code",
   "execution_count": 7,
   "metadata": {},
   "outputs": [
    {
     "name": "stdout",
     "output_type": "stream",
     "text": [
      "{'air_temperature': (32,), 'geopotential_50': (32,), 'geopotential_250': (32,), 'geopotential_500': (32,), 'geopotential_600': (32,), 'geopotential_700': (32,), 'geopotential_850': (32,), 'geopotential_925': (32,), 'specific_humidity_50': (32,), 'specific_humidity_250': (32,), 'specific_humidity_500': (32,), 'specific_humidity_600': (32,), 'specific_humidity_700': (32,), 'specific_humidity_850': (32,), 'specific_humidity_925': (32,), 'temperature_50': (32,), 'temperature_250': (32,), 'temperature_500': (32,), 'temperature_600': (32,), 'temperature_700': (32,), 'temperature_850': (32,), 'temperature_925': (32,), 'u_component_of_wind_50': (32,), 'u_component_of_wind_250': (32,), 'u_component_of_wind_500': (32,), 'u_component_of_wind_600': (32,), 'u_component_of_wind_700': (32,), 'u_component_of_wind_850': (32,), 'u_component_of_wind_925': (32,), 'v_component_of_wind_50': (32,), 'v_component_of_wind_250': (32,), 'v_component_of_wind_500': (32,), 'v_component_of_wind_600': (32,), 'v_component_of_wind_700': (32,), 'v_component_of_wind_850': (32,), 'v_component_of_wind_925': (32,)}\n",
      "end\n",
      "{'air_temperature': (2,), 'geopotential_50': (2,), 'geopotential_250': (2,), 'geopotential_500': (2,), 'geopotential_600': (2,), 'geopotential_700': (2,), 'geopotential_850': (2,), 'geopotential_925': (2,), 'specific_humidity_50': (2,), 'specific_humidity_250': (2,), 'specific_humidity_500': (2,), 'specific_humidity_600': (2,), 'specific_humidity_700': (2,), 'specific_humidity_850': (2,), 'specific_humidity_925': (2,), 'temperature_50': (2,), 'temperature_250': (2,), 'temperature_500': (2,), 'temperature_600': (2,), 'temperature_700': (2,), 'temperature_850': (2,), 'temperature_925': (2,), 'u_component_of_wind_50': (2,), 'u_component_of_wind_250': (2,), 'u_component_of_wind_500': (2,), 'u_component_of_wind_600': (2,), 'u_component_of_wind_700': (2,), 'u_component_of_wind_850': (2,), 'u_component_of_wind_925': (2,), 'v_component_of_wind_50': (2,), 'v_component_of_wind_250': (2,), 'v_component_of_wind_500': (2,), 'v_component_of_wind_600': (2,), 'v_component_of_wind_700': (2,), 'v_component_of_wind_850': (2,), 'v_component_of_wind_925': (2,)}\n",
      "end\n",
      "{'air_temperature': (2,), 'geopotential_50': (2,), 'geopotential_250': (2,), 'geopotential_500': (2,), 'geopotential_600': (2,), 'geopotential_700': (2,), 'geopotential_850': (2,), 'geopotential_925': (2,), 'specific_humidity_50': (2,), 'specific_humidity_250': (2,), 'specific_humidity_500': (2,), 'specific_humidity_600': (2,), 'specific_humidity_700': (2,), 'specific_humidity_850': (2,), 'specific_humidity_925': (2,), 'temperature_50': (2,), 'temperature_250': (2,), 'temperature_500': (2,), 'temperature_600': (2,), 'temperature_700': (2,), 'temperature_850': (2,), 'temperature_925': (2,), 'u_component_of_wind_50': (2,), 'u_component_of_wind_250': (2,), 'u_component_of_wind_500': (2,), 'u_component_of_wind_600': (2,), 'u_component_of_wind_700': (2,), 'u_component_of_wind_850': (2,), 'u_component_of_wind_925': (2,), 'v_component_of_wind_50': (2,), 'v_component_of_wind_250': (2,), 'v_component_of_wind_500': (2,), 'v_component_of_wind_600': (2,), 'v_component_of_wind_700': (2,), 'v_component_of_wind_850': (2,), 'v_component_of_wind_925': (2,)}\n",
      "end\n",
      "{'air_temperature': (32,), 'geopotential_50': (32,), 'geopotential_250': (32,), 'geopotential_500': (32,), 'geopotential_600': (32,), 'geopotential_700': (32,), 'geopotential_850': (32,), 'geopotential_925': (32,), 'specific_humidity_50': (32,), 'specific_humidity_250': (32,), 'specific_humidity_500': (32,), 'specific_humidity_600': (32,), 'specific_humidity_700': (32,), 'specific_humidity_850': (32,), 'specific_humidity_925': (32,), 'temperature_50': (32,), 'temperature_250': (32,), 'temperature_500': (32,), 'temperature_600': (32,), 'temperature_700': (32,), 'temperature_850': (32,), 'temperature_925': (32,), 'u_component_of_wind_50': (32,), 'u_component_of_wind_250': (32,), 'u_component_of_wind_500': (32,), 'u_component_of_wind_600': (32,), 'u_component_of_wind_700': (32,), 'u_component_of_wind_850': (32,), 'u_component_of_wind_925': (32,), 'v_component_of_wind_50': (32,), 'v_component_of_wind_250': (32,), 'v_component_of_wind_500': (32,), 'v_component_of_wind_600': (32,), 'v_component_of_wind_700': (32,), 'v_component_of_wind_850': (32,), 'v_component_of_wind_925': (32,)}\n",
      "end\n",
      "{'air_temperature': (2,), 'geopotential_50': (2,), 'geopotential_250': (2,), 'geopotential_500': (2,), 'geopotential_600': (2,), 'geopotential_700': (2,), 'geopotential_850': (2,), 'geopotential_925': (2,), 'specific_humidity_50': (2,), 'specific_humidity_250': (2,), 'specific_humidity_500': (2,), 'specific_humidity_600': (2,), 'specific_humidity_700': (2,), 'specific_humidity_850': (2,), 'specific_humidity_925': (2,), 'temperature_50': (2,), 'temperature_250': (2,), 'temperature_500': (2,), 'temperature_600': (2,), 'temperature_700': (2,), 'temperature_850': (2,), 'temperature_925': (2,), 'u_component_of_wind_50': (2,), 'u_component_of_wind_250': (2,), 'u_component_of_wind_500': (2,), 'u_component_of_wind_600': (2,), 'u_component_of_wind_700': (2,), 'u_component_of_wind_850': (2,), 'u_component_of_wind_925': (2,), 'v_component_of_wind_50': (2,), 'v_component_of_wind_250': (2,), 'v_component_of_wind_500': (2,), 'v_component_of_wind_600': (2,), 'v_component_of_wind_700': (2,), 'v_component_of_wind_850': (2,), 'v_component_of_wind_925': (2,)}\n",
      "end\n",
      "{'air_temperature': (2,), 'geopotential_50': (2,), 'geopotential_250': (2,), 'geopotential_500': (2,), 'geopotential_600': (2,), 'geopotential_700': (2,), 'geopotential_850': (2,), 'geopotential_925': (2,), 'specific_humidity_50': (2,), 'specific_humidity_250': (2,), 'specific_humidity_500': (2,), 'specific_humidity_600': (2,), 'specific_humidity_700': (2,), 'specific_humidity_850': (2,), 'specific_humidity_925': (2,), 'temperature_50': (2,), 'temperature_250': (2,), 'temperature_500': (2,), 'temperature_600': (2,), 'temperature_700': (2,), 'temperature_850': (2,), 'temperature_925': (2,), 'u_component_of_wind_50': (2,), 'u_component_of_wind_250': (2,), 'u_component_of_wind_500': (2,), 'u_component_of_wind_600': (2,), 'u_component_of_wind_700': (2,), 'u_component_of_wind_850': (2,), 'u_component_of_wind_925': (2,), 'v_component_of_wind_50': (2,), 'v_component_of_wind_250': (2,), 'v_component_of_wind_500': (2,), 'v_component_of_wind_600': (2,), 'v_component_of_wind_700': (2,), 'v_component_of_wind_850': (2,), 'v_component_of_wind_925': (2,)}\n",
      "end\n"
     ]
    }
   ],
   "source": [
    "ps = glob.glob(os.path.join(save_dir_path, f\"train/*_mean.npz\"))\n",
    "train_dmean = f1(ps)\n",
    "\n",
    "ps = glob.glob(os.path.join(save_dir_path, f\"val/*_mean.npz\"))\n",
    "val_dmean = f1(ps)\n",
    "\n",
    "ps = glob.glob(os.path.join(save_dir_path, f\"test/*_mean.npz\"))\n",
    "test_dmean = f1(ps)\n",
    "\n",
    "ps = glob.glob(os.path.join(save_dir_path, f\"train/*_std.npz\"))\n",
    "train_dstd = f1(ps)\n",
    "\n",
    "ps = glob.glob(os.path.join(save_dir_path, f\"val/*_std.npz\"))\n",
    "val_dstd = f1(ps)\n",
    "\n",
    "ps = glob.glob(os.path.join(save_dir_path, f\"test/*_std.npz\"))\n",
    "test_dstd = f1(ps)"
   ]
  },
  {
   "cell_type": "code",
   "execution_count": 8,
   "metadata": {},
   "outputs": [],
   "source": [
    "def get_std(dmean, dstd):\n",
    "    ds ={}\n",
    "    for var in dmean.keys():\n",
    "        mean, std = dmean[var], dstd[var]\n",
    "        variance = (\n",
    "            (std**2).mean(axis=0)\n",
    "            + (mean**2).mean(axis=0)\n",
    "            - mean.mean(axis=0) ** 2\n",
    "        )\n",
    "        std = np.sqrt(variance)\n",
    "        ds[var] = np.expand_dims(std, axis=0)\n",
    "    return ds\n"
   ]
  },
  {
   "cell_type": "code",
   "execution_count": 9,
   "metadata": {},
   "outputs": [],
   "source": [
    "train_std = get_std(train_dmean, train_dstd)\n",
    "val_std = get_std(val_dmean, val_dstd)\n",
    "test_std = get_std(test_dmean, test_dstd)"
   ]
  },
  {
   "cell_type": "code",
   "execution_count": 10,
   "metadata": {},
   "outputs": [],
   "source": [
    "np.savez(\n",
    "    os.path.join(save_dir_path, f\"train/climatology.npz\"),\n",
    "    **train_clim,\n",
    ")\n",
    "\n",
    "np.savez(\n",
    "    os.path.join(save_dir_path, f\"val/climatology.npz\"),\n",
    "    **val_clim,\n",
    ")\n",
    "\n",
    "np.savez(\n",
    "    os.path.join(save_dir_path, f\"test/climatology.npz\"),\n",
    "    **test_clim,\n",
    ")"
   ]
  },
  {
   "cell_type": "code",
   "execution_count": 11,
   "metadata": {},
   "outputs": [],
   "source": [
    "np.savez(\n",
    "    os.path.join(save_dir_path, f\"train/normalize_std.npz\"),\n",
    "    **train_std,\n",
    ")\n",
    "\n",
    "np.savez(\n",
    "    os.path.join(save_dir_path, f\"val/normalize_std.npz\"),\n",
    "    **val_std,\n",
    ")\n",
    "\n",
    "np.savez(\n",
    "    os.path.join(save_dir_path, f\"test/normalize_std.npz\"),\n",
    "    **test_std,\n",
    ")\n",
    "\n",
    "np.savez(\n",
    "    os.path.join(save_dir_path, f\"train/normalize_mean.npz\"),\n",
    "    **train_mean,\n",
    ")\n",
    "\n",
    "np.savez(\n",
    "    os.path.join(save_dir_path, f\"val/normalize_mean.npz\"),\n",
    "    **val_mean,\n",
    ")\n",
    "\n",
    "np.savez(\n",
    "    os.path.join(save_dir_path, f\"test/normalize_mean.npz\"),\n",
    "    **test_mean,\n",
    ")"
   ]
  },
  {
   "cell_type": "code",
   "execution_count": 12,
   "metadata": {},
   "outputs": [
    {
     "ename": "FileNotFoundError",
     "evalue": "[Errno 2] No such file or directory: '/data0/datasets/weatherbench/data/esgf/cmip6/new_cmip/5.625deg_npz/normalize_std.npz'",
     "output_type": "error",
     "traceback": [
      "\u001b[0;31m---------------------------------------------------------------------------\u001b[0m",
      "\u001b[0;31mFileNotFoundError\u001b[0m                         Traceback (most recent call last)",
      "Cell \u001b[0;32mIn[12], line 1\u001b[0m\n\u001b[0;32m----> 1\u001b[0m xyz \u001b[39m=\u001b[39m np\u001b[39m.\u001b[39;49mload(save_dir_path \u001b[39m+\u001b[39;49m \u001b[39m\"\u001b[39;49m\u001b[39m/normalize_std.npz\u001b[39;49m\u001b[39m\"\u001b[39;49m)\n\u001b[1;32m      3\u001b[0m \u001b[39mprint\u001b[39m(xyz)\n\u001b[1;32m      4\u001b[0m {k: xyz[k]\u001b[39m.\u001b[39mshape \u001b[39mfor\u001b[39;00m k \u001b[39min\u001b[39;00m xyz\u001b[39m.\u001b[39mkeys()}\n",
      "File \u001b[0;32m~/miniconda3/envs/cl_exp/lib/python3.9/site-packages/numpy/lib/npyio.py:405\u001b[0m, in \u001b[0;36mload\u001b[0;34m(file, mmap_mode, allow_pickle, fix_imports, encoding, max_header_size)\u001b[0m\n\u001b[1;32m    403\u001b[0m     own_fid \u001b[39m=\u001b[39m \u001b[39mFalse\u001b[39;00m\n\u001b[1;32m    404\u001b[0m \u001b[39melse\u001b[39;00m:\n\u001b[0;32m--> 405\u001b[0m     fid \u001b[39m=\u001b[39m stack\u001b[39m.\u001b[39menter_context(\u001b[39mopen\u001b[39;49m(os_fspath(file), \u001b[39m\"\u001b[39;49m\u001b[39mrb\u001b[39;49m\u001b[39m\"\u001b[39;49m))\n\u001b[1;32m    406\u001b[0m     own_fid \u001b[39m=\u001b[39m \u001b[39mTrue\u001b[39;00m\n\u001b[1;32m    408\u001b[0m \u001b[39m# Code to distinguish from NumPy binary files and pickles.\u001b[39;00m\n",
      "\u001b[0;31mFileNotFoundError\u001b[0m: [Errno 2] No such file or directory: '/data0/datasets/weatherbench/data/esgf/cmip6/new_cmip/5.625deg_npz/normalize_std.npz'"
     ]
    },
    {
     "ename": "",
     "evalue": "",
     "output_type": "error",
     "traceback": [
      "\u001b[1;31mThe Kernel crashed while executing code in the the current cell or a previous cell. Please review the code in the cell(s) to identify a possible cause of the failure. Click <a href='https://aka.ms/vscodeJupyterKernelCrash'>here</a> for more info. View Jupyter <a href='command:jupyter.viewOutput'>log</a> for further details."
     ]
    }
   ],
   "source": [
    "xyz = np.load(save_dir_path + \"/normalize_std.npz\")\n",
    "\n",
    "print(xyz)\n",
    "{k: xyz[k].shape for k in xyz.keys()}"
   ]
  },
  {
   "cell_type": "code",
   "execution_count": null,
   "metadata": {},
   "outputs": [],
   "source": [
    "save_dir_path"
   ]
  },
  {
   "cell_type": "code",
   "execution_count": null,
   "metadata": {},
   "outputs": [],
   "source": [
    "res = \"5.625deg\"\n",
    "path = f\"/data0/datasets/weatherbench/data/esgf/cmip6/{res}\"\n",
    "save_dir = f\"/data0/datasets/weatherbench/data/esgf/cmip6/{res}_npz\"\n",
    "year_it = 1850\n",
    "var = variables[0]\n",
    "year_string = f\"{year_it}01010600-{year_it + 5}01010000\"\n",
    "ps = glob.glob(os.path.join(path, var, f\"*{year_string}_{res}.nc\"))\n",
    "ds = xr.load_dataset(ps[0])"
   ]
  },
  {
   "cell_type": "code",
   "execution_count": null,
   "metadata": {},
   "outputs": [],
   "source": [
    "lat = np.array(ds[\"lat\"])\n",
    "lon = np.array(ds[\"lon\"])\n",
    "np.save(os.path.join(save_dir, \"lat.npy\"), lat)\n",
    "np.save(os.path.join(save_dir, \"lon.npy\"), lon)"
   ]
  },
  {
   "cell_type": "code",
   "execution_count": null,
   "metadata": {},
   "outputs": [],
   "source": [
    "lat"
   ]
  },
  {
   "cell_type": "code",
   "execution_count": null,
   "metadata": {},
   "outputs": [],
   "source": [
    "xyz = np.load(os.path.join(save_dir, \"lat.npy\"))\n",
    "print(xyz)"
   ]
  },
  {
   "cell_type": "code",
   "execution_count": null,
   "metadata": {},
   "outputs": [],
   "source": [
    "import numpy as np\n",
    "res = \"5.625deg\"\n",
    "era5_path = f\"/data0/datasets/weatherbench/data/weatherbench/era5/{res}_npz/\"\n",
    "cmip6_path = f\"/data0/datasets/weatherbench/data/esgf/cmip6/{res}_npz/\"\n",
    "\n",
    "xyz = np.load(era5_path + \"/train/climatology.npz\")\n",
    "abc = np.load(cmip6_path + \"/train/climatology.npz\")\n",
    "\n",
    "for key in xyz.keys():\n",
    "    print(xyz[key].shape)\n",
    "\n",
    "for key in abc.keys():\n",
    "    print(abc[key].shape)"
   ]
  },
  {
   "cell_type": "code",
   "execution_count": null,
   "metadata": {},
   "outputs": [],
   "source": [
    "xyz = np.load(era5_path + \"/normalize_mean.npz\")\n",
    "abc = np.load(cmip6_path + \"/normalize_mean.npz\")\n",
    "for key in xyz.keys():\n",
    "    print(xyz[key].shape)\n",
    "\n",
    "for key in abc.keys():\n",
    "    print(abc[key].shape)"
   ]
  },
  {
   "cell_type": "code",
   "execution_count": null,
   "metadata": {},
   "outputs": [],
   "source": []
  }
 ],
 "metadata": {
  "kernelspec": {
   "display_name": "cl_exp",
   "language": "python",
   "name": "python3"
  },
  "language_info": {
   "codemirror_mode": {
    "name": "ipython",
    "version": 3
   },
   "file_extension": ".py",
   "mimetype": "text/x-python",
   "name": "python",
   "nbconvert_exporter": "python",
   "pygments_lexer": "ipython3",
   "version": "3.9.16"
  },
  "orig_nbformat": 4
 },
 "nbformat": 4,
 "nbformat_minor": 2
}
