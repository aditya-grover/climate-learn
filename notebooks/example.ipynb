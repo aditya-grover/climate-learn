{
 "cells": [
  {
   "cell_type": "code",
   "execution_count": 1,
   "id": "ef828884-f0dc-4fcd-b012-f53351260449",
   "metadata": {
    "tags": []
   },
   "outputs": [],
   "source": [
    "%load_ext autoreload\n",
    "%autoreload 2"
   ]
  },
  {
   "cell_type": "markdown",
   "id": "cd95b6e8-ca43-4c24-8a54-6545af34a165",
   "metadata": {
    "tags": []
   },
   "source": [
    "# Quickstart"
   ]
  },
  {
   "cell_type": "code",
   "execution_count": 2,
   "id": "0097cee0-e14a-4aa4-a41d-c27d9c8b08e6",
   "metadata": {
    "tags": []
   },
   "outputs": [],
   "source": [
    "import climate_learn as cl\n",
    "from climate_learn.data.climate_dataset.args import ERA5Args\n",
    "from climate_learn.data.task.args import ForecastingArgs\n",
    "from climate_learn.data.dataset.args import MapDatasetArgs"
   ]
  },
  {
   "cell_type": "markdown",
   "id": "f2ee3837-8114-4e67-963d-9edc6e656a24",
   "metadata": {
    "tags": []
   },
   "source": [
    "## Load the data"
   ]
  },
  {
   "cell_type": "code",
   "execution_count": 3,
   "id": "4571e1fa-03f6-4608-8688-475467afe609",
   "metadata": {
    "tags": []
   },
   "outputs": [
    {
     "name": "stderr",
     "output_type": "stream",
     "text": [
      "100%|██████████████████████████████████████████████████████████████████████████████████████████████████████████████████| 37/37 [00:24<00:00,  1.53it/s]\n",
      "100%|████████████████████████████████████████████████████████████████████████████████████████████████████████████████████| 1/1 [00:00<00:00,  1.69it/s]\n",
      "100%|████████████████████████████████████████████████████████████████████████████████████████████████████████████████████| 2/2 [00:01<00:00,  1.49it/s]\n"
     ]
    }
   ],
   "source": [
    "root = \"/home/data/datasets/weatherbench/era5/5.625deg/\"\n",
    "variables = [\"geopotential_500\", \"temperature_850\", \"2m_temperature\"]\n",
    "in_vars = out_vars = [f\"era5:{v}\" for v in variables]\n",
    "train_years = range(1979, 2016)\n",
    "val_years = range(2016, 2017)\n",
    "test_years = range(2017, 2019)\n",
    "\n",
    "forecasting_args = ForecastingArgs(\n",
    "    in_vars,\n",
    "    out_vars,\n",
    "    pred_range=6,\n",
    "    subsample=6\n",
    ")\n",
    "\n",
    "train_dataset_args = MapDatasetArgs(\n",
    "    ERA5Args(root, variables, train_years),\n",
    "    forecasting_args\n",
    ")\n",
    "\n",
    "val_dataset_args = MapDatasetArgs(\n",
    "    ERA5Args(root, variables, val_years),\n",
    "    forecasting_args\n",
    ")\n",
    "\n",
    "test_dataset_args = MapDatasetArgs(\n",
    "    ERA5Args(root, variables, test_years),\n",
    "    forecasting_args\n",
    ")\n",
    "\n",
    "dm = cl.data.DataModule(\n",
    "    train_dataset_args,\n",
    "    val_dataset_args,\n",
    "    test_dataset_args,\n",
    "    batch_size=32,\n",
    "    num_workers=8\n",
    ")"
   ]
  },
  {
   "cell_type": "markdown",
   "id": "9e938cac-5908-4035-b861-4ccd460956e6",
   "metadata": {},
   "source": [
    "## Load the models"
   ]
  },
  {
   "cell_type": "code",
   "execution_count": 4,
   "id": "d6c2bc91-41cc-4ccb-87fb-168db62db632",
   "metadata": {},
   "outputs": [
    {
     "name": "stdout",
     "output_type": "stream",
     "text": [
      "Loading preset: climatology\n",
      "Using preset optimizer\n",
      "Using preset learning rate scheduler\n",
      "Loading training loss: lat_mse\n",
      "Loading validation loss: lat_rmse\n",
      "Loading validation loss: lat_acc\n",
      "Loading test loss: lat_rmse\n",
      "Loading test loss: lat_acc\n",
      "Loading validation transform: denormalize\n",
      "Loading validation transform: denormalize\n",
      "Loading test transform: denormalize\n",
      "Loading test transform: denormalize\n",
      "Loading preset: persistence\n",
      "Using preset optimizer\n",
      "Using preset learning rate scheduler\n",
      "Loading training loss: lat_mse\n",
      "Loading validation loss: lat_rmse\n",
      "Loading validation loss: lat_acc\n",
      "Loading test loss: lat_rmse\n",
      "Loading test loss: lat_acc\n",
      "Loading validation transform: denormalize\n",
      "Loading validation transform: denormalize\n",
      "Loading test transform: denormalize\n",
      "Loading test transform: denormalize\n"
     ]
    }
   ],
   "source": [
    "# climatology is the average value over the training period\n",
    "climatology = cl.load_forecasting_module(data_module=dm, preset=\"climatology\")\n",
    "\n",
    "# persistence returns its input as its prediction\n",
    "persistence = cl.load_forecasting_module(data_module=dm, preset=\"persistence\")\n",
    "\n",
    "# Rasp-Theurey 2020 is the SoTA on WeatherBench\n",
    "# resnet = cl.load_forecasting_module(data_module=dm, preset=\"rasp-theurey-2020\")"
   ]
  },
  {
   "cell_type": "markdown",
   "id": "2c4bcb9b-f5a6-448d-8070-0b52742dfb19",
   "metadata": {},
   "source": [
    "## Train the models\n",
    "\n",
    "Climatology and persistence don't require training."
   ]
  },
  {
   "cell_type": "code",
   "execution_count": 5,
   "id": "9990026c-2a67-4848-b29f-f5d1021cdd5c",
   "metadata": {},
   "outputs": [
    {
     "name": "stderr",
     "output_type": "stream",
     "text": [
      "Global seed set to 0\n",
      "/home/jason.jewik/climate-learn/src/climate_learn/trainer.py:48: UserWarning: In interactive environment: cannot use DDP spawn strategy\n",
      "  warn(\"In interactive environment: cannot use DDP spawn strategy\")\n",
      "/home/jason.jewik/miniconda3/envs/climate/lib/python3.7/site-packages/pytorch_lightning/trainer/setup.py:179: PossibleUserWarning: GPU available but not used. Set `accelerator` and `devices` using `Trainer(accelerator='gpu', devices=10)`.\n",
      "  category=PossibleUserWarning,\n"
     ]
    }
   ],
   "source": [
    "# change this to whatever gpu device you want to use\n",
    "gpu_num = 0\n",
    "\n",
    "trainer = cl.Trainer(\n",
    "    # stop when latitude-weighted RMSE, a validation metric, stops improving\n",
    "    # early_stopping=\"lat_rmse:aggregate\",\n",
    "    # wait for 1 epoch of no improvement\n",
    "    # patience=1,\n",
    "    # uncomment to use gpu acceleration\n",
    "    # accelerator=\"gpu\",\n",
    "    # devices=[gpu_num],\n",
    "    # max epochs\n",
    "    # max_epochs=2\n",
    ")"
   ]
  },
  {
   "cell_type": "code",
   "execution_count": 6,
   "id": "37980493-6f3a-426f-9306-7f4addbfbcce",
   "metadata": {},
   "outputs": [],
   "source": [
    "# trainer.fit(resnet, dm)"
   ]
  },
  {
   "cell_type": "markdown",
   "id": "ff7220a2-490f-4a85-84e8-a506346370d4",
   "metadata": {},
   "source": [
    "## Test the models"
   ]
  },
  {
   "cell_type": "code",
   "execution_count": 7,
   "id": "5232e21d-0a9b-4164-9ccd-588527ec9a15",
   "metadata": {},
   "outputs": [
    {
     "data": {
      "application/vnd.jupyter.widget-view+json": {
       "model_id": "08ddcca0ed6b440689a7fbf89f600950",
       "version_major": 2,
       "version_minor": 0
      },
      "text/plain": [
       "Output()"
      ]
     },
     "metadata": {},
     "output_type": "display_data"
    },
    {
     "data": {
      "text/html": [
       "<pre style=\"white-space:pre;overflow-x:auto;line-height:normal;font-family:Menlo,'DejaVu Sans Mono',consolas,'Courier New',monospace\">┏━━━━━━━━━━━━━━━━━━━━━━━━━━━━━━━━┳━━━━━━━━━━━━━━━━━━━━━━━━━━━━━━━━┓\n",
       "┃<span style=\"font-weight: bold\">          Test metric           </span>┃<span style=\"font-weight: bold\">          DataLoader 0          </span>┃\n",
       "┡━━━━━━━━━━━━━━━━━━━━━━━━━━━━━━━━╇━━━━━━━━━━━━━━━━━━━━━━━━━━━━━━━━┩\n",
       "│<span style=\"color: #008080; text-decoration-color: #008080\">       lat_acc:aggregate        </span>│<span style=\"color: #800080; text-decoration-color: #800080\">      0.003581039944438576      </span>│\n",
       "│<span style=\"color: #008080; text-decoration-color: #008080\">  lat_acc:era5:2m_temperature   </span>│<span style=\"color: #800080; text-decoration-color: #800080\">    -1.4315695092836287e-05     </span>│\n",
       "│<span style=\"color: #008080; text-decoration-color: #008080\"> lat_acc:era5:geopotential_500  </span>│<span style=\"color: #800080; text-decoration-color: #800080\">      0.00189398742417056       </span>│\n",
       "│<span style=\"color: #008080; text-decoration-color: #008080\">  lat_acc:era5:temperature_850  </span>│<span style=\"color: #800080; text-decoration-color: #800080\">      0.008863448104237986      </span>│\n",
       "│<span style=\"color: #008080; text-decoration-color: #008080\">       lat_rmse:aggregate       </span>│<span style=\"color: #800080; text-decoration-color: #800080\">       613.4798152433999        </span>│\n",
       "│<span style=\"color: #008080; text-decoration-color: #008080\">  lat_rmse:era5:2m_temperature  </span>│<span style=\"color: #800080; text-decoration-color: #800080\">       5.8884182692168805       </span>│\n",
       "│<span style=\"color: #008080; text-decoration-color: #008080\"> lat_rmse:era5:geopotential_500 </span>│<span style=\"color: #800080; text-decoration-color: #800080\">       1062.5476872600402       </span>│\n",
       "│<span style=\"color: #008080; text-decoration-color: #008080\"> lat_rmse:era5:temperature_850  </span>│<span style=\"color: #800080; text-decoration-color: #800080\">        5.3993970584494         </span>│\n",
       "└────────────────────────────────┴────────────────────────────────┘\n",
       "</pre>\n"
      ],
      "text/plain": [
       "┏━━━━━━━━━━━━━━━━━━━━━━━━━━━━━━━━┳━━━━━━━━━━━━━━━━━━━━━━━━━━━━━━━━┓\n",
       "┃\u001b[1m \u001b[0m\u001b[1m         Test metric          \u001b[0m\u001b[1m \u001b[0m┃\u001b[1m \u001b[0m\u001b[1m         DataLoader 0         \u001b[0m\u001b[1m \u001b[0m┃\n",
       "┡━━━━━━━━━━━━━━━━━━━━━━━━━━━━━━━━╇━━━━━━━━━━━━━━━━━━━━━━━━━━━━━━━━┩\n",
       "│\u001b[36m \u001b[0m\u001b[36m      lat_acc:aggregate       \u001b[0m\u001b[36m \u001b[0m│\u001b[35m \u001b[0m\u001b[35m     0.003581039944438576     \u001b[0m\u001b[35m \u001b[0m│\n",
       "│\u001b[36m \u001b[0m\u001b[36m lat_acc:era5:2m_temperature  \u001b[0m\u001b[36m \u001b[0m│\u001b[35m \u001b[0m\u001b[35m   -1.4315695092836287e-05    \u001b[0m\u001b[35m \u001b[0m│\n",
       "│\u001b[36m \u001b[0m\u001b[36mlat_acc:era5:geopotential_500 \u001b[0m\u001b[36m \u001b[0m│\u001b[35m \u001b[0m\u001b[35m     0.00189398742417056      \u001b[0m\u001b[35m \u001b[0m│\n",
       "│\u001b[36m \u001b[0m\u001b[36m lat_acc:era5:temperature_850 \u001b[0m\u001b[36m \u001b[0m│\u001b[35m \u001b[0m\u001b[35m     0.008863448104237986     \u001b[0m\u001b[35m \u001b[0m│\n",
       "│\u001b[36m \u001b[0m\u001b[36m      lat_rmse:aggregate      \u001b[0m\u001b[36m \u001b[0m│\u001b[35m \u001b[0m\u001b[35m      613.4798152433999       \u001b[0m\u001b[35m \u001b[0m│\n",
       "│\u001b[36m \u001b[0m\u001b[36m lat_rmse:era5:2m_temperature \u001b[0m\u001b[36m \u001b[0m│\u001b[35m \u001b[0m\u001b[35m      5.8884182692168805      \u001b[0m\u001b[35m \u001b[0m│\n",
       "│\u001b[36m \u001b[0m\u001b[36mlat_rmse:era5:geopotential_500\u001b[0m\u001b[36m \u001b[0m│\u001b[35m \u001b[0m\u001b[35m      1062.5476872600402      \u001b[0m\u001b[35m \u001b[0m│\n",
       "│\u001b[36m \u001b[0m\u001b[36mlat_rmse:era5:temperature_850 \u001b[0m\u001b[36m \u001b[0m│\u001b[35m \u001b[0m\u001b[35m       5.3993970584494        \u001b[0m\u001b[35m \u001b[0m│\n",
       "└────────────────────────────────┴────────────────────────────────┘\n"
      ]
     },
     "metadata": {},
     "output_type": "display_data"
    },
    {
     "data": {
      "text/html": [
       "<pre style=\"white-space:pre;overflow-x:auto;line-height:normal;font-family:Menlo,'DejaVu Sans Mono',consolas,'Courier New',monospace\"></pre>\n"
      ],
      "text/plain": []
     },
     "metadata": {},
     "output_type": "display_data"
    },
    {
     "data": {
      "text/html": [
       "<pre style=\"white-space:pre;overflow-x:auto;line-height:normal;font-family:Menlo,'DejaVu Sans Mono',consolas,'Courier New',monospace\">\n",
       "</pre>\n"
      ],
      "text/plain": [
       "\n"
      ]
     },
     "metadata": {},
     "output_type": "display_data"
    }
   ],
   "source": [
    "trainer.test(climatology, dm)"
   ]
  },
  {
   "cell_type": "code",
   "execution_count": 8,
   "id": "9652299b-9481-441d-927d-86a0b3b5ce47",
   "metadata": {},
   "outputs": [
    {
     "data": {
      "application/vnd.jupyter.widget-view+json": {
       "model_id": "25d7c94c8f3646f38b7f0dac849afe70",
       "version_major": 2,
       "version_minor": 0
      },
      "text/plain": [
       "Output()"
      ]
     },
     "metadata": {},
     "output_type": "display_data"
    },
    {
     "data": {
      "text/html": [
       "<pre style=\"white-space:pre;overflow-x:auto;line-height:normal;font-family:Menlo,'DejaVu Sans Mono',consolas,'Courier New',monospace\">┏━━━━━━━━━━━━━━━━━━━━━━━━━━━━━━━━┳━━━━━━━━━━━━━━━━━━━━━━━━━━━━━━━━┓\n",
       "┃<span style=\"font-weight: bold\">          Test metric           </span>┃<span style=\"font-weight: bold\">          DataLoader 0          </span>┃\n",
       "┡━━━━━━━━━━━━━━━━━━━━━━━━━━━━━━━━╇━━━━━━━━━━━━━━━━━━━━━━━━━━━━━━━━┩\n",
       "│<span style=\"color: #008080; text-decoration-color: #008080\">       lat_acc:aggregate        </span>│<span style=\"color: #800080; text-decoration-color: #800080\">       0.9246399089108405       </span>│\n",
       "│<span style=\"color: #008080; text-decoration-color: #008080\">  lat_acc:era5:2m_temperature   </span>│<span style=\"color: #800080; text-decoration-color: #800080\">       0.8520011234779439       </span>│\n",
       "│<span style=\"color: #008080; text-decoration-color: #008080\"> lat_acc:era5:geopotential_500  </span>│<span style=\"color: #800080; text-decoration-color: #800080\">       0.9728730688167669       </span>│\n",
       "│<span style=\"color: #008080; text-decoration-color: #008080\">  lat_acc:era5:temperature_850  </span>│<span style=\"color: #800080; text-decoration-color: #800080\">       0.9490455344378096       </span>│\n",
       "│<span style=\"color: #008080; text-decoration-color: #008080\">       lat_rmse:aggregate       </span>│<span style=\"color: #800080; text-decoration-color: #800080\">       135.00864708145804       </span>│\n",
       "│<span style=\"color: #008080; text-decoration-color: #008080\">  lat_rmse:era5:2m_temperature  </span>│<span style=\"color: #800080; text-decoration-color: #800080\">       2.7991185090450195       </span>│\n",
       "│<span style=\"color: #008080; text-decoration-color: #008080\"> lat_rmse:era5:geopotential_500 </span>│<span style=\"color: #800080; text-decoration-color: #800080\">       233.81963806062373       </span>│\n",
       "│<span style=\"color: #008080; text-decoration-color: #008080\"> lat_rmse:era5:temperature_850  </span>│<span style=\"color: #800080; text-decoration-color: #800080\">       1.582942976240325        </span>│\n",
       "└────────────────────────────────┴────────────────────────────────┘\n",
       "</pre>\n"
      ],
      "text/plain": [
       "┏━━━━━━━━━━━━━━━━━━━━━━━━━━━━━━━━┳━━━━━━━━━━━━━━━━━━━━━━━━━━━━━━━━┓\n",
       "┃\u001b[1m \u001b[0m\u001b[1m         Test metric          \u001b[0m\u001b[1m \u001b[0m┃\u001b[1m \u001b[0m\u001b[1m         DataLoader 0         \u001b[0m\u001b[1m \u001b[0m┃\n",
       "┡━━━━━━━━━━━━━━━━━━━━━━━━━━━━━━━━╇━━━━━━━━━━━━━━━━━━━━━━━━━━━━━━━━┩\n",
       "│\u001b[36m \u001b[0m\u001b[36m      lat_acc:aggregate       \u001b[0m\u001b[36m \u001b[0m│\u001b[35m \u001b[0m\u001b[35m      0.9246399089108405      \u001b[0m\u001b[35m \u001b[0m│\n",
       "│\u001b[36m \u001b[0m\u001b[36m lat_acc:era5:2m_temperature  \u001b[0m\u001b[36m \u001b[0m│\u001b[35m \u001b[0m\u001b[35m      0.8520011234779439      \u001b[0m\u001b[35m \u001b[0m│\n",
       "│\u001b[36m \u001b[0m\u001b[36mlat_acc:era5:geopotential_500 \u001b[0m\u001b[36m \u001b[0m│\u001b[35m \u001b[0m\u001b[35m      0.9728730688167669      \u001b[0m\u001b[35m \u001b[0m│\n",
       "│\u001b[36m \u001b[0m\u001b[36m lat_acc:era5:temperature_850 \u001b[0m\u001b[36m \u001b[0m│\u001b[35m \u001b[0m\u001b[35m      0.9490455344378096      \u001b[0m\u001b[35m \u001b[0m│\n",
       "│\u001b[36m \u001b[0m\u001b[36m      lat_rmse:aggregate      \u001b[0m\u001b[36m \u001b[0m│\u001b[35m \u001b[0m\u001b[35m      135.00864708145804      \u001b[0m\u001b[35m \u001b[0m│\n",
       "│\u001b[36m \u001b[0m\u001b[36m lat_rmse:era5:2m_temperature \u001b[0m\u001b[36m \u001b[0m│\u001b[35m \u001b[0m\u001b[35m      2.7991185090450195      \u001b[0m\u001b[35m \u001b[0m│\n",
       "│\u001b[36m \u001b[0m\u001b[36mlat_rmse:era5:geopotential_500\u001b[0m\u001b[36m \u001b[0m│\u001b[35m \u001b[0m\u001b[35m      233.81963806062373      \u001b[0m\u001b[35m \u001b[0m│\n",
       "│\u001b[36m \u001b[0m\u001b[36mlat_rmse:era5:temperature_850 \u001b[0m\u001b[36m \u001b[0m│\u001b[35m \u001b[0m\u001b[35m      1.582942976240325       \u001b[0m\u001b[35m \u001b[0m│\n",
       "└────────────────────────────────┴────────────────────────────────┘\n"
      ]
     },
     "metadata": {},
     "output_type": "display_data"
    },
    {
     "data": {
      "text/html": [
       "<pre style=\"white-space:pre;overflow-x:auto;line-height:normal;font-family:Menlo,'DejaVu Sans Mono',consolas,'Courier New',monospace\"></pre>\n"
      ],
      "text/plain": []
     },
     "metadata": {},
     "output_type": "display_data"
    },
    {
     "data": {
      "text/html": [
       "<pre style=\"white-space:pre;overflow-x:auto;line-height:normal;font-family:Menlo,'DejaVu Sans Mono',consolas,'Courier New',monospace\">\n",
       "</pre>\n"
      ],
      "text/plain": [
       "\n"
      ]
     },
     "metadata": {},
     "output_type": "display_data"
    }
   ],
   "source": [
    "trainer.test(persistence, dm)"
   ]
  },
  {
   "cell_type": "code",
   "execution_count": null,
   "id": "62459753-1f6f-4db7-a18a-5317f59d57cb",
   "metadata": {},
   "outputs": [],
   "source": [
    "# trainer.test(resnet, dm)"
   ]
  }
 ],
 "metadata": {
  "kernelspec": {
   "display_name": "climate",
   "language": "python",
   "name": "climate"
  },
  "language_info": {
   "codemirror_mode": {
    "name": "ipython",
    "version": 3
   },
   "file_extension": ".py",
   "mimetype": "text/x-python",
   "name": "python",
   "nbconvert_exporter": "python",
   "pygments_lexer": "ipython3",
   "version": "3.7.16"
  }
 },
 "nbformat": 4,
 "nbformat_minor": 5
}
