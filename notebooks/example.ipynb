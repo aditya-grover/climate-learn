{
 "cells": [
  {
   "cell_type": "markdown",
   "id": "cd95b6e8-ca43-4c24-8a54-6545af34a165",
   "metadata": {},
   "source": [
    "# Quickstart"
   ]
  },
  {
   "cell_type": "code",
   "execution_count": null,
   "id": "0097cee0-e14a-4aa4-a41d-c27d9c8b08e6",
   "metadata": {
    "tags": []
   },
   "outputs": [],
   "source": [
    "import climate_learn as cl\n",
    "from climate_learn.data.climate_dataset.args import ERA5Args\n",
    "from climate_learn.data.task.args import ForecastingArgs\n",
    "from climate_learn.data.dataset.args import MapDatasetArgs"
   ]
  },
  {
   "cell_type": "markdown",
   "id": "f2ee3837-8114-4e67-963d-9edc6e656a24",
   "metadata": {
    "tags": []
   },
   "source": [
    "## Load the data"
   ]
  },
  {
   "cell_type": "code",
   "execution_count": null,
   "id": "4571e1fa-03f6-4608-8688-475467afe609",
   "metadata": {
    "tags": []
   },
   "outputs": [],
   "source": [
    "root = \"/data0/datasets/weatherbench/data/weatherbench/era5/5.625deg\"\n",
    "variables = [\"2m_temperature\"]\n",
    "in_vars = out_vars = [f\"era5:{v}\" for v in variables]\n",
    "train_years = range(2010, 2016)\n",
    "val_years = range(2016, 2017)\n",
    "test_years = range(2018, 2019)\n",
    "\n",
    "forecasting_args = ForecastingArgs(\n",
    "    in_vars,\n",
    "    out_vars,\n",
    "    pred_range=3*24,\n",
    "    subsample=6\n",
    ")\n",
    "\n",
    "train_dataset_args = MapDatasetArgs(\n",
    "    ERA5Args(root, variables, train_years),\n",
    "    forecasting_args\n",
    ")\n",
    "\n",
    "val_dataset_args = MapDatasetArgs(\n",
    "    ERA5Args(root, variables, val_years),\n",
    "    forecasting_args\n",
    ")\n",
    "\n",
    "test_dataset_args = MapDatasetArgs(\n",
    "    ERA5Args(root, variables, test_years),\n",
    "    forecasting_args\n",
    ")\n",
    "\n",
    "dm = cl.data.DataModule(\n",
    "    train_dataset_args,\n",
    "    val_dataset_args,\n",
    "    test_dataset_args,\n",
    "    batch_size=32,\n",
    "    num_workers=8\n",
    ")"
   ]
  },
  {
   "cell_type": "markdown",
   "id": "9e938cac-5908-4035-b861-4ccd460956e6",
   "metadata": {},
   "source": [
    "## Load the models"
   ]
  },
  {
   "cell_type": "code",
   "execution_count": null,
   "id": "d6c2bc91-41cc-4ccb-87fb-168db62db632",
   "metadata": {},
   "outputs": [],
   "source": [
    "# climatology is the average value over the training period\n",
    "climatology = cl.load_forecasting_module(data_module=dm, preset=\"climatology\")\n",
    "\n",
    "# persistence returns its input as its prediction\n",
    "persistence = cl.load_forecasting_module(data_module=dm, preset=\"persistence\")\n",
    "\n",
    "# Rasp-Theurey 2020 is the SoTA on WeatherBench\n",
    "resnet = cl.load_forecasting_module(data_module=dm, preset=\"rasp-theurey-2020\")"
   ]
  },
  {
   "cell_type": "markdown",
   "id": "2c4bcb9b-f5a6-448d-8070-0b52742dfb19",
   "metadata": {},
   "source": [
    "## Train the models\n",
    "\n",
    "Climatology and persistence don't require training."
   ]
  },
  {
   "cell_type": "code",
   "execution_count": null,
   "id": "9990026c-2a67-4848-b29f-f5d1021cdd5c",
   "metadata": {},
   "outputs": [],
   "source": [
    "# change this to whatever gpu device you want to use\n",
    "gpu_num = 0\n",
    "\n",
    "trainer = cl.Trainer(\n",
    "    # stop when latitude-weighted RMSE, a validation metric, stops improving\n",
    "    early_stopping=\"lat_rmse:aggregate\",\n",
    "    # wait for 1 epoch of no improvement\n",
    "    patience=1,\n",
    "    # uncomment to use gpu acceleration\n",
    "    # accelerator=\"gpu\",\n",
    "    # devices=[gpu_num],\n",
    "    # max epochs\n",
    "    max_epochs=2\n",
    ")"
   ]
  },
  {
   "cell_type": "code",
   "execution_count": null,
   "id": "37980493-6f3a-426f-9306-7f4addbfbcce",
   "metadata": {},
   "outputs": [],
   "source": [
    "trainer.fit(resnet, dm)"
   ]
  },
  {
   "cell_type": "markdown",
   "id": "ff7220a2-490f-4a85-84e8-a506346370d4",
   "metadata": {},
   "source": [
    "## Test the models"
   ]
  },
  {
   "cell_type": "code",
   "execution_count": null,
   "id": "5232e21d-0a9b-4164-9ccd-588527ec9a15",
   "metadata": {},
   "outputs": [],
   "source": [
    "trainer.test(climatology, dm)"
   ]
  },
  {
   "cell_type": "code",
   "execution_count": null,
   "id": "9652299b-9481-441d-927d-86a0b3b5ce47",
   "metadata": {},
   "outputs": [],
   "source": [
    "trainer.test(persistence, dm)"
   ]
  },
  {
   "cell_type": "code",
   "execution_count": null,
   "id": "62459753-1f6f-4db7-a18a-5317f59d57cb",
   "metadata": {},
   "outputs": [],
   "source": [
    "trainer.test(resnet, dm)"
   ]
  }
 ],
 "metadata": {
  "kernelspec": {
   "display_name": "climate",
   "language": "python",
   "name": "climate"
  },
  "language_info": {
   "codemirror_mode": {
    "name": "ipython",
    "version": 3
   },
   "file_extension": ".py",
   "mimetype": "text/x-python",
   "name": "python",
   "nbconvert_exporter": "python",
   "pygments_lexer": "ipython3",
   "version": "3.7.16"
  }
 },
 "nbformat": 4,
 "nbformat_minor": 5
}
