{
 "cells": [
  {
   "cell_type": "code",
   "execution_count": 1,
   "id": "13511cc8-7460-4bf1-82c9-3f54c66856eb",
   "metadata": {
    "tags": []
   },
   "outputs": [],
   "source": [
    "from tqdm import tqdm\n",
    "import numpy as np\n",
    "import xesmf as xe\n",
    "import rasterio as rio\n",
    "import os\n",
    "import glob"
   ]
  },
  {
   "cell_type": "code",
   "execution_count": 2,
   "id": "e684e23f-74b7-4e12-a39a-6319693296fd",
   "metadata": {
    "tags": []
   },
   "outputs": [],
   "source": [
    "root = os.path.join(os.environ[\"PRISM_DIR\"], \"raws\")\n",
    "subdirs = sorted(os.listdir(root))"
   ]
  },
  {
   "cell_type": "code",
   "execution_count": 3,
   "id": "ed38083d-97b3-4f49-9b65-fce67534958b",
   "metadata": {
    "tags": []
   },
   "outputs": [
    {
     "data": {
      "text/plain": [
       "xESMF Regridder \n",
       "Regridding algorithm:       bilinear \n",
       "Weight filename:            bilinear_621x1405_26x60.nc \n",
       "Reuse pre-computed weights? False \n",
       "Input grid shape:           (621, 1405) \n",
       "Output grid shape:          (26, 60) \n",
       "Periodic in longitude?      False"
      ]
     },
     "execution_count": 3,
     "metadata": {},
     "output_type": "execute_result"
    }
   ],
   "source": [
    "# Build regridder\n",
    "dataset = rio.open(glob.glob(os.path.join(root, subdirs[0], \"*.bil\"))[0])\n",
    "lats = np.empty(dataset.height, dtype=float)\n",
    "lons = np.empty(dataset.width, dtype=float)\n",
    "for i in range(dataset.height):\n",
    "    lats[i] = (dataset.transform * (dataset.width // 2, i))[1]\n",
    "for i in range(dataset.width):\n",
    "    lons[i] = (dataset.transform * (i, dataset.height // 2))[0] % 360\n",
    "    \n",
    "target_res = 0.75 # degrees\n",
    "scaling_factor = 0.032 / target_res\n",
    "target_width = round(dataset.width * scaling_factor)\n",
    "target_height = round(dataset.height * scaling_factor)\n",
    "grid_in = {\"lon\": lons, \"lat\": lats}\n",
    "grid_out = {\n",
    "    \"lon\": np.linspace(lons.min(), lons.max(), target_width),\n",
    "    \"lat\": np.linspace(lats.min(), lats.max(), target_height)\n",
    "}\n",
    "regridder = xe.Regridder(grid_in, grid_out, \"bilinear\")\n",
    "regridder"
   ]
  },
  {
   "cell_type": "code",
   "execution_count": 4,
   "id": "0ace245d-aead-4a4d-95cd-0085be2c622c",
   "metadata": {
    "tags": []
   },
   "outputs": [],
   "source": [
    "# Get mask\n",
    "arr = dataset.read(1)\n",
    "mask = (arr != -9999).astype(int)"
   ]
  },
  {
   "cell_type": "code",
   "execution_count": 5,
   "id": "70923076-4886-423b-bc35-2143597754f6",
   "metadata": {
    "tags": []
   },
   "outputs": [],
   "source": [
    "# Define function to fix border\n",
    "masked_arr = np.where(mask, arr, np.nan)\n",
    "arr_out = regridder(masked_arr)\n",
    "first_row = np.empty(arr_out.shape[1])\n",
    "first_row[:] = np.nan\n",
    "\n",
    "def fix(arr):\n",
    "    return np.vstack((first_row, arr[1:]))"
   ]
  },
  {
   "cell_type": "code",
   "execution_count": 6,
   "id": "06fcb392-5d5b-43b5-b28d-5a8de2a7817a",
   "metadata": {
    "tags": []
   },
   "outputs": [
    {
     "name": "stderr",
     "output_type": "stream",
     "text": [
      "100%|███████████████████████████████████████████████████████████████████████████████████████████████████████████████████████████████████████████████████████| 14975/14975 [01:54<00:00, 130.93it/s]\n"
     ]
    }
   ],
   "source": [
    "# Process PRISM data\n",
    "all_prism_data = []\n",
    "for sd in tqdm(subdirs):\n",
    "    dataset = rio.open(glob.glob(os.path.join(root, sd, \"*.bil\"))[0])\n",
    "    arr = dataset.read(1)\n",
    "    masked_arr = np.where(mask, arr, np.nan)\n",
    "    arr_out = regridder(masked_arr)\n",
    "    fixed_arr = fix(arr_out)\n",
    "    all_prism_data.append(fixed_arr)"
   ]
  },
  {
   "cell_type": "code",
   "execution_count": 7,
   "id": "1b6c36af-bc4d-4d39-9e76-1573f9636919",
   "metadata": {
    "tags": []
   },
   "outputs": [
    {
     "data": {
      "text/plain": [
       "(14975, 26, 60)"
      ]
     },
     "execution_count": 7,
     "metadata": {},
     "output_type": "execute_result"
    }
   ],
   "source": [
    "all_prism_data = np.stack(all_prism_data, 0)\n",
    "all_prism_data.shape"
   ]
  },
  {
   "cell_type": "code",
   "execution_count": 8,
   "id": "66b81c98-2b5a-438b-bfd0-dc67f58adec7",
   "metadata": {
    "tags": []
   },
   "outputs": [
    {
     "name": "stdout",
     "output_type": "stream",
     "text": [
      "12783\n"
     ]
    }
   ],
   "source": [
    "for i, sd in enumerate(subdirs):\n",
    "    if sd.startswith(\"2016\"):\n",
    "        train_end = i\n",
    "        break\n",
    "print(train_end)"
   ]
  },
  {
   "cell_type": "code",
   "execution_count": 9,
   "id": "af971e53-b15c-4594-81ee-f43a73dd0acd",
   "metadata": {
    "tags": []
   },
   "outputs": [
    {
     "name": "stdout",
     "output_type": "stream",
     "text": [
      "13149\n"
     ]
    }
   ],
   "source": [
    "for i, sd in enumerate(subdirs):\n",
    "    if sd.startswith(\"2017\"):\n",
    "        val_end = i\n",
    "        break\n",
    "print(val_end)"
   ]
  },
  {
   "cell_type": "code",
   "execution_count": 10,
   "id": "a4d99586-9160-4381-86b3-edaf5fc945db",
   "metadata": {
    "tags": []
   },
   "outputs": [
    {
     "name": "stdout",
     "output_type": "stream",
     "text": [
      "13879\n"
     ]
    }
   ],
   "source": [
    "for i, sd in enumerate(subdirs):\n",
    "    if sd.startswith(\"2019\"):\n",
    "        test_end = i\n",
    "        break\n",
    "print(test_end)"
   ]
  },
  {
   "cell_type": "code",
   "execution_count": 11,
   "id": "42dedb00-f8db-45fc-89a7-47d827f9ddf7",
   "metadata": {
    "tags": []
   },
   "outputs": [],
   "source": [
    "train = all_prism_data[:train_end]\n",
    "train_mean = train.mean(axis=0)\n",
    "train_std = train.std(axis=0)"
   ]
  },
  {
   "cell_type": "code",
   "execution_count": 12,
   "id": "29d7571a-f73f-46e7-a18e-9a37f2f22b9e",
   "metadata": {
    "tags": []
   },
   "outputs": [],
   "source": [
    "val = all_prism_data[train_end:val_end]\n",
    "val_mean = val.mean(axis=0)\n",
    "val_std = val.std(axis=0)"
   ]
  },
  {
   "cell_type": "code",
   "execution_count": 13,
   "id": "e484dd2d-b04e-4fc6-9295-b2d311a272f4",
   "metadata": {
    "tags": []
   },
   "outputs": [],
   "source": [
    "test = all_prism_data[val_end:test_end]\n",
    "test_mean = test.mean(axis=0)\n",
    "test_std = test.std(axis=0)"
   ]
  },
  {
   "cell_type": "code",
   "execution_count": 14,
   "id": "41a6e89e-daf2-4b7a-bbff-47fc3d5266e5",
   "metadata": {
    "tags": []
   },
   "outputs": [],
   "source": [
    "with open(\"/data0/datasets/prism/prism_processed/train.npz\", \"wb\") as f:\n",
    "    np.savez(f, data=train, mean=train_mean, std=train_std)\n",
    "    \n",
    "with open(\"/data0/datasets/prism/prism_processed/val.npz\", \"wb\") as f:\n",
    "    np.savez(f, data=val, mean=val_mean, std=val_std)\n",
    "    \n",
    "with open(\"/data0/datasets/prism/prism_processed/test.npz\", \"wb\") as f:\n",
    "    np.savez(f, data=test, mean=test_mean, std=test_std)"
   ]
  },
  {
   "cell_type": "code",
   "execution_count": 16,
   "id": "1ab5fd20-3f89-4bb6-9bbe-b1ec51a6ec3f",
   "metadata": {
    "tags": []
   },
   "outputs": [],
   "source": [
    "with open(\"/data0/datasets/prism/prism_processed/coords.npz\", \"wb\") as f:\n",
    "    np.savez(f, lat=grid_out[\"lat\"], lon=grid_out[\"lon\"])"
   ]
  },
  {
   "cell_type": "code",
   "execution_count": 17,
   "id": "41703219-0896-443b-ae52-ab9a26c06a1c",
   "metadata": {
    "tags": []
   },
   "outputs": [],
   "source": [
    "regridded_mask = np.where(np.isnan(train[0]), 0, 1)"
   ]
  },
  {
   "cell_type": "code",
   "execution_count": 21,
   "id": "036dad5e-2c32-49b4-bc6c-67c2575beefe",
   "metadata": {
    "tags": []
   },
   "outputs": [],
   "source": [
    "with open(\"/data0/datasets/prism/prism_processed/mask.npy\", \"wb\") as f:\n",
    "    np.save(f, regridded_mask)"
   ]
  }
 ],
 "metadata": {
  "kernelspec": {
   "display_name": "climate",
   "language": "python",
   "name": "climate"
  },
  "language_info": {
   "codemirror_mode": {
    "name": "ipython",
    "version": 3
   },
   "file_extension": ".py",
   "mimetype": "text/x-python",
   "name": "python",
   "nbconvert_exporter": "python",
   "pygments_lexer": "ipython3",
   "version": "3.10.9"
  }
 },
 "nbformat": 4,
 "nbformat_minor": 5
}
