{
 "cells": [
  {
   "cell_type": "code",
   "execution_count": 1,
   "id": "627728e2-11d8-4492-a800-80e820a2be60",
   "metadata": {
    "tags": []
   },
   "outputs": [],
   "source": [
    "%load_ext autoreload\n",
    "%autoreload 2"
   ]
  },
  {
   "cell_type": "code",
   "execution_count": 31,
   "id": "0ae99a94-f52f-430b-a806-d87a1274c293",
   "metadata": {
    "tags": []
   },
   "outputs": [],
   "source": [
    "import os\n",
    "import climate_learn as cl\n",
    "from climate_learn.transforms import Mask, Denormalize\n",
    "from climate_learn.data import ERA5ToPrism\n",
    "import torch"
   ]
  },
  {
   "cell_type": "code",
   "execution_count": 3,
   "id": "04aa0753-549c-40c5-9b5e-c1bd194d10b9",
   "metadata": {
    "tags": []
   },
   "outputs": [],
   "source": [
    "dm = ERA5ToPrism(\n",
    "    os.path.join(os.environ[\"PRISM_DIR\"], \"era5_cropped\"),\n",
    "    os.path.join(os.environ[\"PRISM_DIR\"], \"prism_processed\")\n",
    ")"
   ]
  },
  {
   "cell_type": "code",
   "execution_count": 4,
   "id": "e1f8f502-5a95-4d29-adec-5b1823fb12bc",
   "metadata": {
    "tags": []
   },
   "outputs": [],
   "source": [
    "dm.setup()"
   ]
  },
  {
   "cell_type": "code",
   "execution_count": 5,
   "id": "edd4ebc5-cfb4-45cc-8896-64008bbdc741",
   "metadata": {
    "tags": []
   },
   "outputs": [],
   "source": [
    "mask = Mask(dm.get_out_mask().to(device=\"cuda:0\"))\n",
    "denorm = Denormalize(dm)"
   ]
  },
  {
   "cell_type": "code",
   "execution_count": 6,
   "id": "d99000d5-2a14-42cb-91bd-34dbfa1beef9",
   "metadata": {
    "tags": []
   },
   "outputs": [],
   "source": [
    "denorm_mask = lambda x: denorm(mask(x))"
   ]
  },
  {
   "cell_type": "code",
   "execution_count": 27,
   "id": "bb3b9cd1-24a1-4448-8aed-0cb23211b527",
   "metadata": {
    "tags": []
   },
   "outputs": [],
   "source": [
    "for batch in dm.train_dataloader():\n",
    "    x, y, in_vars, out_vars= batch\n",
    "    break"
   ]
  },
  {
   "cell_type": "code",
   "execution_count": 45,
   "id": "c600d46f-8a01-4d26-8608-11271ea644b3",
   "metadata": {
    "tags": []
   },
   "outputs": [
    {
     "name": "stderr",
     "output_type": "stream",
     "text": [
      "Global seed set to 0\n"
     ]
    }
   ],
   "source": [
    "trainer = cl.Trainer(accelerator=\"gpu\", devices=[0])"
   ]
  },
  {
   "cell_type": "code",
   "execution_count": 46,
   "id": "113da061-9e0b-4667-a1bb-abcb973970b6",
   "metadata": {
    "tags": []
   },
   "outputs": [
    {
     "name": "stdout",
     "output_type": "stream",
     "text": [
      "Loading preset: nearest-interpolation\n",
      "Using preset optimizer\n",
      "Using preset learning rate scheduler\n",
      "Loading training loss: mse\n",
      "Using custom training transform\n",
      "Loading validation loss: rmse\n",
      "Loading validation loss: pearson\n",
      "Loading validation loss: mean_bias\n",
      "Loading validation loss: mse\n",
      "Using custom validation transform\n",
      "Using custom validation transform\n",
      "Using custom validation transform\n",
      "Using custom validation transform\n",
      "Loading test loss: rmse\n",
      "Loading test loss: pearson\n",
      "Loading test loss: mean_bias\n",
      "Using custom test transform\n",
      "Using custom test transform\n",
      "Using custom test transform\n"
     ]
    },
    {
     "data": {
      "application/vnd.jupyter.widget-view+json": {
       "model_id": "80fd1f5038644ef0a09b9c0eeb3cf96d",
       "version_major": 2,
       "version_minor": 0
      },
      "text/plain": [
       "Output()"
      ]
     },
     "metadata": {},
     "output_type": "display_data"
    },
    {
     "data": {
      "text/html": [
       "<pre style=\"white-space:pre;overflow-x:auto;line-height:normal;font-family:Menlo,'DejaVu Sans Mono',consolas,'Courier New',monospace\">┏━━━━━━━━━━━━━━━━━━━━━━━━━━━┳━━━━━━━━━━━━━━━━━━━━━━━━━━━┓\n",
       "┃<span style=\"font-weight: bold\">        Test metric        </span>┃<span style=\"font-weight: bold\">       DataLoader 0        </span>┃\n",
       "┡━━━━━━━━━━━━━━━━━━━━━━━━━━━╇━━━━━━━━━━━━━━━━━━━━━━━━━━━┩\n",
       "│<span style=\"color: #008080; text-decoration-color: #008080\"> test/mean_bias:aggregate  </span>│<span style=\"color: #800080; text-decoration-color: #800080\">   -0.047938872989860604   </span>│\n",
       "│<span style=\"color: #008080; text-decoration-color: #008080\"> test/mean_bias:daily_tmax </span>│<span style=\"color: #800080; text-decoration-color: #800080\">   -0.047938872989860604   </span>│\n",
       "│<span style=\"color: #008080; text-decoration-color: #008080\">  test/pearson:aggregate   </span>│<span style=\"color: #800080; text-decoration-color: #800080\">    0.8995036909952759     </span>│\n",
       "│<span style=\"color: #008080; text-decoration-color: #008080\">  test/pearson:daily_tmax  </span>│<span style=\"color: #800080; text-decoration-color: #800080\">    0.8995036909952759     </span>│\n",
       "│<span style=\"color: #008080; text-decoration-color: #008080\">    test/rmse:aggregate    </span>│<span style=\"color: #800080; text-decoration-color: #800080\">    3.1585565831850593     </span>│\n",
       "│<span style=\"color: #008080; text-decoration-color: #008080\">   test/rmse:daily_tmax    </span>│<span style=\"color: #800080; text-decoration-color: #800080\">    3.1585565831850593     </span>│\n",
       "└───────────────────────────┴───────────────────────────┘\n",
       "</pre>\n"
      ],
      "text/plain": [
       "┏━━━━━━━━━━━━━━━━━━━━━━━━━━━┳━━━━━━━━━━━━━━━━━━━━━━━━━━━┓\n",
       "┃\u001b[1m \u001b[0m\u001b[1m       Test metric       \u001b[0m\u001b[1m \u001b[0m┃\u001b[1m \u001b[0m\u001b[1m      DataLoader 0       \u001b[0m\u001b[1m \u001b[0m┃\n",
       "┡━━━━━━━━━━━━━━━━━━━━━━━━━━━╇━━━━━━━━━━━━━━━━━━━━━━━━━━━┩\n",
       "│\u001b[36m \u001b[0m\u001b[36mtest/mean_bias:aggregate \u001b[0m\u001b[36m \u001b[0m│\u001b[35m \u001b[0m\u001b[35m  -0.047938872989860604  \u001b[0m\u001b[35m \u001b[0m│\n",
       "│\u001b[36m \u001b[0m\u001b[36mtest/mean_bias:daily_tmax\u001b[0m\u001b[36m \u001b[0m│\u001b[35m \u001b[0m\u001b[35m  -0.047938872989860604  \u001b[0m\u001b[35m \u001b[0m│\n",
       "│\u001b[36m \u001b[0m\u001b[36m test/pearson:aggregate  \u001b[0m\u001b[36m \u001b[0m│\u001b[35m \u001b[0m\u001b[35m   0.8995036909952759    \u001b[0m\u001b[35m \u001b[0m│\n",
       "│\u001b[36m \u001b[0m\u001b[36m test/pearson:daily_tmax \u001b[0m\u001b[36m \u001b[0m│\u001b[35m \u001b[0m\u001b[35m   0.8995036909952759    \u001b[0m\u001b[35m \u001b[0m│\n",
       "│\u001b[36m \u001b[0m\u001b[36m   test/rmse:aggregate   \u001b[0m\u001b[36m \u001b[0m│\u001b[35m \u001b[0m\u001b[35m   3.1585565831850593    \u001b[0m\u001b[35m \u001b[0m│\n",
       "│\u001b[36m \u001b[0m\u001b[36m  test/rmse:daily_tmax   \u001b[0m\u001b[36m \u001b[0m│\u001b[35m \u001b[0m\u001b[35m   3.1585565831850593    \u001b[0m\u001b[35m \u001b[0m│\n",
       "└───────────────────────────┴───────────────────────────┘\n"
      ]
     },
     "metadata": {},
     "output_type": "display_data"
    },
    {
     "data": {
      "text/html": [
       "<pre style=\"white-space:pre;overflow-x:auto;line-height:normal;font-family:Menlo,'DejaVu Sans Mono',consolas,'Courier New',monospace\"></pre>\n"
      ],
      "text/plain": []
     },
     "metadata": {},
     "output_type": "display_data"
    },
    {
     "data": {
      "text/html": [
       "<pre style=\"white-space:pre;overflow-x:auto;line-height:normal;font-family:Menlo,'DejaVu Sans Mono',consolas,'Courier New',monospace\">\n",
       "</pre>\n"
      ],
      "text/plain": [
       "\n"
      ]
     },
     "metadata": {},
     "output_type": "display_data"
    }
   ],
   "source": [
    "nearest = cl.load_downscaling_module(\n",
    "    data_module=dm,\n",
    "    preset=\"nearest-interpolation\",\n",
    "    train_target_transform=mask,\n",
    "    val_target_transform=[denorm_mask, denorm_mask, denorm_mask, mask],\n",
    "    test_target_transform=[denorm_mask, denorm_mask, denorm_mask]\n",
    ")\n",
    "\n",
    "trainer.test(nearest, dm)"
   ]
  },
  {
   "cell_type": "code",
   "execution_count": 48,
   "id": "57dbbb83-b456-4af1-abda-e8ebfe0e3db6",
   "metadata": {
    "tags": []
   },
   "outputs": [
    {
     "name": "stdout",
     "output_type": "stream",
     "text": [
      "Loading preset: bilinear-interpolation\n",
      "Using preset optimizer\n",
      "Using preset learning rate scheduler\n",
      "Loading training loss: mse\n",
      "Using custom training transform\n",
      "Loading validation loss: rmse\n",
      "Loading validation loss: pearson\n",
      "Loading validation loss: mean_bias\n",
      "Loading validation loss: mse\n",
      "Using custom validation transform\n",
      "Using custom validation transform\n",
      "Using custom validation transform\n",
      "Using custom validation transform\n",
      "Loading test loss: rmse\n",
      "Loading test loss: pearson\n",
      "Loading test loss: mean_bias\n",
      "Using custom test transform\n",
      "Using custom test transform\n",
      "Using custom test transform\n"
     ]
    },
    {
     "data": {
      "application/vnd.jupyter.widget-view+json": {
       "model_id": "43ede69d794e4de68d32298360601b20",
       "version_major": 2,
       "version_minor": 0
      },
      "text/plain": [
       "Output()"
      ]
     },
     "metadata": {},
     "output_type": "display_data"
    },
    {
     "data": {
      "text/html": [
       "<pre style=\"white-space:pre;overflow-x:auto;line-height:normal;font-family:Menlo,'DejaVu Sans Mono',consolas,'Courier New',monospace\">┏━━━━━━━━━━━━━━━━━━━━━━━━━━━┳━━━━━━━━━━━━━━━━━━━━━━━━━━━┓\n",
       "┃<span style=\"font-weight: bold\">        Test metric        </span>┃<span style=\"font-weight: bold\">       DataLoader 0        </span>┃\n",
       "┡━━━━━━━━━━━━━━━━━━━━━━━━━━━╇━━━━━━━━━━━━━━━━━━━━━━━━━━━┩\n",
       "│<span style=\"color: #008080; text-decoration-color: #008080\"> test/mean_bias:aggregate  </span>│<span style=\"color: #800080; text-decoration-color: #800080\">    0.32576804131092735    </span>│\n",
       "│<span style=\"color: #008080; text-decoration-color: #008080\"> test/mean_bias:daily_tmax </span>│<span style=\"color: #800080; text-decoration-color: #800080\">    0.32576804131092735    </span>│\n",
       "│<span style=\"color: #008080; text-decoration-color: #008080\">  test/pearson:aggregate   </span>│<span style=\"color: #800080; text-decoration-color: #800080\">    0.9195437123293715     </span>│\n",
       "│<span style=\"color: #008080; text-decoration-color: #008080\">  test/pearson:daily_tmax  </span>│<span style=\"color: #800080; text-decoration-color: #800080\">    0.9195437123293715     </span>│\n",
       "│<span style=\"color: #008080; text-decoration-color: #008080\">    test/rmse:aggregate    </span>│<span style=\"color: #800080; text-decoration-color: #800080\">    2.8106137483363076     </span>│\n",
       "│<span style=\"color: #008080; text-decoration-color: #008080\">   test/rmse:daily_tmax    </span>│<span style=\"color: #800080; text-decoration-color: #800080\">    2.8106137483363076     </span>│\n",
       "└───────────────────────────┴───────────────────────────┘\n",
       "</pre>\n"
      ],
      "text/plain": [
       "┏━━━━━━━━━━━━━━━━━━━━━━━━━━━┳━━━━━━━━━━━━━━━━━━━━━━━━━━━┓\n",
       "┃\u001b[1m \u001b[0m\u001b[1m       Test metric       \u001b[0m\u001b[1m \u001b[0m┃\u001b[1m \u001b[0m\u001b[1m      DataLoader 0       \u001b[0m\u001b[1m \u001b[0m┃\n",
       "┡━━━━━━━━━━━━━━━━━━━━━━━━━━━╇━━━━━━━━━━━━━━━━━━━━━━━━━━━┩\n",
       "│\u001b[36m \u001b[0m\u001b[36mtest/mean_bias:aggregate \u001b[0m\u001b[36m \u001b[0m│\u001b[35m \u001b[0m\u001b[35m   0.32576804131092735   \u001b[0m\u001b[35m \u001b[0m│\n",
       "│\u001b[36m \u001b[0m\u001b[36mtest/mean_bias:daily_tmax\u001b[0m\u001b[36m \u001b[0m│\u001b[35m \u001b[0m\u001b[35m   0.32576804131092735   \u001b[0m\u001b[35m \u001b[0m│\n",
       "│\u001b[36m \u001b[0m\u001b[36m test/pearson:aggregate  \u001b[0m\u001b[36m \u001b[0m│\u001b[35m \u001b[0m\u001b[35m   0.9195437123293715    \u001b[0m\u001b[35m \u001b[0m│\n",
       "│\u001b[36m \u001b[0m\u001b[36m test/pearson:daily_tmax \u001b[0m\u001b[36m \u001b[0m│\u001b[35m \u001b[0m\u001b[35m   0.9195437123293715    \u001b[0m\u001b[35m \u001b[0m│\n",
       "│\u001b[36m \u001b[0m\u001b[36m   test/rmse:aggregate   \u001b[0m\u001b[36m \u001b[0m│\u001b[35m \u001b[0m\u001b[35m   2.8106137483363076    \u001b[0m\u001b[35m \u001b[0m│\n",
       "│\u001b[36m \u001b[0m\u001b[36m  test/rmse:daily_tmax   \u001b[0m\u001b[36m \u001b[0m│\u001b[35m \u001b[0m\u001b[35m   2.8106137483363076    \u001b[0m\u001b[35m \u001b[0m│\n",
       "└───────────────────────────┴───────────────────────────┘\n"
      ]
     },
     "metadata": {},
     "output_type": "display_data"
    },
    {
     "data": {
      "text/html": [
       "<pre style=\"white-space:pre;overflow-x:auto;line-height:normal;font-family:Menlo,'DejaVu Sans Mono',consolas,'Courier New',monospace\"></pre>\n"
      ],
      "text/plain": []
     },
     "metadata": {},
     "output_type": "display_data"
    },
    {
     "data": {
      "text/html": [
       "<pre style=\"white-space:pre;overflow-x:auto;line-height:normal;font-family:Menlo,'DejaVu Sans Mono',consolas,'Courier New',monospace\">\n",
       "</pre>\n"
      ],
      "text/plain": [
       "\n"
      ]
     },
     "metadata": {},
     "output_type": "display_data"
    }
   ],
   "source": [
    "bilinear = cl.load_downscaling_module(\n",
    "    data_module=dm,\n",
    "    preset=\"bilinear-interpolation\",\n",
    "    train_target_transform=mask,\n",
    "    val_target_transform=[denorm_mask, denorm_mask, denorm_mask, mask],\n",
    "    test_target_transform=[denorm_mask, denorm_mask, denorm_mask]\n",
    ")\n",
    "\n",
    "trainer.test(bilinear, dm)"
   ]
  },
  {
   "cell_type": "code",
   "execution_count": null,
   "id": "b7921ecc-8eb1-45d7-84cb-233295fa693d",
   "metadata": {},
   "outputs": [],
   "source": []
  }
 ],
 "metadata": {
  "kernelspec": {
   "display_name": "climate",
   "language": "python",
   "name": "climate"
  },
  "language_info": {
   "codemirror_mode": {
    "name": "ipython",
    "version": 3
   },
   "file_extension": ".py",
   "mimetype": "text/x-python",
   "name": "python",
   "nbconvert_exporter": "python",
   "pygments_lexer": "ipython3",
   "version": "3.10.9"
  }
 },
 "nbformat": 4,
 "nbformat_minor": 5
}
