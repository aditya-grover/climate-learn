{
 "cells": [
  {
   "cell_type": "markdown",
   "metadata": {},
   "source": [
    "# Model Training and Evaluation\n",
    "\n",
    "ClimateLearn provides a variety of baseline models to perform forecasting and [downscaling](https://uaf-snap.org/how-do-we-do-it/downscaling). In this tutorial, we'll see how to train a [ResNet model](https://en.wikipedia.org/wiki/Residual_neural_network) to do both. This tutorial is intended for use in Google Colab. Before starting, ensure that you are on a GPU runtime."
   ]
  },
  {
   "cell_type": "markdown",
   "metadata": {},
   "source": [
    "## Google Colab setup\n",
    "You might need to restart the kernel after installing ClimateLearn so that your Colab environment knows to use the correct package versions."
   ]
  },
  {
   "cell_type": "code",
   "execution_count": null,
   "metadata": {},
   "outputs": [],
   "source": [
    "!pip install climate-learn"
   ]
  },
  {
   "cell_type": "code",
   "execution_count": null,
   "metadata": {},
   "outputs": [],
   "source": [
    "from google.colab import drive\n",
    "drive.mount(\"/content/drive\")"
   ]
  },
  {
   "cell_type": "markdown",
   "metadata": {
    "id": "99jkSa_KmrDH",
    "tags": []
   },
   "source": [
    "## Forecasting\n",
    "\n",
    "### Data preparation\n",
    "The second cell of this section can be skipped if the data is already downloaded to your Drive. See the \"Data Processing\" notebook for more details."
   ]
  },
  {
   "cell_type": "code",
   "execution_count": null,
   "metadata": {},
   "outputs": [],
   "source": [
    "root = \"/content/drive/MyDrive/ClimateLearn\"\n",
    "source = \"weatherbench\"\n",
    "dataset = \"era5\"\n",
    "resolution = \"5.625\"\n",
    "variable = \"2m_temperature\"\n",
    "years = range(1979, 2018)"
   ]
  },
  {
   "cell_type": "code",
   "execution_count": null,
   "metadata": {
    "colab": {
     "base_uri": "https://localhost:8080/"
    },
    "id": "mTzr2Liw-SEv",
    "outputId": "eedffac1-e708-4678-b7bf-05ebded7865d"
   },
   "outputs": [],
   "source": [
    "from climate_learn.data import download\n",
    "download(root=root, source=source, dataset=dataset, resolution=resolution, variable=variable)"
   ]
  },
  {
   "cell_type": "code",
   "execution_count": null,
   "metadata": {},
   "outputs": [],
   "source": [
    "from climate_learn.data import DataModuleArgs, DataModule\n",
    "from climate_learn.data.climate_dataset.args import ERA5Args\n",
    "from climate_learn.data.tasks.args import ForecastingArgs\n",
    "\n",
    "data_args = ERA5Args(\n",
    "    root_dir=f\"{root}/data/{source}/{dataset}/{resolution}/\",\n",
    "    variables=[variable],\n",
    "    years=years\n",
    ")\n",
    "\n",
    "forecasting_args = ForecastingArgs(\n",
    "    dataset_args=data_args,\n",
    "    in_vars=[variable],\n",
    "    out_vars=[variable],\n",
    "    pred_range=3*24,\n",
    "    subsample=6\n",
    ")\n",
    "\n",
    "data_module_args = DataModuleArgs(\n",
    "    task_args=forecasting_args,\n",
    "    train_start_year=1979,\n",
    "    val_start_year=2015,\n",
    "    test_start_year=2017,\n",
    "    end_year=2018\n",
    ")\n",
    "\n",
    "data_module = DataModule(\n",
    "    data_module_args=data_module_args,\n",
    "    batch_size=128,\n",
    "    num_workers=1\n",
    ")"
   ]
  },
  {
   "cell_type": "markdown",
   "metadata": {
    "id": "yWXsiZ5freTG"
   },
   "source": [
    "### Model initialization\n",
    "First, we load the ResNet model. The number of input and output channels is 1 since we are concerned only with `2m_temperature`. "
   ]
  },
  {
   "cell_type": "code",
   "execution_count": null,
   "metadata": {
    "id": "paTI33tP5R4H"
   },
   "outputs": [],
   "source": [
    "from climate_learn.models import load_model\n",
    "from torch.optim import AdamW\n",
    "\n",
    "model_kwargs = {\n",
    "    \"in_channels\": 1,\n",
    "    \"out_channels\": 1,\n",
    "    \"n_blocks\": 4\n",
    "}\n",
    "\n",
    "optim_kwargs = {\n",
    "    \"lr\": 1e-4,\n",
    "    \"weight_decay\": 1e-5,\n",
    "    \"warmup_epochs\": 1,\n",
    "    \"max_epochs\": 5,\n",
    "    \"optimizer\": AdamW\n",
    "}\n",
    "\n",
    "model_module = load_model(\n",
    "    name=\"resnet\",\n",
    "    task=\"forecasting\",\n",
    "    model_kwargs=model_kwargs,\n",
    "    optim_kwargs=optim_kwargs\n",
    ")"
   ]
  },
  {
   "cell_type": "markdown",
   "metadata": {},
   "source": [
    "Although it is tedious to write out, we also could have specified the number of channels with the following.\n",
    "```python\n",
    "\"in_channels\": len(data_module.hparams.data_module_args.train_task_args.in_vars),\n",
    "\"out_channels\": len(data_module.hparams.data_module_args.train_task_args.out_vars),\n",
    "```"
   ]
  },
  {
   "cell_type": "markdown",
   "metadata": {},
   "source": [
    "Next, we set the [climatology](https://www.sciencedirect.com/topics/earth-and-planetary-sciences/climatology), which is the average value of our variables over the data period."
   ]
  },
  {
   "cell_type": "code",
   "execution_count": null,
   "metadata": {
    "id": "BalFce--51Rh"
   },
   "outputs": [],
   "source": [
    "from climate_learn.models import set_climatology\n",
    "set_climatology(model_module, data_module)"
   ]
  },
  {
   "cell_type": "markdown",
   "metadata": {
    "id": "MLxhgSOctxo4"
   },
   "source": [
    "### Training\n",
    "\n",
    "First, we fit a linear regression baseline to compare the ResNet model against in evaluation."
   ]
  },
  {
   "cell_type": "code",
   "execution_count": null,
   "metadata": {},
   "outputs": [],
   "source": [
    "from climate_learn.models import fit_lin_reg_baseline\n",
    "fit_lin_reg_baseline(model_module, data_module, reg_hparam=0.0)"
   ]
  },
  {
   "cell_type": "markdown",
   "metadata": {},
   "source": [
    "Then, we fit the ResNet model. To use the GPU accelerator on Google Colab, you must be on a GPU runtime."
   ]
  },
  {
   "cell_type": "code",
   "execution_count": null,
   "metadata": {
    "colab": {
     "base_uri": "https://localhost:8080/"
    },
    "id": "oqh0TzP4TebP",
    "outputId": "f3c5fd49-0c04-458e-cc0d-ce16f8a6a079"
   },
   "outputs": [],
   "source": [
    "from climate_learn.training import Trainer\n",
    "\n",
    "trainer = Trainer(\n",
    "    seed=0,\n",
    "    accelerator=\"gpu\",\n",
    "    precision=16,\n",
    "    max_epochs=1\n",
    ")\n",
    "\n",
    "trainer.fit(model_module, data_module)"
   ]
  },
  {
   "cell_type": "markdown",
   "metadata": {
    "id": "fCR5yoIAUBTa"
   },
   "source": [
    "### Evaluation "
   ]
  },
  {
   "cell_type": "code",
   "execution_count": null,
   "metadata": {
    "colab": {
     "base_uri": "https://localhost:8080/",
     "height": 182,
     "referenced_widgets": [
      "da5e5740522b4a00931b4351f3d99f5c",
      "8a962a93fd25439888de07922ec1dae5"
     ]
    },
    "id": "HvdXm85fa9KD",
    "outputId": "ed81e744-7f17-40e4-8fe9-420d46fcac96"
   },
   "outputs": [],
   "source": [
    "trainer.test(model_module, data_module)"
   ]
  },
  {
   "cell_type": "markdown",
   "metadata": {
    "id": "sWigLES4s22j"
   },
   "source": [
    "Ideally, the model's predictions have a strong correlation with the ground truth, which would be indicated by a high [anomaly correlation coefficient](https://climatelearn.readthedocs.io/en/latest/user-guide/metrics.html#anomaly-correlation-coefficient) value. We also want our model to achieve a smaller [latitude-weighted root mean square error](https://climatelearn.readthedocs.io/en/latest/user-guide/metrics.html#anomaly-correlation-coefficient) than the climatological forecast."
   ]
  },
  {
   "cell_type": "markdown",
   "metadata": {
    "id": "srfsF01OLV-C"
   },
   "source": [
    "## Downscaling\n",
    "\n",
    "### Data preparation\n",
    "The second cell of this section can be skipped if the data is already downloaded."
   ]
  },
  {
   "cell_type": "code",
   "execution_count": null,
   "metadata": {},
   "outputs": [],
   "source": [
    "from climate_learn.data.tasks.args import DownscalingArgs\n",
    "hi_resolution = \"2.8125\""
   ]
  },
  {
   "cell_type": "code",
   "execution_count": null,
   "metadata": {},
   "outputs": [],
   "source": [
    "download(root=root, source=source, dataset=dataset, resolution=hi_resolution, variable=variable)"
   ]
  },
  {
   "cell_type": "code",
   "execution_count": null,
   "metadata": {
    "colab": {
     "base_uri": "https://localhost:8080/"
    },
    "id": "u3tRve6-h0sI",
    "outputId": "ec76d28b-aedf-4aea-e7b8-763b481532ac"
   },
   "outputs": [],
   "source": [
    "lowres_data_args = ERA5Args(\n",
    "    root_dir=f\"{root}/data/{source}/{dataset}/{resolution}/\",\n",
    "    variables=[variable],\n",
    "    years=years\n",
    ")\n",
    "\n",
    "highres_data_args = ERA5Args(\n",
    "    root_dir=f\"{root}/data/{source}/{dataset}/{hi_resolution}\",\n",
    "    variables=[variable],\n",
    "    years=years\n",
    ")\n",
    "\n",
    "downscaling_args = DownscalingArgs(\n",
    "    dataset_args=data_args,\n",
    "    highres_dataset_args=highres_data_args,\n",
    "    in_vars=[variable],\n",
    "    out_vars=[variable],\n",
    "    subsample=6,\n",
    ")\n",
    "\n",
    "data_module_args = DataModuleArgs(\n",
    "    task_args=downscaling_args,\n",
    "    train_start_year=1979,\n",
    "    val_start_year=2015,\n",
    "    test_start_year=2017,\n",
    "    end_year=2018\n",
    ")\n",
    "\n",
    "data_module = DataModule(\n",
    "    data_module_args=data_module_args,\n",
    "    batch_size=128,\n",
    "    num_workers=1\n",
    ")"
   ]
  },
  {
   "cell_type": "markdown",
   "metadata": {
    "id": "Sunkptw4g_Rc"
   },
   "source": [
    "### Model initialization\n",
    "\n",
    "This is almost exactly the same as the previous section, except we specify the task to be \"downscaling\"."
   ]
  },
  {
   "cell_type": "code",
   "execution_count": null,
   "metadata": {
    "id": "lqxpa1znpX5n"
   },
   "outputs": [],
   "source": [
    "model_kwargs = {\n",
    "    \"in_channels\": 1,\n",
    "    \"out_channels\": 1,\n",
    "    \"n_blocks\": 4\n",
    "}\n",
    "\n",
    "optim_kwargs = {\n",
    "    \"lr\": 1e-4,\n",
    "    \"weight_decay\": 1e-5,\n",
    "    \"warmup_epochs\": 1,\n",
    "    \"max_epochs\": 5,\n",
    "    \"optimizer\": AdamW\n",
    "}\n",
    "\n",
    "model_module = load_model(\n",
    "    name=\"resnet\",\n",
    "    task=\"downscaling\",\n",
    "    model_kwargs=model_kwargs,\n",
    "    optim_kwargs=optim_kwargs\n",
    ")"
   ]
  },
  {
   "cell_type": "markdown",
   "metadata": {},
   "source": [
    "The note about `in_channels` and `out_channels` from the forecasting section applies here too."
   ]
  },
  {
   "cell_type": "code",
   "execution_count": null,
   "metadata": {
    "id": "CHytyooUpc9-"
   },
   "outputs": [],
   "source": [
    "from climate_learn.models import set_climatology\n",
    "set_climatology(model_module, data_module)"
   ]
  },
  {
   "cell_type": "markdown",
   "metadata": {
    "id": "e1XU1EIvXhvb"
   },
   "source": [
    "### Training\n",
    "\n",
    "Unlike before, we do not fit a linear regression baseline. This is not currently implemented for the downscaling task."
   ]
  },
  {
   "cell_type": "code",
   "execution_count": null,
   "metadata": {
    "colab": {
     "base_uri": "https://localhost:8080/"
    },
    "id": "ioW1bg4QpZ30",
    "outputId": "9c1b8baa-c63a-4612-fae9-c40e92ac3b4a"
   },
   "outputs": [],
   "source": [
    "trainer = Trainer(\n",
    "    seed=0,\n",
    "    accelerator=\"gpu\",\n",
    "    precision=16,\n",
    "    max_epochs=1\n",
    ")\n",
    "\n",
    "trainer.fit(model_module, data_module)"
   ]
  },
  {
   "cell_type": "markdown",
   "metadata": {
    "id": "k7JdGELMXpIw"
   },
   "source": [
    "### Evaluation"
   ]
  },
  {
   "cell_type": "code",
   "execution_count": null,
   "metadata": {
    "colab": {
     "base_uri": "https://localhost:8080/",
     "height": 149,
     "referenced_widgets": [
      "9f6338e3a9fb4a4fa4a3b5da14e6b471",
      "d124da129802411086077527493bf39b"
     ]
    },
    "id": "kELMwe8lpm1e",
    "outputId": "d58628cc-04be-4575-febc-a4812ef471f7"
   },
   "outputs": [],
   "source": [
    "trainer.test(model_module, data_module)"
   ]
  },
  {
   "cell_type": "markdown",
   "metadata": {},
   "source": [
    "Congratulations! Now you know how to train and evaluate baseline models with ClimateLearn. Please visit our [docs](https://climatelearn.readthedocs.io/en/latest/user-guide/models.html) to learn more."
   ]
  }
 ],
 "metadata": {
  "accelerator": "GPU",
  "colab": {
   "provenance": []
  },
  "gpuClass": "standard",
  "kernelspec": {
   "display_name": "Python 3 (ipykernel)",
   "language": "python",
   "name": "python3"
  },
  "language_info": {
   "codemirror_mode": {
    "name": "ipython",
    "version": 3
   },
   "file_extension": ".py",
   "mimetype": "text/x-python",
   "name": "python",
   "nbconvert_exporter": "python",
   "pygments_lexer": "ipython3",
   "version": "3.8.16"
  },
  "vscode": {
   "interpreter": {
    "hash": "5b35d5811d64db97cad819926e9e0ba09b354a75e2ee95b259c11201fc783944"
   }
  },
  "widgets": {
   "application/vnd.jupyter.widget-state+json": {
    "129ac0f36052427aa8b30c90dde58f47": {
     "model_module": "@jupyter-widgets/base",
     "model_module_version": "1.2.0",
     "model_name": "LayoutModel",
     "state": {
      "_model_module": "@jupyter-widgets/base",
      "_model_module_version": "1.2.0",
      "_model_name": "LayoutModel",
      "_view_count": null,
      "_view_module": "@jupyter-widgets/base",
      "_view_module_version": "1.2.0",
      "_view_name": "LayoutView",
      "align_content": null,
      "align_items": null,
      "align_self": null,
      "border": null,
      "bottom": null,
      "display": null,
      "flex": null,
      "flex_flow": null,
      "grid_area": null,
      "grid_auto_columns": null,
      "grid_auto_flow": null,
      "grid_auto_rows": null,
      "grid_column": null,
      "grid_gap": null,
      "grid_row": null,
      "grid_template_areas": null,
      "grid_template_columns": null,
      "grid_template_rows": null,
      "height": null,
      "justify_content": null,
      "justify_items": null,
      "left": null,
      "margin": null,
      "max_height": null,
      "max_width": null,
      "min_height": null,
      "min_width": null,
      "object_fit": null,
      "object_position": null,
      "order": null,
      "overflow": null,
      "overflow_x": null,
      "overflow_y": null,
      "padding": null,
      "right": null,
      "top": null,
      "visibility": null,
      "width": null
     }
    },
    "859e5ae0abf849e4b3210ac64ac5b65a": {
     "model_module": "@jupyter-widgets/base",
     "model_module_version": "1.2.0",
     "model_name": "LayoutModel",
     "state": {
      "_model_module": "@jupyter-widgets/base",
      "_model_module_version": "1.2.0",
      "_model_name": "LayoutModel",
      "_view_count": null,
      "_view_module": "@jupyter-widgets/base",
      "_view_module_version": "1.2.0",
      "_view_name": "LayoutView",
      "align_content": null,
      "align_items": null,
      "align_self": null,
      "border": null,
      "bottom": null,
      "display": null,
      "flex": null,
      "flex_flow": null,
      "grid_area": null,
      "grid_auto_columns": null,
      "grid_auto_flow": null,
      "grid_auto_rows": null,
      "grid_column": null,
      "grid_gap": null,
      "grid_row": null,
      "grid_template_areas": null,
      "grid_template_columns": null,
      "grid_template_rows": null,
      "height": null,
      "justify_content": null,
      "justify_items": null,
      "left": null,
      "margin": null,
      "max_height": null,
      "max_width": null,
      "min_height": null,
      "min_width": null,
      "object_fit": null,
      "object_position": null,
      "order": null,
      "overflow": null,
      "overflow_x": null,
      "overflow_y": null,
      "padding": null,
      "right": null,
      "top": null,
      "visibility": null,
      "width": null
     }
    },
    "8a962a93fd25439888de07922ec1dae5": {
     "model_module": "@jupyter-widgets/base",
     "model_module_version": "1.2.0",
     "model_name": "LayoutModel",
     "state": {
      "_model_module": "@jupyter-widgets/base",
      "_model_module_version": "1.2.0",
      "_model_name": "LayoutModel",
      "_view_count": null,
      "_view_module": "@jupyter-widgets/base",
      "_view_module_version": "1.2.0",
      "_view_name": "LayoutView",
      "align_content": null,
      "align_items": null,
      "align_self": null,
      "border": null,
      "bottom": null,
      "display": null,
      "flex": null,
      "flex_flow": null,
      "grid_area": null,
      "grid_auto_columns": null,
      "grid_auto_flow": null,
      "grid_auto_rows": null,
      "grid_column": null,
      "grid_gap": null,
      "grid_row": null,
      "grid_template_areas": null,
      "grid_template_columns": null,
      "grid_template_rows": null,
      "height": null,
      "justify_content": null,
      "justify_items": null,
      "left": null,
      "margin": null,
      "max_height": null,
      "max_width": null,
      "min_height": null,
      "min_width": null,
      "object_fit": null,
      "object_position": null,
      "order": null,
      "overflow": null,
      "overflow_x": null,
      "overflow_y": null,
      "padding": null,
      "right": null,
      "top": null,
      "visibility": null,
      "width": null
     }
    },
    "9f6338e3a9fb4a4fa4a3b5da14e6b471": {
     "model_module": "@jupyter-widgets/output",
     "model_module_version": "1.0.0",
     "model_name": "OutputModel",
     "state": {
      "_dom_classes": [],
      "_model_module": "@jupyter-widgets/output",
      "_model_module_version": "1.0.0",
      "_model_name": "OutputModel",
      "_view_count": null,
      "_view_module": "@jupyter-widgets/output",
      "_view_module_version": "1.0.0",
      "_view_name": "OutputView",
      "layout": "IPY_MODEL_d124da129802411086077527493bf39b",
      "msg_id": "",
      "outputs": [
       {
        "data": {
         "text/html": "<pre style=\"white-space:pre;overflow-x:auto;line-height:normal;font-family:Menlo,'DejaVu Sans Mono',consolas,'Courier New',monospace\"><span style=\"color: #c0c0c0; text-decoration-color: #c0c0c0\">Testing</span> <span style=\"color: #6206e0; text-decoration-color: #6206e0\">━━━━━━━━━━━━━━━━━━━━━━━━━━━━━━━━━━━━━━━━</span> <span style=\"color: #c0c0c0; text-decoration-color: #c0c0c0\">35/35</span> <span style=\"color: #8a8a8a; text-decoration-color: #8a8a8a\">0:00:15 • 0:00:00</span> <span style=\"color: #b2b2b2; text-decoration-color: #b2b2b2\">2.23it/s</span>  \n</pre>\n",
         "text/plain": "\u001b[37mTesting\u001b[0m \u001b[38;2;98;6;224m━━━━━━━━━━━━━━━━━━━━━━━━━━━━━━━━━━━━━━━━\u001b[0m \u001b[37m35/35\u001b[0m \u001b[38;5;245m0:00:15 • 0:00:00\u001b[0m \u001b[38;5;249m2.23it/s\u001b[0m  \n"
        },
        "metadata": {},
        "output_type": "display_data"
       }
      ]
     }
    },
    "b575b66e6d61441091aa5da106711ec1": {
     "model_module": "@jupyter-widgets/output",
     "model_module_version": "1.0.0",
     "model_name": "OutputModel",
     "state": {
      "_dom_classes": [],
      "_model_module": "@jupyter-widgets/output",
      "_model_module_version": "1.0.0",
      "_model_name": "OutputModel",
      "_view_count": null,
      "_view_module": "@jupyter-widgets/output",
      "_view_module_version": "1.0.0",
      "_view_name": "OutputView",
      "layout": "IPY_MODEL_129ac0f36052427aa8b30c90dde58f47",
      "msg_id": "",
      "outputs": [
       {
        "data": {
         "text/html": "<pre style=\"white-space:pre;overflow-x:auto;line-height:normal;font-family:Menlo,'DejaVu Sans Mono',consolas,'Courier New',monospace\"><span style=\"color: #c0c0c0; text-decoration-color: #c0c0c0\">Epoch 0/0 </span> <span style=\"color: #6206e0; text-decoration-color: #6206e0\">━━━━━━━━━━━━━━━━━━━━━━━━━━━━━━━━━━</span> <span style=\"color: #c0c0c0; text-decoration-color: #c0c0c0\">136/136</span> <span style=\"color: #8a8a8a; text-decoration-color: #8a8a8a\">0:00:32 • 0:00:00</span> <span style=\"color: #b2b2b2; text-decoration-color: #b2b2b2\">4.43it/s</span> <span style=\"color: #c0c0c0; text-decoration-color: #c0c0c0\">loss: 1.1 train/2m_temperature:   </span>\n                                                                                 <span style=\"color: #c0c0c0; text-decoration-color: #c0c0c0\">1.099 train/loss: 1.099           </span>\n</pre>\n",
         "text/plain": "\u001b[37mEpoch 0/0 \u001b[0m \u001b[38;2;98;6;224m━━━━━━━━━━━━━━━━━━━━━━━━━━━━━━━━━━\u001b[0m \u001b[37m136/136\u001b[0m \u001b[38;5;245m0:00:32 • 0:00:00\u001b[0m \u001b[38;5;249m4.43it/s\u001b[0m \u001b[37mloss: 1.1 train/2m_temperature:   \u001b[0m\n                                                                                 \u001b[37m1.099 train/loss: 1.099           \u001b[0m\n"
        },
        "metadata": {},
        "output_type": "display_data"
       }
      ]
     }
    },
    "d124da129802411086077527493bf39b": {
     "model_module": "@jupyter-widgets/base",
     "model_module_version": "1.2.0",
     "model_name": "LayoutModel",
     "state": {
      "_model_module": "@jupyter-widgets/base",
      "_model_module_version": "1.2.0",
      "_model_name": "LayoutModel",
      "_view_count": null,
      "_view_module": "@jupyter-widgets/base",
      "_view_module_version": "1.2.0",
      "_view_name": "LayoutView",
      "align_content": null,
      "align_items": null,
      "align_self": null,
      "border": null,
      "bottom": null,
      "display": null,
      "flex": null,
      "flex_flow": null,
      "grid_area": null,
      "grid_auto_columns": null,
      "grid_auto_flow": null,
      "grid_auto_rows": null,
      "grid_column": null,
      "grid_gap": null,
      "grid_row": null,
      "grid_template_areas": null,
      "grid_template_columns": null,
      "grid_template_rows": null,
      "height": null,
      "justify_content": null,
      "justify_items": null,
      "left": null,
      "margin": null,
      "max_height": null,
      "max_width": null,
      "min_height": null,
      "min_width": null,
      "object_fit": null,
      "object_position": null,
      "order": null,
      "overflow": null,
      "overflow_x": null,
      "overflow_y": null,
      "padding": null,
      "right": null,
      "top": null,
      "visibility": null,
      "width": null
     }
    },
    "da5e5740522b4a00931b4351f3d99f5c": {
     "model_module": "@jupyter-widgets/output",
     "model_module_version": "1.0.0",
     "model_name": "OutputModel",
     "state": {
      "_dom_classes": [],
      "_model_module": "@jupyter-widgets/output",
      "_model_module_version": "1.0.0",
      "_model_name": "OutputModel",
      "_view_count": null,
      "_view_module": "@jupyter-widgets/output",
      "_view_module_version": "1.0.0",
      "_view_name": "OutputView",
      "layout": "IPY_MODEL_8a962a93fd25439888de07922ec1dae5",
      "msg_id": "",
      "outputs": [
       {
        "data": {
         "text/html": "<pre style=\"white-space:pre;overflow-x:auto;line-height:normal;font-family:Menlo,'DejaVu Sans Mono',consolas,'Courier New',monospace\"><span style=\"color: #c0c0c0; text-decoration-color: #c0c0c0\">Testing</span> <span style=\"color: #6206e0; text-decoration-color: #6206e0\">━━━━━━━━━━━━━━━━━━━━━━━━━━━━━━━━━━━━━━━━</span> <span style=\"color: #c0c0c0; text-decoration-color: #c0c0c0\">137/137</span> <span style=\"color: #8a8a8a; text-decoration-color: #8a8a8a\">0:00:32 • 0:00:00</span> <span style=\"color: #b2b2b2; text-decoration-color: #b2b2b2\">4.17it/s</span>  \n</pre>\n",
         "text/plain": "\u001b[37mTesting\u001b[0m \u001b[38;2;98;6;224m━━━━━━━━━━━━━━━━━━━━━━━━━━━━━━━━━━━━━━━━\u001b[0m \u001b[37m137/137\u001b[0m \u001b[38;5;245m0:00:32 • 0:00:00\u001b[0m \u001b[38;5;249m4.17it/s\u001b[0m  \n"
        },
        "metadata": {},
        "output_type": "display_data"
       }
      ]
     }
    },
    "f1b2b711e84a4e469d28ce506c5fbcc8": {
     "model_module": "@jupyter-widgets/output",
     "model_module_version": "1.0.0",
     "model_name": "OutputModel",
     "state": {
      "_dom_classes": [],
      "_model_module": "@jupyter-widgets/output",
      "_model_module_version": "1.0.0",
      "_model_name": "OutputModel",
      "_view_count": null,
      "_view_module": "@jupyter-widgets/output",
      "_view_module_version": "1.0.0",
      "_view_name": "OutputView",
      "layout": "IPY_MODEL_859e5ae0abf849e4b3210ac64ac5b65a",
      "msg_id": "",
      "outputs": [
       {
        "data": {
         "text/html": "<pre style=\"white-space:pre;overflow-x:auto;line-height:normal;font-family:Menlo,'DejaVu Sans Mono',consolas,'Courier New',monospace\">Epoch 4/4  <span style=\"color: #6206e0; text-decoration-color: #6206e0\">━━━━━━━━━━━━━━━━━━━━━━━━━━━━━━━━━━</span> <span style=\"color: #c0c0c0; text-decoration-color: #c0c0c0\">24/24</span> <span style=\"color: #8a8a8a; text-decoration-color: #8a8a8a\">0:00:19 • 0:00:00</span> <span style=\"color: #b2b2b2; text-decoration-color: #b2b2b2\">1.24it/s</span> <span style=\"color: #c0c0c0; text-decoration-color: #c0c0c0\">loss: 0.0597 train/2m_temperature:  </span>\n                                                                               <span style=\"color: #c0c0c0; text-decoration-color: #c0c0c0\">0.056 train/loss: 0.056             </span>\n</pre>\n",
         "text/plain": "Epoch 4/4  \u001b[38;2;98;6;224m━━━━━━━━━━━━━━━━━━━━━━━━━━━━━━━━━━\u001b[0m \u001b[37m24/24\u001b[0m \u001b[38;5;245m0:00:19 • 0:00:00\u001b[0m \u001b[38;5;249m1.24it/s\u001b[0m \u001b[37mloss: 0.0597 train/2m_temperature:  \u001b[0m\n                                                                               \u001b[37m0.056 train/loss: 0.056             \u001b[0m\n"
        },
        "metadata": {},
        "output_type": "display_data"
       }
      ]
     }
    }
   }
  }
 },
 "nbformat": 4,
 "nbformat_minor": 4
}
