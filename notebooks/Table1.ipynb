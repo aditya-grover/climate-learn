{
 "cells": [
  {
   "cell_type": "code",
   "execution_count": 1,
   "id": "2eceef3f-ca32-41bc-a4ab-a94803a9e81e",
   "metadata": {
    "tags": []
   },
   "outputs": [],
   "source": [
    "import climate_learn as cl\n",
    "import torch.nn as nn"
   ]
  },
  {
   "cell_type": "code",
   "execution_count": 2,
   "id": "78a69a9f-db63-4605-8981-9e524ddb75b8",
   "metadata": {
    "tags": []
   },
   "outputs": [],
   "source": [
    "# https://discuss.pytorch.org/t/how-do-i-check-the-number-of-parameters-of-a-model/4325/9\n",
    "def count_parameters(model):\n",
    "    return sum(p.numel() for p in model.parameters() if p.requires_grad)"
   ]
  },
  {
   "cell_type": "code",
   "execution_count": 3,
   "id": "df641284-57ad-4693-b3ee-d230f0bfbda3",
   "metadata": {},
   "outputs": [],
   "source": [
    "resnet = cl.models.hub.ResNet(\n",
    "    in_channels=36,\n",
    "    out_channels=3,\n",
    "    history=3,\n",
    "    n_blocks=19\n",
    ")"
   ]
  },
  {
   "cell_type": "code",
   "execution_count": 4,
   "id": "02925db1-d722-4914-ae9f-3c7d37be5aa2",
   "metadata": {
    "tags": []
   },
   "outputs": [],
   "source": [
    "unet = cl.models.hub.Unet(\n",
    "    in_channels=36,\n",
    "    out_channels=3,\n",
    "    history=3,\n",
    "    ch_mults=[1,1,2],\n",
    "    n_blocks=4\n",
    ")"
   ]
  },
  {
   "cell_type": "code",
   "execution_count": 15,
   "id": "49dd69d8-720f-465f-a1cc-a56094cf472e",
   "metadata": {
    "tags": []
   },
   "outputs": [],
   "source": [
    "vit = cl.models.hub.VisionTransformer(\n",
    "    img_size=(32,64),\n",
    "    in_channels=36,\n",
    "    out_channels=3,\n",
    "    history=3,\n",
    "    patch_size=2,\n",
    "    embed_dim=256,\n",
    "    depth=8,\n",
    "    decoder_depth=2,\n",
    "    num_heads=16,\n",
    "    mlp_ratio=4\n",
    ")"
   ]
  },
  {
   "cell_type": "code",
   "execution_count": 16,
   "id": "419bf7ef-91ed-473f-911a-ce05a0d54371",
   "metadata": {
    "tags": []
   },
   "outputs": [
    {
     "name": "stdout",
     "output_type": "stream",
     "text": [
      "# of Resnet params: 6.31M\n",
      "# of Unet params: 6.11M\n",
      "# of ViT params: 6.57M\n"
     ]
    }
   ],
   "source": [
    "resnet_params = count_parameters(resnet)\n",
    "unet_params = count_parameters(unet)\n",
    "vit_params = count_parameters(vit)\n",
    "print(f\"# of Resnet params: {resnet_params/1e6:.2f}M\")\n",
    "print(f\"# of Unet params: {unet_params/1e6:.2f}M\")\n",
    "print(f\"# of ViT params: {vit_params/1e6:.2f}M\")"
   ]
  }
 ],
 "metadata": {
  "kernelspec": {
   "display_name": "climate",
   "language": "python",
   "name": "climate"
  },
  "language_info": {
   "codemirror_mode": {
    "name": "ipython",
    "version": 3
   },
   "file_extension": ".py",
   "mimetype": "text/x-python",
   "name": "python",
   "nbconvert_exporter": "python",
   "pygments_lexer": "ipython3",
   "version": "3.7.16"
  }
 },
 "nbformat": 4,
 "nbformat_minor": 5
}
