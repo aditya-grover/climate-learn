{
 "cells": [
  {
   "cell_type": "code",
   "execution_count": 1,
   "id": "2eceef3f-ca32-41bc-a4ab-a94803a9e81e",
   "metadata": {
    "tags": []
   },
   "outputs": [],
   "source": [
    "import climate_learn as cl\n",
    "from climate_learn.data import DataModule\n",
    "from climate_learn.data.climate_dataset.args import ERA5Args\n",
    "from climate_learn.data.dataset.args import ShardDatasetArgs, MapDatasetArgs\n",
    "from climate_learn.data.task.args import ForecastingArgs\n",
    "\n",
    "import torch.multiprocessing\n",
    "torch.multiprocessing.set_sharing_strategy(\"file_system\")"
   ]
  },
  {
   "cell_type": "code",
   "execution_count": 2,
   "id": "f91e415a-a8ca-492e-a653-57aa50f8dff1",
   "metadata": {
    "tags": []
   },
   "outputs": [],
   "source": [
    "root = \"/home/data/datasets/weatherbench/era5/5.625deg\"\n",
    "dataset = \"era5\"\n",
    "variables = [\n",
    "    \"2m_temperature\",\n",
    "    # \"geopotential\",\n",
    "    # \"temperature\",\n",
    "    # \"specific_humidity\",\n",
    "    # \"u_component_of_wind\",\n",
    "    # \"v_component_of_wind\"\n",
    "]\n",
    "in_vars = [f\"{dataset}:{var}\" for var in variables]\n",
    "out_vars = [f\"{dataset}:{var}\" for var in variables]\n",
    "\n",
    "train_years = range(1979, 2015)\n",
    "val_years = range(2015, 2017)\n",
    "test_years = range(2017, 2019)\n",
    "history = 3\n",
    "subsample = 6\n",
    "pred_range = 6  # CHANGE ME"
   ]
  },
  {
   "cell_type": "code",
   "execution_count": 3,
   "id": "b33b82ce-b4f8-4a6b-8f15-fc0992127324",
   "metadata": {
    "tags": []
   },
   "outputs": [
    {
     "name": "stderr",
     "output_type": "stream",
     "text": [
      "100%|████████████████████████████████████████████████████████████████████████████████████████████████████████████████████| 9/9 [00:00<00:00, 33.92it/s]\n",
      "100%|████████████████████████████████████████████████████████████████████████████████████████████████████████████████████| 9/9 [00:00<00:00, 45.08it/s]\n",
      "100%|████████████████████████████████████████████████████████████████████████████████████████████████████████████████████| 9/9 [00:00<00:00, 44.11it/s]\n",
      "100%|████████████████████████████████████████████████████████████████████████████████████████████████████████████████████| 9/9 [00:00<00:00, 40.46it/s]\n",
      "100%|████████████████████████████████████████████████████████████████████████████████████████████████████████████████████| 2/2 [00:00<00:00, 46.81it/s]\n",
      "100%|████████████████████████████████████████████████████████████████████████████████████████████████████████████████████| 2/2 [00:00<00:00, 38.55it/s]\n"
     ]
    }
   ],
   "source": [
    "forecasting_args = ForecastingArgs(\n",
    "    in_vars,\n",
    "    out_vars,\n",
    "    history=history,\n",
    "    pred_range=pred_range,\n",
    "    subsample=subsample\n",
    ")\n",
    "\n",
    "train_dataset_args = ShardDatasetArgs(\n",
    "    ERA5Args(root, variables, train_years, name=dataset),\n",
    "    forecasting_args,\n",
    "    n_chunks=4\n",
    ")\n",
    "val_dataset_args = MapDatasetArgs(\n",
    "    ERA5Args(root, variables, val_years, name=dataset),\n",
    "    forecasting_args\n",
    ")\n",
    "test_dataset_args = MapDatasetArgs(\n",
    "    ERA5Args(root, variables, test_years, name=dataset),\n",
    "    forecasting_args\n",
    ")\n",
    "\n",
    "dm = DataModule(\n",
    "    train_dataset_args,\n",
    "    val_dataset_args,\n",
    "    test_dataset_args,\n",
    "    batch_size=32,\n",
    "    num_workers=0\n",
    ")"
   ]
  },
  {
   "cell_type": "code",
   "execution_count": 4,
   "id": "dbacc6e7-15d0-4256-a3c5-2804717e47e0",
   "metadata": {
    "tags": []
   },
   "outputs": [
    {
     "name": "stdout",
     "output_type": "stream",
     "text": [
      "Loading preset: climatology\n"
     ]
    },
    {
     "name": "stderr",
     "output_type": "stream",
     "text": [
      "100%|████████████████████████████████████████████████████████████████████████████████████████████████████████████████████| 9/9 [00:00<00:00, 38.08it/s]\n"
     ]
    },
    {
     "name": "stdout",
     "output_type": "stream",
     "text": [
      "Using preset optimizer\n",
      "Using preset learning rate scheduler\n",
      "Loading training loss: lat_mse\n",
      "Loading validation loss: lat_rmse\n",
      "Loading validation loss: lat_acc\n",
      "Loading validation loss: lat_rmse\n",
      "Loading validation loss: lat_acc\n",
      "Loading validation transform: denormalize\n",
      "Loading validation transform: denormalize\n",
      "Loading validation transform: denormalize\n",
      "Loading validation transform: denormalize\n",
      "Loading preset: persistence\n"
     ]
    },
    {
     "name": "stderr",
     "output_type": "stream",
     "text": [
      "100%|████████████████████████████████████████████████████████████████████████████████████████████████████████████████████| 9/9 [00:00<00:00, 37.67it/s]\n"
     ]
    },
    {
     "name": "stdout",
     "output_type": "stream",
     "text": [
      "Using preset optimizer\n",
      "Using preset learning rate scheduler\n",
      "Loading training loss: lat_mse\n",
      "Loading validation loss: lat_rmse\n",
      "Loading validation loss: lat_acc\n",
      "Loading validation loss: lat_rmse\n",
      "Loading validation loss: lat_acc\n",
      "Loading validation transform: denormalize\n",
      "Loading validation transform: denormalize\n",
      "Loading validation transform: denormalize\n",
      "Loading validation transform: denormalize\n",
      "Loading preset: linear-regression\n"
     ]
    },
    {
     "name": "stderr",
     "output_type": "stream",
     "text": [
      "100%|████████████████████████████████████████████████████████████████████████████████████████████████████████████████████| 9/9 [00:00<00:00, 37.44it/s]\n"
     ]
    },
    {
     "name": "stdout",
     "output_type": "stream",
     "text": [
      "Using preset optimizer\n",
      "Using preset learning rate scheduler\n",
      "Loading training loss: lat_mse\n",
      "Loading validation loss: lat_rmse\n",
      "Loading validation loss: lat_acc\n",
      "Loading validation loss: lat_rmse\n",
      "Loading validation loss: lat_acc\n",
      "Loading validation transform: denormalize\n",
      "Loading validation transform: denormalize\n",
      "Loading validation transform: denormalize\n",
      "Loading validation transform: denormalize\n"
     ]
    }
   ],
   "source": [
    "climatology = cl.load_forecasting_module(data_module=dm, preset=\"climatology\")\n",
    "persistence = cl.load_forecasting_module(data_module=dm, preset=\"persistence\")\n",
    "linreg = cl.load_forecasting_module(data_module=dm, preset=\"linear-regression\")"
   ]
  },
  {
   "cell_type": "code",
   "execution_count": 5,
   "id": "36a8db1d-357b-4ed6-85f8-37e77e99a037",
   "metadata": {
    "tags": []
   },
   "outputs": [
    {
     "name": "stderr",
     "output_type": "stream",
     "text": [
      "Global seed set to 0\n",
      "/home/jason.jewik/climate-learn/src/climate_learn/trainer.py:48: UserWarning: In interactive environment: cannot use DDP spawn strategy\n",
      "  warn(\"In interactive environment: cannot use DDP spawn strategy\")\n"
     ]
    }
   ],
   "source": [
    "trainer = cl.Trainer(\n",
    "    early_stopping=\"lat_rmse:aggregate\",\n",
    "    patience=5,\n",
    "    accelerator=\"gpu\",\n",
    "    devices=[0]\n",
    ")"
   ]
  },
  {
   "cell_type": "code",
   "execution_count": null,
   "id": "f33b144d-9e54-4ed1-b97f-799d315dc114",
   "metadata": {},
   "outputs": [
    {
     "name": "stderr",
     "output_type": "stream",
     "text": [
      "/home/jason.jewik/miniconda3/envs/climate/lib/python3.7/site-packages/pytorch_lightning/loops/utilities.py:97: PossibleUserWarning: `max_epochs` was not set. Setting it to 1000 epochs. To train without an epoch limit, set `max_epochs=-1`.\n",
      "  category=PossibleUserWarning,\n"
     ]
    },
    {
     "data": {
      "text/html": [
       "<pre style=\"white-space:pre;overflow-x:auto;line-height:normal;font-family:Menlo,'DejaVu Sans Mono',consolas,'Courier New',monospace\">┏━━━┳━━━━━━━━━━━━┳━━━━━━━━━━━━━━━━━━┳━━━━━━━━┓\n",
       "┃<span style=\"color: #800080; text-decoration-color: #800080; font-weight: bold\">   </span>┃<span style=\"color: #800080; text-decoration-color: #800080; font-weight: bold\"> Name       </span>┃<span style=\"color: #800080; text-decoration-color: #800080; font-weight: bold\"> Type             </span>┃<span style=\"color: #800080; text-decoration-color: #800080; font-weight: bold\"> Params </span>┃\n",
       "┡━━━╇━━━━━━━━━━━━╇━━━━━━━━━━━━━━━━━━╇━━━━━━━━┩\n",
       "│<span style=\"color: #7f7f7f; text-decoration-color: #7f7f7f\"> 0 </span>│ net        │ LinearRegression │ 12.6 M │\n",
       "│<span style=\"color: #7f7f7f; text-decoration-color: #7f7f7f\"> 1 </span>│ net.linear │ Linear           │ 12.6 M │\n",
       "└───┴────────────┴──────────────────┴────────┘\n",
       "</pre>\n"
      ],
      "text/plain": [
       "┏━━━┳━━━━━━━━━━━━┳━━━━━━━━━━━━━━━━━━┳━━━━━━━━┓\n",
       "┃\u001b[1;35m \u001b[0m\u001b[1;35m \u001b[0m\u001b[1;35m \u001b[0m┃\u001b[1;35m \u001b[0m\u001b[1;35mName      \u001b[0m\u001b[1;35m \u001b[0m┃\u001b[1;35m \u001b[0m\u001b[1;35mType            \u001b[0m\u001b[1;35m \u001b[0m┃\u001b[1;35m \u001b[0m\u001b[1;35mParams\u001b[0m\u001b[1;35m \u001b[0m┃\n",
       "┡━━━╇━━━━━━━━━━━━╇━━━━━━━━━━━━━━━━━━╇━━━━━━━━┩\n",
       "│\u001b[2m \u001b[0m\u001b[2m0\u001b[0m\u001b[2m \u001b[0m│ net        │ LinearRegression │ 12.6 M │\n",
       "│\u001b[2m \u001b[0m\u001b[2m1\u001b[0m\u001b[2m \u001b[0m│ net.linear │ Linear           │ 12.6 M │\n",
       "└───┴────────────┴──────────────────┴────────┘\n"
      ]
     },
     "metadata": {},
     "output_type": "display_data"
    },
    {
     "data": {
      "text/html": [
       "<pre style=\"white-space:pre;overflow-x:auto;line-height:normal;font-family:Menlo,'DejaVu Sans Mono',consolas,'Courier New',monospace\"><span style=\"font-weight: bold\">Trainable params</span>: 12.6 M                                                                                           \n",
       "<span style=\"font-weight: bold\">Non-trainable params</span>: 0                                                                                            \n",
       "<span style=\"font-weight: bold\">Total params</span>: 12.6 M                                                                                               \n",
       "<span style=\"font-weight: bold\">Total estimated model params size (MB)</span>: 50                                                                         \n",
       "</pre>\n"
      ],
      "text/plain": [
       "\u001b[1mTrainable params\u001b[0m: 12.6 M                                                                                           \n",
       "\u001b[1mNon-trainable params\u001b[0m: 0                                                                                            \n",
       "\u001b[1mTotal params\u001b[0m: 12.6 M                                                                                               \n",
       "\u001b[1mTotal estimated model params size (MB)\u001b[0m: 50                                                                         \n"
      ]
     },
     "metadata": {},
     "output_type": "display_data"
    },
    {
     "data": {
      "application/vnd.jupyter.widget-view+json": {
       "model_id": "430221a3c65c44e8b9375b70fcd712d0",
       "version_major": 2,
       "version_minor": 0
      },
      "text/plain": [
       "Output()"
      ]
     },
     "metadata": {},
     "output_type": "display_data"
    },
    {
     "data": {
      "text/html": [
       "<pre style=\"white-space:pre;overflow-x:auto;line-height:normal;font-family:Menlo,'DejaVu Sans Mono',consolas,'Courier New',monospace\">/home/jason.jewik/miniconda3/envs/climate/lib/python3.7/site-packages/pytorch_lightning/trainer/connectors/data_con\n",
       "nector.py:229: PossibleUserWarning: The dataloader, val_dataloader 0, does not have many workers which may be a \n",
       "bottleneck. Consider increasing the value of the `num_workers` argument` (try 96 which is the number of cpus on \n",
       "this machine) in the `DataLoader` init to improve performance.\n",
       "  category=PossibleUserWarning,\n",
       "</pre>\n"
      ],
      "text/plain": [
       "/home/jason.jewik/miniconda3/envs/climate/lib/python3.7/site-packages/pytorch_lightning/trainer/connectors/data_con\n",
       "nector.py:229: PossibleUserWarning: The dataloader, val_dataloader 0, does not have many workers which may be a \n",
       "bottleneck. Consider increasing the value of the `num_workers` argument` (try 96 which is the number of cpus on \n",
       "this machine) in the `DataLoader` init to improve performance.\n",
       "  category=PossibleUserWarning,\n"
      ]
     },
     "metadata": {},
     "output_type": "display_data"
    },
    {
     "data": {
      "text/html": [
       "<pre style=\"white-space:pre;overflow-x:auto;line-height:normal;font-family:Menlo,'DejaVu Sans Mono',consolas,'Courier New',monospace\">/home/jason.jewik/miniconda3/envs/climate/lib/python3.7/site-packages/pytorch_lightning/trainer/connectors/data_con\n",
       "nector.py:229: PossibleUserWarning: The dataloader, train_dataloader, does not have many workers which may be a \n",
       "bottleneck. Consider increasing the value of the `num_workers` argument` (try 96 which is the number of cpus on \n",
       "this machine) in the `DataLoader` init to improve performance.\n",
       "  category=PossibleUserWarning,\n",
       "</pre>\n"
      ],
      "text/plain": [
       "/home/jason.jewik/miniconda3/envs/climate/lib/python3.7/site-packages/pytorch_lightning/trainer/connectors/data_con\n",
       "nector.py:229: PossibleUserWarning: The dataloader, train_dataloader, does not have many workers which may be a \n",
       "bottleneck. Consider increasing the value of the `num_workers` argument` (try 96 which is the number of cpus on \n",
       "this machine) in the `DataLoader` init to improve performance.\n",
       "  category=PossibleUserWarning,\n"
      ]
     },
     "metadata": {},
     "output_type": "display_data"
    }
   ],
   "source": [
    "trainer.fit(linreg, dm)"
   ]
  },
  {
   "cell_type": "code",
   "execution_count": 6,
   "id": "30368226-3a71-4011-8d4c-9f4dc951f3cb",
   "metadata": {},
   "outputs": [
    {
     "data": {
      "application/vnd.jupyter.widget-view+json": {
       "model_id": "7dd9552cd8964cd39aed955165da1fa3",
       "version_major": 2,
       "version_minor": 0
      },
      "text/plain": [
       "Output()"
      ]
     },
     "metadata": {},
     "output_type": "display_data"
    },
    {
     "name": "stderr",
     "output_type": "stream",
     "text": [
      "/home/jason.jewik/miniconda3/envs/climate/lib/python3.7/site-packages/pytorch_lightning/trainer/connectors/data_connector.py:229: PossibleUserWarning: The dataloader, test_dataloader 0, does not have many workers which may be a bottleneck. Consider increasing the value of the `num_workers` argument` (try 96 which is the number of cpus on this machine) in the `DataLoader` init to improve performance.\n",
      "  category=PossibleUserWarning,\n"
     ]
    },
    {
     "data": {
      "text/html": [
       "<pre style=\"white-space:pre;overflow-x:auto;line-height:normal;font-family:Menlo,'DejaVu Sans Mono',consolas,'Courier New',monospace\">┏━━━━━━━━━━━━━━━━━━━━━━━━━━━━━━┳━━━━━━━━━━━━━━━━━━━━━━━━━━━━━━┓\n",
       "┃<span style=\"font-weight: bold\">         Test metric          </span>┃<span style=\"font-weight: bold\">         DataLoader 0         </span>┃\n",
       "┡━━━━━━━━━━━━━━━━━━━━━━━━━━━━━━╇━━━━━━━━━━━━━━━━━━━━━━━━━━━━━━┩\n",
       "│<span style=\"color: #008080; text-decoration-color: #008080\">      lat_acc:aggregate       </span>│<span style=\"color: #800080; text-decoration-color: #800080\">     0.016794127112900886     </span>│\n",
       "│<span style=\"color: #008080; text-decoration-color: #008080\"> lat_acc:era5:2m_temperature  </span>│<span style=\"color: #800080; text-decoration-color: #800080\">     0.016794127112900886     </span>│\n",
       "│<span style=\"color: #008080; text-decoration-color: #008080\">      lat_rmse:aggregate      </span>│<span style=\"color: #800080; text-decoration-color: #800080\">      6103.093275199047       </span>│\n",
       "│<span style=\"color: #008080; text-decoration-color: #008080\"> lat_rmse:era5:2m_temperature </span>│<span style=\"color: #800080; text-decoration-color: #800080\">      6103.093275199047       </span>│\n",
       "└──────────────────────────────┴──────────────────────────────┘\n",
       "</pre>\n"
      ],
      "text/plain": [
       "┏━━━━━━━━━━━━━━━━━━━━━━━━━━━━━━┳━━━━━━━━━━━━━━━━━━━━━━━━━━━━━━┓\n",
       "┃\u001b[1m \u001b[0m\u001b[1m        Test metric         \u001b[0m\u001b[1m \u001b[0m┃\u001b[1m \u001b[0m\u001b[1m        DataLoader 0        \u001b[0m\u001b[1m \u001b[0m┃\n",
       "┡━━━━━━━━━━━━━━━━━━━━━━━━━━━━━━╇━━━━━━━━━━━━━━━━━━━━━━━━━━━━━━┩\n",
       "│\u001b[36m \u001b[0m\u001b[36m     lat_acc:aggregate      \u001b[0m\u001b[36m \u001b[0m│\u001b[35m \u001b[0m\u001b[35m    0.016794127112900886    \u001b[0m\u001b[35m \u001b[0m│\n",
       "│\u001b[36m \u001b[0m\u001b[36mlat_acc:era5:2m_temperature \u001b[0m\u001b[36m \u001b[0m│\u001b[35m \u001b[0m\u001b[35m    0.016794127112900886    \u001b[0m\u001b[35m \u001b[0m│\n",
       "│\u001b[36m \u001b[0m\u001b[36m     lat_rmse:aggregate     \u001b[0m\u001b[36m \u001b[0m│\u001b[35m \u001b[0m\u001b[35m     6103.093275199047      \u001b[0m\u001b[35m \u001b[0m│\n",
       "│\u001b[36m \u001b[0m\u001b[36mlat_rmse:era5:2m_temperature\u001b[0m\u001b[36m \u001b[0m│\u001b[35m \u001b[0m\u001b[35m     6103.093275199047      \u001b[0m\u001b[35m \u001b[0m│\n",
       "└──────────────────────────────┴──────────────────────────────┘\n"
      ]
     },
     "metadata": {},
     "output_type": "display_data"
    },
    {
     "data": {
      "text/html": [
       "<pre style=\"white-space:pre;overflow-x:auto;line-height:normal;font-family:Menlo,'DejaVu Sans Mono',consolas,'Courier New',monospace\"></pre>\n"
      ],
      "text/plain": []
     },
     "metadata": {},
     "output_type": "display_data"
    },
    {
     "data": {
      "text/html": [
       "<pre style=\"white-space:pre;overflow-x:auto;line-height:normal;font-family:Menlo,'DejaVu Sans Mono',consolas,'Courier New',monospace\">\n",
       "</pre>\n"
      ],
      "text/plain": [
       "\n"
      ]
     },
     "metadata": {},
     "output_type": "display_data"
    }
   ],
   "source": [
    "trainer.test(climatology, dm)"
   ]
  },
  {
   "cell_type": "code",
   "execution_count": 7,
   "id": "80f843f3-f9c6-4703-9f12-1053086e3d82",
   "metadata": {},
   "outputs": [
    {
     "data": {
      "application/vnd.jupyter.widget-view+json": {
       "model_id": "f2dd1a0024e34b35b20c3480119b4c6b",
       "version_major": 2,
       "version_minor": 0
      },
      "text/plain": [
       "Output()"
      ]
     },
     "metadata": {},
     "output_type": "display_data"
    },
    {
     "data": {
      "text/html": [
       "<pre style=\"white-space:pre;overflow-x:auto;line-height:normal;font-family:Menlo,'DejaVu Sans Mono',consolas,'Courier New',monospace\">┏━━━━━━━━━━━━━━━━━━━━━━━━━━━━━━┳━━━━━━━━━━━━━━━━━━━━━━━━━━━━━━┓\n",
       "┃<span style=\"font-weight: bold\">         Test metric          </span>┃<span style=\"font-weight: bold\">         DataLoader 0         </span>┃\n",
       "┡━━━━━━━━━━━━━━━━━━━━━━━━━━━━━━╇━━━━━━━━━━━━━━━━━━━━━━━━━━━━━━┩\n",
       "│<span style=\"color: #008080; text-decoration-color: #008080\">      lat_acc:aggregate       </span>│<span style=\"color: #800080; text-decoration-color: #800080\">      0.8519486785048739      </span>│\n",
       "│<span style=\"color: #008080; text-decoration-color: #008080\"> lat_acc:era5:2m_temperature  </span>│<span style=\"color: #800080; text-decoration-color: #800080\">      0.8519486785048739      </span>│\n",
       "│<span style=\"color: #008080; text-decoration-color: #008080\">      lat_rmse:aggregate      </span>│<span style=\"color: #800080; text-decoration-color: #800080\">      2.7992303566951207      </span>│\n",
       "│<span style=\"color: #008080; text-decoration-color: #008080\"> lat_rmse:era5:2m_temperature </span>│<span style=\"color: #800080; text-decoration-color: #800080\">      2.7992303566951207      </span>│\n",
       "└──────────────────────────────┴──────────────────────────────┘\n",
       "</pre>\n"
      ],
      "text/plain": [
       "┏━━━━━━━━━━━━━━━━━━━━━━━━━━━━━━┳━━━━━━━━━━━━━━━━━━━━━━━━━━━━━━┓\n",
       "┃\u001b[1m \u001b[0m\u001b[1m        Test metric         \u001b[0m\u001b[1m \u001b[0m┃\u001b[1m \u001b[0m\u001b[1m        DataLoader 0        \u001b[0m\u001b[1m \u001b[0m┃\n",
       "┡━━━━━━━━━━━━━━━━━━━━━━━━━━━━━━╇━━━━━━━━━━━━━━━━━━━━━━━━━━━━━━┩\n",
       "│\u001b[36m \u001b[0m\u001b[36m     lat_acc:aggregate      \u001b[0m\u001b[36m \u001b[0m│\u001b[35m \u001b[0m\u001b[35m     0.8519486785048739     \u001b[0m\u001b[35m \u001b[0m│\n",
       "│\u001b[36m \u001b[0m\u001b[36mlat_acc:era5:2m_temperature \u001b[0m\u001b[36m \u001b[0m│\u001b[35m \u001b[0m\u001b[35m     0.8519486785048739     \u001b[0m\u001b[35m \u001b[0m│\n",
       "│\u001b[36m \u001b[0m\u001b[36m     lat_rmse:aggregate     \u001b[0m\u001b[36m \u001b[0m│\u001b[35m \u001b[0m\u001b[35m     2.7992303566951207     \u001b[0m\u001b[35m \u001b[0m│\n",
       "│\u001b[36m \u001b[0m\u001b[36mlat_rmse:era5:2m_temperature\u001b[0m\u001b[36m \u001b[0m│\u001b[35m \u001b[0m\u001b[35m     2.7992303566951207     \u001b[0m\u001b[35m \u001b[0m│\n",
       "└──────────────────────────────┴──────────────────────────────┘\n"
      ]
     },
     "metadata": {},
     "output_type": "display_data"
    },
    {
     "data": {
      "text/html": [
       "<pre style=\"white-space:pre;overflow-x:auto;line-height:normal;font-family:Menlo,'DejaVu Sans Mono',consolas,'Courier New',monospace\"></pre>\n"
      ],
      "text/plain": []
     },
     "metadata": {},
     "output_type": "display_data"
    },
    {
     "data": {
      "text/html": [
       "<pre style=\"white-space:pre;overflow-x:auto;line-height:normal;font-family:Menlo,'DejaVu Sans Mono',consolas,'Courier New',monospace\">\n",
       "</pre>\n"
      ],
      "text/plain": [
       "\n"
      ]
     },
     "metadata": {},
     "output_type": "display_data"
    }
   ],
   "source": [
    "trainer.test(persistence, dm)"
   ]
  },
  {
   "cell_type": "code",
   "execution_count": 8,
   "id": "ba5c1359-5438-4e6c-8f27-f0b07e29ffcd",
   "metadata": {},
   "outputs": [
    {
     "data": {
      "application/vnd.jupyter.widget-view+json": {
       "model_id": "2d6483233048442c883fbfc09e676d80",
       "version_major": 2,
       "version_minor": 0
      },
      "text/plain": [
       "Output()"
      ]
     },
     "metadata": {},
     "output_type": "display_data"
    },
    {
     "data": {
      "text/html": [
       "<pre style=\"white-space:pre;overflow-x:auto;line-height:normal;font-family:Menlo,'DejaVu Sans Mono',consolas,'Courier New',monospace\">┏━━━━━━━━━━━━━━━━━━━━━━━━━━━━━━┳━━━━━━━━━━━━━━━━━━━━━━━━━━━━━━┓\n",
       "┃<span style=\"font-weight: bold\">         Test metric          </span>┃<span style=\"font-weight: bold\">         DataLoader 0         </span>┃\n",
       "┡━━━━━━━━━━━━━━━━━━━━━━━━━━━━━━╇━━━━━━━━━━━━━━━━━━━━━━━━━━━━━━┩\n",
       "│<span style=\"color: #008080; text-decoration-color: #008080\">      lat_acc:aggregate       </span>│<span style=\"color: #800080; text-decoration-color: #800080\">    -0.011611564808748646     </span>│\n",
       "│<span style=\"color: #008080; text-decoration-color: #008080\"> lat_acc:era5:2m_temperature  </span>│<span style=\"color: #800080; text-decoration-color: #800080\">    -0.011611564808748646     </span>│\n",
       "│<span style=\"color: #008080; text-decoration-color: #008080\">      lat_rmse:aggregate      </span>│<span style=\"color: #800080; text-decoration-color: #800080\">      21.367626966645556      </span>│\n",
       "│<span style=\"color: #008080; text-decoration-color: #008080\"> lat_rmse:era5:2m_temperature </span>│<span style=\"color: #800080; text-decoration-color: #800080\">      21.367626966645556      </span>│\n",
       "└──────────────────────────────┴──────────────────────────────┘\n",
       "</pre>\n"
      ],
      "text/plain": [
       "┏━━━━━━━━━━━━━━━━━━━━━━━━━━━━━━┳━━━━━━━━━━━━━━━━━━━━━━━━━━━━━━┓\n",
       "┃\u001b[1m \u001b[0m\u001b[1m        Test metric         \u001b[0m\u001b[1m \u001b[0m┃\u001b[1m \u001b[0m\u001b[1m        DataLoader 0        \u001b[0m\u001b[1m \u001b[0m┃\n",
       "┡━━━━━━━━━━━━━━━━━━━━━━━━━━━━━━╇━━━━━━━━━━━━━━━━━━━━━━━━━━━━━━┩\n",
       "│\u001b[36m \u001b[0m\u001b[36m     lat_acc:aggregate      \u001b[0m\u001b[36m \u001b[0m│\u001b[35m \u001b[0m\u001b[35m   -0.011611564808748646    \u001b[0m\u001b[35m \u001b[0m│\n",
       "│\u001b[36m \u001b[0m\u001b[36mlat_acc:era5:2m_temperature \u001b[0m\u001b[36m \u001b[0m│\u001b[35m \u001b[0m\u001b[35m   -0.011611564808748646    \u001b[0m\u001b[35m \u001b[0m│\n",
       "│\u001b[36m \u001b[0m\u001b[36m     lat_rmse:aggregate     \u001b[0m\u001b[36m \u001b[0m│\u001b[35m \u001b[0m\u001b[35m     21.367626966645556     \u001b[0m\u001b[35m \u001b[0m│\n",
       "│\u001b[36m \u001b[0m\u001b[36mlat_rmse:era5:2m_temperature\u001b[0m\u001b[36m \u001b[0m│\u001b[35m \u001b[0m\u001b[35m     21.367626966645556     \u001b[0m\u001b[35m \u001b[0m│\n",
       "└──────────────────────────────┴──────────────────────────────┘\n"
      ]
     },
     "metadata": {},
     "output_type": "display_data"
    },
    {
     "data": {
      "text/html": [
       "<pre style=\"white-space:pre;overflow-x:auto;line-height:normal;font-family:Menlo,'DejaVu Sans Mono',consolas,'Courier New',monospace\"></pre>\n"
      ],
      "text/plain": []
     },
     "metadata": {},
     "output_type": "display_data"
    },
    {
     "data": {
      "text/html": [
       "<pre style=\"white-space:pre;overflow-x:auto;line-height:normal;font-family:Menlo,'DejaVu Sans Mono',consolas,'Courier New',monospace\">\n",
       "</pre>\n"
      ],
      "text/plain": [
       "\n"
      ]
     },
     "metadata": {},
     "output_type": "display_data"
    }
   ],
   "source": [
    "trainer.test(linreg, dm)"
   ]
  },
  {
   "cell_type": "code",
   "execution_count": null,
   "id": "df641284-57ad-4693-b3ee-d230f0bfbda3",
   "metadata": {},
   "outputs": [],
   "source": []
  }
 ],
 "metadata": {
  "kernelspec": {
   "display_name": "climate",
   "language": "python",
   "name": "climate"
  },
  "language_info": {
   "codemirror_mode": {
    "name": "ipython",
    "version": 3
   },
   "file_extension": ".py",
   "mimetype": "text/x-python",
   "name": "python",
   "nbconvert_exporter": "python",
   "pygments_lexer": "ipython3",
   "version": "3.7.16"
  }
 },
 "nbformat": 4,
 "nbformat_minor": 5
}
