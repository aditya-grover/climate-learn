{
 "cells": [
  {
   "cell_type": "markdown",
   "metadata": {
    "id": "rSRCNgYzUwaf"
   },
   "source": [
    "# Visualization\n",
    "\n",
    "ClimateLearn provides tools to generate visualizations of model predictions for both forecasting and [downscaling](https://uaf-snap.org/how-do-we-do-it/downscaling). In this tutorial, we'll see how to visualize bias and mean bias. This tutorial is intended for use in Google Colab. Before starting, ensure that you are on a GPU runtime."
   ]
  },
  {
   "cell_type": "markdown",
   "metadata": {},
   "source": [
    "## Google Colab setup\n",
    "\n",
    "You might need to restart the kernel after installing ClimateLearn so that your Colab environment knows to use the correct package versions."
   ]
  },
  {
   "cell_type": "code",
   "execution_count": null,
   "metadata": {},
   "outputs": [],
   "source": [
    "!pip install climate-learn"
   ]
  },
  {
   "cell_type": "code",
   "execution_count": null,
   "metadata": {},
   "outputs": [],
   "source": [
    "from google.colab import drive\n",
    "drive.mount(\"/content/drive\")"
   ]
  },
  {
   "cell_type": "markdown",
   "metadata": {
    "id": "99jkSa_KmrDH"
   },
   "source": [
    "## Forecasting\n",
    "\n",
    "### Data preparation\n",
    "The second cell of this section can be skipped if the data is already downloaded to your Drive. See the \"Data Processing\" notebook for mor details."
   ]
  },
  {
   "cell_type": "code",
   "execution_count": null,
   "metadata": {},
   "outputs": [],
   "source": [
    "root = \"/content/drive/MyDrive/ClimateLearn\"\n",
    "source = \"weatherbench\"\n",
    "dataset = \"era5\"\n",
    "resolution = \"5.625\"\n",
    "variable = \"2m_temperature\"\n",
    "years = range(1979, 2018)"
   ]
  },
  {
   "cell_type": "code",
   "execution_count": null,
   "metadata": {
    "tags": []
   },
   "outputs": [],
   "source": [
    "from climate_learn.data import download\n",
    "download(root=root, source=source, dataset=dataset, resolution=resolution, variable=variable)"
   ]
  },
  {
   "cell_type": "code",
   "execution_count": null,
   "metadata": {},
   "outputs": [],
   "source": [
    "from climate_learn.data import DataModuleArgs, DataModule\n",
    "from climate_learn.data.climate_dataset.args import ERA5Args\n",
    "from climate_learn.data.tasks.args import ForecastingArgs\n",
    "\n",
    "data_args = ERA5Args(\n",
    "    root_dir=f\"{root}/data/{source}/{dataset}/{resolution}/\",\n",
    "    variables=[variable],\n",
    "    years=years\n",
    ")\n",
    "\n",
    "forecasting_args = ForecastingArgs(\n",
    "    dataset_args=data_args,\n",
    "    in_vars=[variable],\n",
    "    out_vars=[variable],\n",
    "    pred_range=3*24,\n",
    "    subsample=6\n",
    ")\n",
    "\n",
    "data_module_args = DataModuleArgs(\n",
    "    task_args=forecasting_args,\n",
    "    train_start_year=1979,\n",
    "    val_start_year=2015,\n",
    "    test_start_year=2017,\n",
    "    end_year=2018\n",
    ")\n",
    "\n",
    "data_module = DataModule(\n",
    "    data_module_args=data_module_args,\n",
    "    batch_size=128,\n",
    "    num_workers=1\n",
    ")"
   ]
  },
  {
   "cell_type": "markdown",
   "metadata": {},
   "source": [
    "### Model training\n",
    "\n",
    "See the \"Model Training & Evaluation\" notebook for more details."
   ]
  },
  {
   "cell_type": "code",
   "execution_count": null,
   "metadata": {},
   "outputs": [],
   "source": [
    "from climate_learn.models import load_model\n",
    "from torch.optim import AdamW\n",
    "\n",
    "model_kwargs = {\n",
    "    \"in_channels\": 1,\n",
    "    \"out_channels\": 1,\n",
    "    \"n_blocks\": 4\n",
    "}\n",
    "\n",
    "optim_kwargs = {\n",
    "    \"lr\": 1e-4,\n",
    "    \"weight_decay\": 1e-5,\n",
    "    \"warmup_epochs\": 1,\n",
    "    \"max_epochs\": 5,\n",
    "    \"optimizer\": AdamW\n",
    "}\n",
    "\n",
    "model_module = load_model(\n",
    "    name=\"resnet\",\n",
    "    task=\"forecasting\",\n",
    "    model_kwargs=model_kwargs,\n",
    "    optim_kwargs=optim_kwargs\n",
    ")"
   ]
  },
  {
   "cell_type": "code",
   "execution_count": null,
   "metadata": {},
   "outputs": [],
   "source": [
    "from climate_learn.models import set_climatology\n",
    "set_climatology(model_module, data_module)"
   ]
  },
  {
   "cell_type": "code",
   "execution_count": null,
   "metadata": {},
   "outputs": [],
   "source": [
    "from climate_learn.training import Trainer\n",
    "\n",
    "trainer = Trainer(\n",
    "    seed=0,\n",
    "    accelerator=\"gpu\",\n",
    "    precision=16,\n",
    "    max_epochs=1\n",
    ")\n",
    "\n",
    "trainer.fit(model_module, data_module)"
   ]
  },
  {
   "cell_type": "markdown",
   "metadata": {
    "id": "tcPCvx8AbPFZ"
   },
   "source": [
    "### Visualization"
   ]
  },
  {
   "cell_type": "markdown",
   "metadata": {
    "id": "SRQLNyO_yPhn"
   },
   "source": [
    "We visualize the **bias**, given by the difference in the predicted and the ground truth values.\n",
    "\n",
    "Visualization is done on the test set. ClimateLearn allows you to specify the exact times to visualize. Alternatively, you can specify a number $n$, and ClimateLearn will randomly sample $n$ times from the test set."
   ]
  },
  {
   "cell_type": "code",
   "execution_count": null,
   "metadata": {
    "colab": {
     "background_save": true
    },
    "id": "G-AM0-CPbTNl",
    "outputId": "6c8c41b2-e671-49b1-f267-81f7d8c443da"
   },
   "outputs": [],
   "source": [
    "from climate_learn.utils import visualize\n",
    "visualize(model_module, data_module, samples=[\"2017-06-01:12\", \"2017-08-01:18\"])"
   ]
  },
  {
   "cell_type": "markdown",
   "metadata": {
    "id": "C6HYhl551E8_"
   },
   "source": [
    "In addition to visualizing the bias the model has for each individual data point, we can also visualize the mean bias across the entire test set."
   ]
  },
  {
   "cell_type": "code",
   "execution_count": null,
   "metadata": {
    "colab": {
     "background_save": true
    },
    "id": "H7Qjfu-H1VEd",
    "outputId": "337ad5a8-44fb-45dd-ae4a-9ddddd91992d"
   },
   "outputs": [],
   "source": [
    "from climate_learn.utils import visualize_mean_bias\n",
    "visualize_mean_bias(model_module.cuda(), data_module)"
   ]
  },
  {
   "cell_type": "markdown",
   "metadata": {
    "id": "srfsF01OLV-C"
   },
   "source": [
    "## Downscaling"
   ]
  },
  {
   "cell_type": "markdown",
   "metadata": {
    "id": "0zAegEGoV9zy"
   },
   "source": [
    "### Data preparation\n",
    "\n",
    "The second cell of this section can be skipped if the data is already downloaded."
   ]
  },
  {
   "cell_type": "code",
   "execution_count": null,
   "metadata": {
    "colab": {
     "background_save": true
    },
    "id": "u3tRve6-h0sI",
    "outputId": "d911652c-3e9a-42c3-9f8a-2cfabc01ee81"
   },
   "outputs": [],
   "source": [
    "from climate_learn.data.tasks.args import DownscalingArgs\n",
    "hi_resolution = \"2.8125\""
   ]
  },
  {
   "cell_type": "code",
   "execution_count": null,
   "metadata": {},
   "outputs": [],
   "source": [
    "download(root=root, source=source, dataset=dataset, resolution=hi_resolution, variable=variable)"
   ]
  },
  {
   "cell_type": "code",
   "execution_count": null,
   "metadata": {},
   "outputs": [],
   "source": [
    "lowres_data_args = ERA5Args(\n",
    "    root_dir=f\"{root}/data/{source}/{dataset}/{resolution}/\",\n",
    "    variables=[variable],\n",
    "    years=years\n",
    ")\n",
    "\n",
    "highres_data_args = ERA5Args(\n",
    "    root_dir=f\"{root}/data/{source}/{dataset}/{hi_resolution}\",\n",
    "    variables=[variable],\n",
    "    years=years\n",
    ")\n",
    "\n",
    "downscaling_args = DownscalingArgs(\n",
    "    dataset_args=data_args,\n",
    "    highres_dataset_args=highres_data_args,\n",
    "    in_vars=[variable],\n",
    "    out_vars=[variable],\n",
    "    subsample=6,\n",
    ")\n",
    "\n",
    "data_module_args = DataModuleArgs(\n",
    "    task_args=downscaling_args,\n",
    "    train_start_year=1979,\n",
    "    val_start_year=2015,\n",
    "    test_start_year=2017,\n",
    "    end_year=2018\n",
    ")\n",
    "\n",
    "data_module = DataModule(\n",
    "    data_module_args=data_module_args,\n",
    "    batch_size=128,\n",
    "    num_workers=1\n",
    ")"
   ]
  },
  {
   "cell_type": "markdown",
   "metadata": {
    "id": "Sunkptw4g_Rc"
   },
   "source": [
    "### Model training"
   ]
  },
  {
   "cell_type": "code",
   "execution_count": null,
   "metadata": {
    "colab": {
     "background_save": true
    },
    "id": "lqxpa1znpX5n"
   },
   "outputs": [],
   "source": [
    "model_kwargs = {\n",
    "    \"in_channels\": 1,\n",
    "    \"out_channels\": 1,\n",
    "    \"n_blocks\": 4\n",
    "}\n",
    "\n",
    "optim_kwargs = {\n",
    "    \"lr\": 1e-4,\n",
    "    \"weight_decay\": 1e-5,\n",
    "    \"warmup_epochs\": 1,\n",
    "    \"max_epochs\": 5,\n",
    "    \"optimizer\": AdamW\n",
    "}\n",
    "\n",
    "model_module = load_model(\n",
    "    name=\"resnet\",\n",
    "    task=\"downscaling\",\n",
    "    model_kwargs=model_kwargs,\n",
    "    optim_kwargs=optim_kwargs\n",
    ")"
   ]
  },
  {
   "cell_type": "code",
   "execution_count": null,
   "metadata": {},
   "outputs": [],
   "source": [
    "from climate_learn.models import set_climatology\n",
    "set_climatology(model_module, data_module)"
   ]
  },
  {
   "cell_type": "code",
   "execution_count": null,
   "metadata": {},
   "outputs": [],
   "source": [
    "trainer = Trainer(\n",
    "    seed=0,\n",
    "    accelerator=\"gpu\",\n",
    "    precision=16,\n",
    "    max_epochs=1\n",
    ")\n",
    "\n",
    "trainer.fit(model_module, data_module)"
   ]
  },
  {
   "cell_type": "markdown",
   "metadata": {
    "id": "-DQou7zmXq7u"
   },
   "source": [
    "### Visualization \n",
    "\n",
    "Here, we visualize the bias of our downscaling model."
   ]
  },
  {
   "cell_type": "code",
   "execution_count": null,
   "metadata": {
    "colab": {
     "background_save": true
    },
    "id": "SL2v8Nn973sL",
    "outputId": "47349b80-56b6-423a-c12a-ee473047ff3a"
   },
   "outputs": [],
   "source": [
    "visualize(model_module, data_module, samples=[\"2017-06-01:12\", \"2017-08-01:18\"])"
   ]
  },
  {
   "cell_type": "markdown",
   "metadata": {},
   "source": [
    "Congratulations! Now you know how to produce visualizations of model predictions on both the forecasting and downscaling tasks. Please visit our [docs](https://climatelearn.readthedocs.io/en/latest/user-guide/visualizations.html) to learn more."
   ]
  }
 ],
 "metadata": {
  "accelerator": "GPU",
  "colab": {
   "provenance": []
  },
  "gpuClass": "standard",
  "kernelspec": {
   "display_name": "Python 3 (ipykernel)",
   "language": "python",
   "name": "python3"
  },
  "language_info": {
   "codemirror_mode": {
    "name": "ipython",
    "version": 3
   },
   "file_extension": ".py",
   "mimetype": "text/x-python",
   "name": "python",
   "nbconvert_exporter": "python",
   "pygments_lexer": "ipython3",
   "version": "3.8.16"
  },
  "vscode": {
   "interpreter": {
    "hash": "5b35d5811d64db97cad819926e9e0ba09b354a75e2ee95b259c11201fc783944"
   }
  },
  "widgets": {
   "application/vnd.jupyter.widget-state+json": {
    "74ce30a285964993b98d538aa40c4eee": {
     "model_module": "@jupyter-widgets/base",
     "model_module_version": "1.2.0",
     "model_name": "LayoutModel",
     "state": {
      "_model_module": "@jupyter-widgets/base",
      "_model_module_version": "1.2.0",
      "_model_name": "LayoutModel",
      "_view_count": null,
      "_view_module": "@jupyter-widgets/base",
      "_view_module_version": "1.2.0",
      "_view_name": "LayoutView",
      "align_content": null,
      "align_items": null,
      "align_self": null,
      "border": null,
      "bottom": null,
      "display": null,
      "flex": null,
      "flex_flow": null,
      "grid_area": null,
      "grid_auto_columns": null,
      "grid_auto_flow": null,
      "grid_auto_rows": null,
      "grid_column": null,
      "grid_gap": null,
      "grid_row": null,
      "grid_template_areas": null,
      "grid_template_columns": null,
      "grid_template_rows": null,
      "height": null,
      "justify_content": null,
      "justify_items": null,
      "left": null,
      "margin": null,
      "max_height": null,
      "max_width": null,
      "min_height": null,
      "min_width": null,
      "object_fit": null,
      "object_position": null,
      "order": null,
      "overflow": null,
      "overflow_x": null,
      "overflow_y": null,
      "padding": null,
      "right": null,
      "top": null,
      "visibility": null,
      "width": null
     }
    },
    "9dda786fe5834d40b445dab3d341cdb4": {
     "model_module": "@jupyter-widgets/output",
     "model_module_version": "1.0.0",
     "model_name": "OutputModel",
     "state": {
      "_dom_classes": [],
      "_model_module": "@jupyter-widgets/output",
      "_model_module_version": "1.0.0",
      "_model_name": "OutputModel",
      "_view_count": null,
      "_view_module": "@jupyter-widgets/output",
      "_view_module_version": "1.0.0",
      "_view_name": "OutputView",
      "layout": "IPY_MODEL_74ce30a285964993b98d538aa40c4eee",
      "msg_id": "",
      "outputs": [
       {
        "data": {
         "text/html": "<pre style=\"white-space:pre;overflow-x:auto;line-height:normal;font-family:Menlo,'DejaVu Sans Mono',consolas,'Courier New',monospace\">Epoch 4/4  <span style=\"color: #6206e0; text-decoration-color: #6206e0\">━━━━━━━━━━━━━━━━━━━━━━━━━━━━━━━━━━</span> <span style=\"color: #c0c0c0; text-decoration-color: #c0c0c0\">136/136</span> <span style=\"color: #8a8a8a; text-decoration-color: #8a8a8a\">0:00:30 • 0:00:00</span> <span style=\"color: #b2b2b2; text-decoration-color: #b2b2b2\">4.46it/s</span> <span style=\"color: #c0c0c0; text-decoration-color: #c0c0c0\">loss: 0.0354 train/2m_temperature:</span>\n                                                                                 <span style=\"color: #c0c0c0; text-decoration-color: #c0c0c0\">0.035 train/loss: 0.035           </span>\n</pre>\n",
         "text/plain": "Epoch 4/4  \u001b[38;2;98;6;224m━━━━━━━━━━━━━━━━━━━━━━━━━━━━━━━━━━\u001b[0m \u001b[37m136/136\u001b[0m \u001b[38;5;245m0:00:30 • 0:00:00\u001b[0m \u001b[38;5;249m4.46it/s\u001b[0m \u001b[37mloss: 0.0354 train/2m_temperature:\u001b[0m\n                                                                                 \u001b[37m0.035 train/loss: 0.035           \u001b[0m\n"
        },
        "metadata": {},
        "output_type": "display_data"
       }
      ]
     }
    }
   }
  }
 },
 "nbformat": 4,
 "nbformat_minor": 4
}
