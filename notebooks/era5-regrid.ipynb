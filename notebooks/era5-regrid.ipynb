{
 "cells": [
  {
   "cell_type": "code",
   "execution_count": 43,
   "id": "80c92f5c-35db-401d-8737-7c92b0761926",
   "metadata": {
    "tags": []
   },
   "outputs": [],
   "source": [
    "import numpy as np\n",
    "import os\n",
    "import glob\n",
    "from tqdm import tqdm\n",
    "import xarray as xr"
   ]
  },
  {
   "cell_type": "code",
   "execution_count": 49,
   "id": "0ffd943b-e76b-4626-acd1-d889062fddda",
   "metadata": {
    "tags": []
   },
   "outputs": [],
   "source": [
    "filelist = sorted(glob.glob(\n",
    "    os.path.join(\n",
    "        \"/data0/datasets/weatherbench/data/weatherbench/era5/2.8125deg\",\n",
    "        \"2m_temperature\",\n",
    "        \"*.nc\"\n",
    "    )\n",
    "))"
   ]
  },
  {
   "cell_type": "code",
   "execution_count": 50,
   "id": "da94bc17-c67d-48df-9225-b96e994fd407",
   "metadata": {
    "tags": []
   },
   "outputs": [],
   "source": [
    "xarr = None\n",
    "for fi in filelist:\n",
    "    if xarr is None:\n",
    "        xarr = xr.open_dataset(fi)\n",
    "    else:\n",
    "        xarr = xr.concat((xarr, xr.open_dataset(fi)), dim=\"time\")"
   ]
  },
  {
   "cell_type": "code",
   "execution_count": 54,
   "id": "1fbdd54a-17dc-4c47-ac8a-5ef0288c0deb",
   "metadata": {
    "tags": []
   },
   "outputs": [],
   "source": [
    "lats = xarr.lat.data\n",
    "lons = xarr.lon.data"
   ]
  },
  {
   "cell_type": "code",
   "execution_count": 90,
   "id": "8b251001-3bc9-44dd-9c27-663ee8837a98",
   "metadata": {
    "tags": []
   },
   "outputs": [],
   "source": [
    "# PRISM bounds\n",
    "bottom = 24.10\n",
    "top = 49.94\n",
    "left = 234.98\n",
    "right = 293.48"
   ]
  },
  {
   "cell_type": "code",
   "execution_count": 97,
   "id": "d2a73e96-27ee-471d-9b9c-32627867143e",
   "metadata": {
    "tags": []
   },
   "outputs": [],
   "source": [
    "train_data = xarr.sel({\n",
    "    \"time\": slice(\"1981-01-01\", \"2015-12-31\"),\n",
    "    \"lat\": slice(bottom, top),\n",
    "    \"lon\": slice(left, right)\n",
    "})\n",
    "cropped_lats = train_data.lat.data\n",
    "cropped_lons = train_data.lon.data\n",
    "\n",
    "train_data = train_data.resample(time=\"1D\").max(dim=\"time\")\n",
    "train_mean = train_data.mean(dim=\"time\")[\"t2m\"].data\n",
    "train_std = train_data.std(dim=\"time\")[\"t2m\"].data\n",
    "train_narr = train_data[\"t2m\"].data"
   ]
  },
  {
   "cell_type": "code",
   "execution_count": 101,
   "id": "6a8b26c6-c9dc-4d30-a730-d09f8d849d35",
   "metadata": {
    "tags": []
   },
   "outputs": [],
   "source": [
    "val_data = xarr.sel({\n",
    "    \"time\": slice(\"2016-01-01\", \"2016-12-31\"),\n",
    "    \"lat\": slice(bottom, top),\n",
    "    \"lon\": slice(left, right)\n",
    "})\n",
    "val_data = val_data.resample(time=\"1D\").max(dim=\"time\")\n",
    "val_mean = val_data.mean(dim=\"time\")[\"t2m\"].data\n",
    "val_std = val_data.std(dim=\"time\")[\"t2m\"].data\n",
    "val_narr = val_data[\"t2m\"].data"
   ]
  },
  {
   "cell_type": "code",
   "execution_count": 102,
   "id": "c5e4e987-93f4-4508-ad33-89baedda8ea7",
   "metadata": {
    "tags": []
   },
   "outputs": [],
   "source": [
    "test_data = xarr.sel({\n",
    "    \"time\": slice(\"2017-01-01\", \"2018-12-31\"),\n",
    "    \"lat\": slice(bottom, top),\n",
    "    \"lon\": slice(left, right)\n",
    "})\n",
    "test_data = test_data.resample(time=\"1D\").max(dim=\"time\")\n",
    "test_mean = test_data.mean(dim=\"time\")[\"t2m\"].data\n",
    "test_std = test_data.std(dim=\"time\")[\"t2m\"].data\n",
    "test_narr = test_data[\"t2m\"].data"
   ]
  },
  {
   "cell_type": "code",
   "execution_count": 104,
   "id": "854c16d0-53de-4d76-84ce-77d4dbb59cf5",
   "metadata": {
    "tags": []
   },
   "outputs": [],
   "source": [
    "with open(\"/data0/datasets/prism/era5_cropped/train.npz\", \"wb\") as f:\n",
    "    np.savez(f, data=train_narr, mean=train_mean, std=train_std)"
   ]
  },
  {
   "cell_type": "code",
   "execution_count": 105,
   "id": "dd1fc64c-2ac3-415e-b92f-ed3ff1ff7f0d",
   "metadata": {
    "tags": []
   },
   "outputs": [],
   "source": [
    "with open(\"/data0/datasets/prism/era5_cropped/val.npz\", \"wb\") as f:\n",
    "    np.savez(f, data=val_narr, mean=val_mean, std=val_std)"
   ]
  },
  {
   "cell_type": "code",
   "execution_count": 106,
   "id": "3e8f2406-5b7c-4f7a-b0a5-c550a79e968c",
   "metadata": {
    "tags": []
   },
   "outputs": [],
   "source": [
    "with open(\"/data0/datasets/prism/era5_cropped/test.npz\", \"wb\") as f:\n",
    "    np.savez(f, data=test_narr, mean=test_mean, std=test_std)"
   ]
  },
  {
   "cell_type": "code",
   "execution_count": 107,
   "id": "fe52a83b-76dd-4519-a9a4-101c436e63af",
   "metadata": {
    "tags": []
   },
   "outputs": [],
   "source": [
    "with open(\"/data0/datasets/prism/era5_cropped/coords.npz\", \"wb\") as f:\n",
    "    np.savez(f, lat=cropped_lats, lon=cropped_lons)"
   ]
  },
  {
   "cell_type": "markdown",
   "id": "90051c5a-dd86-4945-add2-13f00c3754d9",
   "metadata": {},
   "source": [
    "The below does not work because for some reason the number of days is off."
   ]
  },
  {
   "cell_type": "code",
   "execution_count": 45,
   "id": "2a8e0a08-9b6b-4b30-8a54-fb3c01fc034f",
   "metadata": {
    "tags": []
   },
   "outputs": [],
   "source": [
    "# root = os.environ[\"ERA5_2DEG\"]\n",
    "# lats = np.load(os.path.join(root, \"lat.npy\"))\n",
    "# lons = np.load(os.path.join(root, \"lon.npy\"))"
   ]
  },
  {
   "cell_type": "code",
   "execution_count": 46,
   "id": "904f1d86-4e2e-4e56-991a-a5a9c0996859",
   "metadata": {
    "tags": []
   },
   "outputs": [],
   "source": [
    "# def process(split):\n",
    "#     file_list = glob.glob(os.path.join(root, split, \"*.npz\"))\n",
    "#     conus_data = []\n",
    "#     for fi in tqdm(file_list):\n",
    "#         if not fi.endswith(\"climatology.npz\"):\n",
    "#             npz = np.load(fi)\n",
    "#             arr = npz[\"2m_temperature\"]\n",
    "#             cropped = arr[:,0,y:yy,x:xx]\n",
    "#             conus_data.append(cropped)\n",
    "#     conus_data = np.concatenate(conus_data)\n",
    "#     days = []\n",
    "#     for i in range(0, len(conus_data), 24):\n",
    "#         j = min(i+24, len(conus_data))\n",
    "#         days.append(conus_data[i:j])\n",
    "#     days = np.stack(days)\n",
    "#     daily_max_t2m = np.max(days, axis=1)\n",
    "#     with open(f\"/data0/datasets/prism/era5_cropped/{split}.npy\", \"wb\") as f:\n",
    "#         np.save(f, daily_max_t2m)\n",
    "#     return daily_max_t2m"
   ]
  },
  {
   "cell_type": "markdown",
   "id": "93ce2eb5-d1f8-48ff-bcc1-86fd85f1fadd",
   "metadata": {},
   "source": [
    "PRISM data is in EST, ERA5 is in UTC, which is 4 hours ahead, so we should skip the first four hours to offset by 4 and then drop the last day (since it won't be a full 24 hours). I'm not going to do this though because I don't have the time to figure it out."
   ]
  }
 ],
 "metadata": {
  "kernelspec": {
   "display_name": "climate",
   "language": "python",
   "name": "climate"
  },
  "language_info": {
   "codemirror_mode": {
    "name": "ipython",
    "version": 3
   },
   "file_extension": ".py",
   "mimetype": "text/x-python",
   "name": "python",
   "nbconvert_exporter": "python",
   "pygments_lexer": "ipython3",
   "version": "3.10.9"
  }
 },
 "nbformat": 4,
 "nbformat_minor": 5
}
