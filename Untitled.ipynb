{
 "cells": [
  {
   "cell_type": "code",
   "execution_count": 1,
   "id": "e3bfef19-9c33-4084-ac1f-0ce82c9ac815",
   "metadata": {
    "tags": []
   },
   "outputs": [],
   "source": [
    "%load_ext autoreload\n",
    "%autoreload 2"
   ]
  },
  {
   "cell_type": "code",
   "execution_count": 5,
   "id": "e5ed8d86-8bda-4f82-94c5-4b1aa492c9d7",
   "metadata": {
    "tags": []
   },
   "outputs": [],
   "source": [
    "from climate_learn import load_forecasting_module\n",
    "from climate_learn.data.climate_dataset.args import ERA5Args\n",
    "from climate_learn.data.task.args import ForecastingArgs\n",
    "from climate_learn.data.dataset.args import MapDatasetArgs\n",
    "from climate_learn.data import DataModule\n",
    "from climate_learn.training import Trainer"
   ]
  },
  {
   "cell_type": "code",
   "execution_count": 6,
   "id": "c8c91ad5-0f8f-4f9a-a89a-eef072dc6892",
   "metadata": {},
   "outputs": [],
   "source": [
    "root = \"/data0/datasets/weatherbench\"\n",
    "source = \"weatherbench\"\n",
    "dataset = \"era5\"\n",
    "resolution = \"5.625deg\"\n",
    "variables = [\"2m_temperature\", \"geopotential\"]"
   ]
  },
  {
   "cell_type": "code",
   "execution_count": 7,
   "id": "0f6ff2fe-2d9a-4a2b-a4ef-3ca81768ee3f",
   "metadata": {},
   "outputs": [
    {
     "name": "stderr",
     "output_type": "stream",
     "text": [
      "100%|██████████████████████████████████████████████████████████████████████████████████████████████████████████| 1/1 [00:00<00:00,  1.29it/s]\n",
      "100%|██████████████████████████████████████████████████████████████████████████████████████████████████████████| 1/1 [00:00<00:00,  1.77it/s]\n",
      "100%|██████████████████████████████████████████████████████████████████████████████████████████████████████████| 1/1 [00:00<00:00,  1.59it/s]\n"
     ]
    }
   ],
   "source": [
    "data_args = ERA5Args(\n",
    "    root_dir=f\"{root}/data/{source}/{dataset}/{resolution}/\",\n",
    "    variables=variables,\n",
    "    years=range(2015, 2018)\n",
    ")\n",
    "\n",
    "forecasting_args = ForecastingArgs(\n",
    "    in_vars=variables,\n",
    "    out_vars=variables,\n",
    "    pred_range=3*24,\n",
    "    subsample=6\n",
    ")\n",
    "\n",
    "map_dataset_args = MapDatasetArgs(\n",
    "    climate_dataset_args=data_args,\n",
    "    task_args=forecasting_args\n",
    ")\n",
    "\n",
    "modified_args_for_train_dataset = {\n",
    "    \"climate_dataset_args\": {\n",
    "        \"years\": range(2015, 2016), \"split\": \"train\"\n",
    "    }\n",
    "}\n",
    "train_dataset_args = map_dataset_args.create_copy(modified_args_for_train_dataset)\n",
    "\n",
    "modified_args_for_val_dataset = {\n",
    "    \"climate_dataset_args\": {\n",
    "        \"years\": range(2016, 2017), \"split\": \"val\"\n",
    "    }\n",
    "}\n",
    "val_dataset_args = map_dataset_args.create_copy(modified_args_for_val_dataset)\n",
    "\n",
    "modified_args_for_test_dataset = {\n",
    "    \"climate_dataset_args\": {\n",
    "        \"years\": range(2017, 2018), \"split\": \"test\"\n",
    "    }\n",
    "}\n",
    "test_dataset_args = map_dataset_args.create_copy(\n",
    "    modified_args_for_test_dataset\n",
    ")\n",
    "\n",
    "data_module = DataModule(\n",
    "    train_dataset_args,\n",
    "    val_dataset_args,\n",
    "    test_dataset_args,\n",
    "    batch_size=32,\n",
    "    num_workers=8\n",
    ")"
   ]
  },
  {
   "cell_type": "code",
   "execution_count": 12,
   "id": "f31e56b9-5691-47ac-8670-5fdaa6ead09f",
   "metadata": {
    "tags": []
   },
   "outputs": [
    {
     "name": "stdout",
     "output_type": "stream",
     "text": [
      "Loading preset: persistence\n",
      "Using preset optimizer\n",
      "Using preset learning rate scheduler\n",
      "Loading training loss: lat_mse\n",
      "Loading validation loss: lat_rmse\n",
      "Loading validation loss: lat_acc\n",
      "Loading test loss: lat_rmse\n",
      "Loading test loss: lat_acc\n",
      "Loading validation transform: denormalize\n",
      "Loading validation transform: denormalize\n",
      "Loading test transform: denormalize\n",
      "Loading test transform: denormalize\n"
     ]
    }
   ],
   "source": [
    "forecast_module = load_forecasting_module(\n",
    "    data_module=data_module,\n",
    "    preset=\"persistence\"\n",
    ")\n",
    "\n",
    "# forecast_module = load_forecasting_module(\n",
    "#     data_module,\n",
    "#     preset=\"rasp-theurey-2020\",\n",
    "# )\n",
    "\n",
    "# forecast_module = load_forecasting_module(\n",
    "#     data_module,\n",
    "#     model=\"resnet\",\n",
    "#     model_kwargs={\"in_channels\": 8, \"out_channels\": 8, \"n_blocks\": 2},\n",
    "#     optim=\"SGD\",\n",
    "#     optim_kwargs={\"lr\": 1e-3}\n",
    "# )"
   ]
  },
  {
   "cell_type": "code",
   "execution_count": 17,
   "id": "516681ce-57b0-44ca-ada9-9f6af6e47f3f",
   "metadata": {
    "tags": []
   },
   "outputs": [
    {
     "name": "stderr",
     "output_type": "stream",
     "text": [
      "Global seed set to 0\n"
     ]
    }
   ],
   "source": [
    "trainer = Trainer()"
   ]
  },
  {
   "cell_type": "code",
   "execution_count": 18,
   "id": "ec932506-a15d-4ff7-9acc-b4e520e3712b",
   "metadata": {
    "tags": []
   },
   "outputs": [
    {
     "ename": "RuntimeError",
     "evalue": "model module has no optimizer - maybe it has no parameters?",
     "output_type": "error",
     "traceback": [
      "\u001b[0;31m---------------------------------------------------------------------------\u001b[0m",
      "\u001b[0;31mRuntimeError\u001b[0m                              Traceback (most recent call last)",
      "Cell \u001b[0;32mIn[18], line 1\u001b[0m\n\u001b[0;32m----> 1\u001b[0m \u001b[43mtrainer\u001b[49m\u001b[38;5;241;43m.\u001b[39;49m\u001b[43mfit\u001b[49m\u001b[43m(\u001b[49m\u001b[43mforecast_module\u001b[49m\u001b[43m,\u001b[49m\u001b[43m \u001b[49m\u001b[43mdata_module\u001b[49m\u001b[43m)\u001b[49m\n",
      "File \u001b[0;32m~/climate-learn/src/climate_learn/training/train.py:86\u001b[0m, in \u001b[0;36mTrainer.fit\u001b[0;34m(self, model_module, data_module)\u001b[0m\n\u001b[1;32m     84\u001b[0m \u001b[38;5;28;01mdef\u001b[39;00m \u001b[38;5;21mfit\u001b[39m(\u001b[38;5;28mself\u001b[39m, model_module, data_module):\n\u001b[1;32m     85\u001b[0m     \u001b[38;5;28;01mif\u001b[39;00m model_module\u001b[38;5;241m.\u001b[39moptimizer \u001b[38;5;129;01mis\u001b[39;00m \u001b[38;5;28;01mNone\u001b[39;00m:\n\u001b[0;32m---> 86\u001b[0m         \u001b[38;5;28;01mraise\u001b[39;00m \u001b[38;5;167;01mRuntimeError\u001b[39;00m(\u001b[38;5;124m\"\u001b[39m\u001b[38;5;124mmodel module has no optimizer - maybe it has no parameters?\u001b[39m\u001b[38;5;124m\"\u001b[39m)\n\u001b[1;32m     87\u001b[0m     \u001b[38;5;28mself\u001b[39m\u001b[38;5;241m.\u001b[39mtrainer\u001b[38;5;241m.\u001b[39mfit(model_module, data_module)\n",
      "\u001b[0;31mRuntimeError\u001b[0m: model module has no optimizer - maybe it has no parameters?"
     ]
    }
   ],
   "source": [
    "trainer.fit(forecast_module, data_module)"
   ]
  },
  {
   "cell_type": "code",
   "execution_count": 19,
   "id": "b371177c-cd63-424b-89f5-45db91966ff0",
   "metadata": {
    "tags": []
   },
   "outputs": [
    {
     "data": {
      "application/vnd.jupyter.widget-view+json": {
       "model_id": "fa5f4576819743ef8a1ad3d106dc6185",
       "version_major": 2,
       "version_minor": 0
      },
      "text/plain": [
       "Output()"
      ]
     },
     "metadata": {},
     "output_type": "display_data"
    },
    {
     "data": {
      "text/html": [
       "<pre style=\"white-space:pre;overflow-x:auto;line-height:normal;font-family:Menlo,'DejaVu Sans Mono',consolas,'Courier New',monospace\">┏━━━━━━━━━━━━━━━━━━━━━━━━━━━┳━━━━━━━━━━━━━━━━━━━━━━━━━━━┓\n",
       "┃<span style=\"font-weight: bold\">        Test metric        </span>┃<span style=\"font-weight: bold\">       DataLoader 0        </span>┃\n",
       "┡━━━━━━━━━━━━━━━━━━━━━━━━━━━╇━━━━━━━━━━━━━━━━━━━━━━━━━━━┩\n",
       "│<span style=\"color: #008080; text-decoration-color: #008080\">          lat_acc          </span>│<span style=\"color: #800080; text-decoration-color: #800080\">    0.5929319305649203     </span>│\n",
       "│<span style=\"color: #008080; text-decoration-color: #008080\">         lat_rmse          </span>│<span style=\"color: #800080; text-decoration-color: #800080\">     831.7426731267528     </span>│\n",
       "└───────────────────────────┴───────────────────────────┘\n",
       "</pre>\n"
      ],
      "text/plain": [
       "┏━━━━━━━━━━━━━━━━━━━━━━━━━━━┳━━━━━━━━━━━━━━━━━━━━━━━━━━━┓\n",
       "┃\u001b[1m \u001b[0m\u001b[1m       Test metric       \u001b[0m\u001b[1m \u001b[0m┃\u001b[1m \u001b[0m\u001b[1m      DataLoader 0       \u001b[0m\u001b[1m \u001b[0m┃\n",
       "┡━━━━━━━━━━━━━━━━━━━━━━━━━━━╇━━━━━━━━━━━━━━━━━━━━━━━━━━━┩\n",
       "│\u001b[36m \u001b[0m\u001b[36m         lat_acc         \u001b[0m\u001b[36m \u001b[0m│\u001b[35m \u001b[0m\u001b[35m   0.5929319305649203    \u001b[0m\u001b[35m \u001b[0m│\n",
       "│\u001b[36m \u001b[0m\u001b[36m        lat_rmse         \u001b[0m\u001b[36m \u001b[0m│\u001b[35m \u001b[0m\u001b[35m    831.7426731267528    \u001b[0m\u001b[35m \u001b[0m│\n",
       "└───────────────────────────┴───────────────────────────┘\n"
      ]
     },
     "metadata": {},
     "output_type": "display_data"
    },
    {
     "data": {
      "text/html": [
       "<pre style=\"white-space:pre;overflow-x:auto;line-height:normal;font-family:Menlo,'DejaVu Sans Mono',consolas,'Courier New',monospace\"></pre>\n"
      ],
      "text/plain": []
     },
     "metadata": {},
     "output_type": "display_data"
    },
    {
     "data": {
      "text/html": [
       "<pre style=\"white-space:pre;overflow-x:auto;line-height:normal;font-family:Menlo,'DejaVu Sans Mono',consolas,'Courier New',monospace\">\n",
       "</pre>\n"
      ],
      "text/plain": [
       "\n"
      ]
     },
     "metadata": {},
     "output_type": "display_data"
    }
   ],
   "source": [
    "trainer.test(forecast_module, data_module)"
   ]
  },
  {
   "cell_type": "code",
   "execution_count": null,
   "id": "7fb499a8-9dd1-4f43-ab24-3427602ff846",
   "metadata": {},
   "outputs": [],
   "source": []
  }
 ],
 "metadata": {
  "kernelspec": {
   "display_name": "climate",
   "language": "python",
   "name": "climate"
  },
  "language_info": {
   "codemirror_mode": {
    "name": "ipython",
    "version": 3
   },
   "file_extension": ".py",
   "mimetype": "text/x-python",
   "name": "python",
   "nbconvert_exporter": "python",
   "pygments_lexer": "ipython3",
   "version": "3.10.9"
  }
 },
 "nbformat": 4,
 "nbformat_minor": 5
}
