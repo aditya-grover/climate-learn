{
 "cells": [
  {
   "cell_type": "code",
   "execution_count": 1,
   "id": "e3bfef19-9c33-4084-ac1f-0ce82c9ac815",
   "metadata": {
    "tags": []
   },
   "outputs": [],
   "source": [
    "%load_ext autoreload\n",
    "%autoreload 2"
   ]
  },
  {
   "cell_type": "code",
   "execution_count": 2,
   "id": "e5ed8d86-8bda-4f82-94c5-4b1aa492c9d7",
   "metadata": {
    "tags": []
   },
   "outputs": [],
   "source": [
    "from climate_learn import load_forecasting_module\n",
    "from climate_learn.data.climate_dataset.args import ERA5Args\n",
    "from climate_learn.data.task.args import ForecastingArgs\n",
    "from climate_learn.data.dataset.args import MapDatasetArgs\n",
    "from climate_learn.data import DataModule\n",
    "from climate_learn.training import Trainer"
   ]
  },
  {
   "cell_type": "code",
   "execution_count": 5,
   "id": "c8c91ad5-0f8f-4f9a-a89a-eef072dc6892",
   "metadata": {},
   "outputs": [],
   "source": [
    "root = \"/data0/datasets/weatherbench\"\n",
    "source = \"weatherbench\"\n",
    "dataset = \"era5\"\n",
    "resolution = \"5.625deg\"\n",
    "variables = [\"2m_temperature\", \"geopotential\"]"
   ]
  },
  {
   "cell_type": "code",
   "execution_count": 6,
   "id": "0f6ff2fe-2d9a-4a2b-a4ef-3ca81768ee3f",
   "metadata": {},
   "outputs": [
    {
     "name": "stderr",
     "output_type": "stream",
     "text": [
      "100%|████████████████████████████████████████████████████████████████████████████████████████████████████████| 36/36 [00:35<00:00,  1.01it/s]\n",
      "100%|██████████████████████████████████████████████████████████████████████████████████████████████████████████| 2/2 [00:02<00:00,  1.29s/it]\n",
      "100%|██████████████████████████████████████████████████████████████████████████████████████████████████████████| 1/1 [00:00<00:00,  1.31it/s]\n"
     ]
    }
   ],
   "source": [
    "data_args = ERA5Args(\n",
    "    root_dir=f\"{root}/data/{source}/{dataset}/{resolution}/\",\n",
    "    variables=variables,\n",
    "    years=years\n",
    ")\n",
    "\n",
    "forecasting_args = ForecastingArgs(\n",
    "    in_vars=variables,\n",
    "    out_vars=variables,\n",
    "    pred_range=3*24,\n",
    "    subsample=6\n",
    ")\n",
    "\n",
    "map_dataset_args = MapDatasetArgs(\n",
    "    climate_dataset_args=data_args,\n",
    "    task_args=forecasting_args\n",
    ")\n",
    "\n",
    "modified_args_for_train_dataset = {\n",
    "    \"climate_dataset_args\": {\n",
    "        \"years\": range(1979, 2015), \"split\": \"train\"\n",
    "    }\n",
    "}\n",
    "train_dataset_args = map_dataset_args.create_copy(modified_args_for_train_dataset)\n",
    "\n",
    "modified_args_for_val_dataset = {\n",
    "    \"climate_dataset_args\": {\n",
    "        \"years\": range(2015, 2017), \"split\": \"val\"\n",
    "    }\n",
    "}\n",
    "val_dataset_args = map_dataset_args.create_copy(modified_args_for_val_dataset)\n",
    "\n",
    "modified_args_for_test_dataset = {\n",
    "    \"climate_dataset_args\": {\n",
    "        \"years\": range(2017, 2018), \"split\": \"test\"\n",
    "    }\n",
    "}\n",
    "test_dataset_args = map_dataset_args.create_copy(\n",
    "    modified_args_for_test_dataset\n",
    ")\n",
    "\n",
    "data_module = DataModule(\n",
    "    train_dataset_args,\n",
    "    val_dataset_args,\n",
    "    test_dataset_args,\n",
    "    batch_size=32,\n",
    "    num_workers=8\n",
    ")"
   ]
  },
  {
   "cell_type": "code",
   "execution_count": 15,
   "id": "f31e56b9-5691-47ac-8670-5fdaa6ead09f",
   "metadata": {
    "tags": []
   },
   "outputs": [],
   "source": [
    "# forecast_module = load_forecasting_module(\n",
    "#     data_module,\n",
    "#     preset=\"rasp-theurey-2020\",\n",
    "# )\n",
    "\n",
    "# forecast_module = load_forecasting_module(\n",
    "#     data_module,\n",
    "#     model=\"resnet\",\n",
    "#     model_kwargs={\"in_channels\": 8, \"out_channels\": 8, \"n_blocks\": 2},\n",
    "#     optim=\"SGD\",\n",
    "#     optim_kwargs={\"lr\": 1e-3}\n",
    "# )"
   ]
  },
  {
   "cell_type": "code",
   "execution_count": 16,
   "id": "516681ce-57b0-44ca-ada9-9f6af6e47f3f",
   "metadata": {
    "tags": []
   },
   "outputs": [
    {
     "name": "stderr",
     "output_type": "stream",
     "text": [
      "Global seed set to 0\n"
     ]
    }
   ],
   "source": [
    "trainer = Trainer()"
   ]
  },
  {
   "cell_type": "code",
   "execution_count": 17,
   "id": "ec932506-a15d-4ff7-9acc-b4e520e3712b",
   "metadata": {
    "tags": []
   },
   "outputs": [
    {
     "data": {
      "text/html": [
       "<pre style=\"white-space:pre;overflow-x:auto;line-height:normal;font-family:Menlo,'DejaVu Sans Mono',consolas,'Courier New',monospace\">┏━━━━┳━━━━━━━━━━━━━━━━┳━━━━━━━━━━━━━━━━┳━━━━━━━━┓\n",
       "┃<span style=\"color: #800080; text-decoration-color: #800080; font-weight: bold\">    </span>┃<span style=\"color: #800080; text-decoration-color: #800080; font-weight: bold\"> Name           </span>┃<span style=\"color: #800080; text-decoration-color: #800080; font-weight: bold\"> Type           </span>┃<span style=\"color: #800080; text-decoration-color: #800080; font-weight: bold\"> Params </span>┃\n",
       "┡━━━━╇━━━━━━━━━━━━━━━━╇━━━━━━━━━━━━━━━━╇━━━━━━━━┩\n",
       "│<span style=\"color: #7f7f7f; text-decoration-color: #7f7f7f\"> 0  </span>│ net            │ ResNet         │  692 K │\n",
       "│<span style=\"color: #7f7f7f; text-decoration-color: #7f7f7f\"> 1  </span>│ net.activation │ LeakyReLU      │      0 │\n",
       "│<span style=\"color: #7f7f7f; text-decoration-color: #7f7f7f\"> 2  </span>│ net.image_proj │ PeriodicConv2D │ 50.3 K │\n",
       "│<span style=\"color: #7f7f7f; text-decoration-color: #7f7f7f\"> 3  </span>│ net.blocks     │ ModuleList     │  591 K │\n",
       "│<span style=\"color: #7f7f7f; text-decoration-color: #7f7f7f\"> 4  </span>│ net.norm       │ BatchNorm2d    │    256 │\n",
       "│<span style=\"color: #7f7f7f; text-decoration-color: #7f7f7f\"> 5  </span>│ net.final      │ PeriodicConv2D │ 50.2 K │\n",
       "│<span style=\"color: #7f7f7f; text-decoration-color: #7f7f7f\"> 6  </span>│ train_loss     │ LatWeightedMSE │      0 │\n",
       "│<span style=\"color: #7f7f7f; text-decoration-color: #7f7f7f\"> 7  </span>│ val_loss       │ ModuleList     │      0 │\n",
       "│<span style=\"color: #7f7f7f; text-decoration-color: #7f7f7f\"> 8  </span>│ val_loss.0     │ Denormalized   │      0 │\n",
       "│<span style=\"color: #7f7f7f; text-decoration-color: #7f7f7f\"> 9  </span>│ val_loss.1     │ Denormalized   │      0 │\n",
       "│<span style=\"color: #7f7f7f; text-decoration-color: #7f7f7f\"> 10 </span>│ test_loss      │ ModuleList     │      0 │\n",
       "│<span style=\"color: #7f7f7f; text-decoration-color: #7f7f7f\"> 11 </span>│ test_loss.0    │ Denormalized   │      0 │\n",
       "│<span style=\"color: #7f7f7f; text-decoration-color: #7f7f7f\"> 12 </span>│ test_loss.1    │ Denormalized   │      0 │\n",
       "└────┴────────────────┴────────────────┴────────┘\n",
       "</pre>\n"
      ],
      "text/plain": [
       "┏━━━━┳━━━━━━━━━━━━━━━━┳━━━━━━━━━━━━━━━━┳━━━━━━━━┓\n",
       "┃\u001b[1;35m \u001b[0m\u001b[1;35m  \u001b[0m\u001b[1;35m \u001b[0m┃\u001b[1;35m \u001b[0m\u001b[1;35mName          \u001b[0m\u001b[1;35m \u001b[0m┃\u001b[1;35m \u001b[0m\u001b[1;35mType          \u001b[0m\u001b[1;35m \u001b[0m┃\u001b[1;35m \u001b[0m\u001b[1;35mParams\u001b[0m\u001b[1;35m \u001b[0m┃\n",
       "┡━━━━╇━━━━━━━━━━━━━━━━╇━━━━━━━━━━━━━━━━╇━━━━━━━━┩\n",
       "│\u001b[2m \u001b[0m\u001b[2m0 \u001b[0m\u001b[2m \u001b[0m│ net            │ ResNet         │  692 K │\n",
       "│\u001b[2m \u001b[0m\u001b[2m1 \u001b[0m\u001b[2m \u001b[0m│ net.activation │ LeakyReLU      │      0 │\n",
       "│\u001b[2m \u001b[0m\u001b[2m2 \u001b[0m\u001b[2m \u001b[0m│ net.image_proj │ PeriodicConv2D │ 50.3 K │\n",
       "│\u001b[2m \u001b[0m\u001b[2m3 \u001b[0m\u001b[2m \u001b[0m│ net.blocks     │ ModuleList     │  591 K │\n",
       "│\u001b[2m \u001b[0m\u001b[2m4 \u001b[0m\u001b[2m \u001b[0m│ net.norm       │ BatchNorm2d    │    256 │\n",
       "│\u001b[2m \u001b[0m\u001b[2m5 \u001b[0m\u001b[2m \u001b[0m│ net.final      │ PeriodicConv2D │ 50.2 K │\n",
       "│\u001b[2m \u001b[0m\u001b[2m6 \u001b[0m\u001b[2m \u001b[0m│ train_loss     │ LatWeightedMSE │      0 │\n",
       "│\u001b[2m \u001b[0m\u001b[2m7 \u001b[0m\u001b[2m \u001b[0m│ val_loss       │ ModuleList     │      0 │\n",
       "│\u001b[2m \u001b[0m\u001b[2m8 \u001b[0m\u001b[2m \u001b[0m│ val_loss.0     │ Denormalized   │      0 │\n",
       "│\u001b[2m \u001b[0m\u001b[2m9 \u001b[0m\u001b[2m \u001b[0m│ val_loss.1     │ Denormalized   │      0 │\n",
       "│\u001b[2m \u001b[0m\u001b[2m10\u001b[0m\u001b[2m \u001b[0m│ test_loss      │ ModuleList     │      0 │\n",
       "│\u001b[2m \u001b[0m\u001b[2m11\u001b[0m\u001b[2m \u001b[0m│ test_loss.0    │ Denormalized   │      0 │\n",
       "│\u001b[2m \u001b[0m\u001b[2m12\u001b[0m\u001b[2m \u001b[0m│ test_loss.1    │ Denormalized   │      0 │\n",
       "└────┴────────────────┴────────────────┴────────┘\n"
      ]
     },
     "metadata": {},
     "output_type": "display_data"
    },
    {
     "data": {
      "text/html": [
       "<pre style=\"white-space:pre;overflow-x:auto;line-height:normal;font-family:Menlo,'DejaVu Sans Mono',consolas,'Courier New',monospace\"><span style=\"font-weight: bold\">Trainable params</span>: 692 K                                                                                            \n",
       "<span style=\"font-weight: bold\">Non-trainable params</span>: 0                                                                                            \n",
       "<span style=\"font-weight: bold\">Total params</span>: 692 K                                                                                                \n",
       "<span style=\"font-weight: bold\">Total estimated model params size (MB)</span>: 1                                                                          \n",
       "</pre>\n"
      ],
      "text/plain": [
       "\u001b[1mTrainable params\u001b[0m: 692 K                                                                                            \n",
       "\u001b[1mNon-trainable params\u001b[0m: 0                                                                                            \n",
       "\u001b[1mTotal params\u001b[0m: 692 K                                                                                                \n",
       "\u001b[1mTotal estimated model params size (MB)\u001b[0m: 1                                                                          \n"
      ]
     },
     "metadata": {},
     "output_type": "display_data"
    },
    {
     "data": {
      "application/vnd.jupyter.widget-view+json": {
       "model_id": "3e83410dd2104e5c95d70ab29ad3bd8a",
       "version_major": 2,
       "version_minor": 0
      },
      "text/plain": [
       "Output()"
      ]
     },
     "metadata": {},
     "output_type": "display_data"
    },
    {
     "data": {
      "text/html": [
       "<pre style=\"white-space:pre;overflow-x:auto;line-height:normal;font-family:Menlo,'DejaVu Sans Mono',consolas,'Courier New',monospace\"></pre>\n"
      ],
      "text/plain": []
     },
     "metadata": {},
     "output_type": "display_data"
    },
    {
     "data": {
      "text/html": [
       "<pre style=\"white-space:pre;overflow-x:auto;line-height:normal;font-family:Menlo,'DejaVu Sans Mono',consolas,'Courier New',monospace\">\n",
       "</pre>\n"
      ],
      "text/plain": [
       "\n"
      ]
     },
     "metadata": {},
     "output_type": "display_data"
    }
   ],
   "source": [
    "trainer.fit(forecast_module, data_module)"
   ]
  },
  {
   "cell_type": "code",
   "execution_count": 18,
   "id": "b371177c-cd63-424b-89f5-45db91966ff0",
   "metadata": {
    "tags": []
   },
   "outputs": [
    {
     "data": {
      "application/vnd.jupyter.widget-view+json": {
       "model_id": "83857a30fa5c4648b4d8ed79bf078c00",
       "version_major": 2,
       "version_minor": 0
      },
      "text/plain": [
       "Output()"
      ]
     },
     "metadata": {},
     "output_type": "display_data"
    },
    {
     "data": {
      "text/html": [
       "<pre style=\"white-space:pre;overflow-x:auto;line-height:normal;font-family:Menlo,'DejaVu Sans Mono',consolas,'Courier New',monospace\">┏━━━━━━━━━━━━━━━━━━━━━━━━━━━┳━━━━━━━━━━━━━━━━━━━━━━━━━━━┓\n",
       "┃<span style=\"font-weight: bold\">        Test metric        </span>┃<span style=\"font-weight: bold\">       DataLoader 0        </span>┃\n",
       "┡━━━━━━━━━━━━━━━━━━━━━━━━━━━╇━━━━━━━━━━━━━━━━━━━━━━━━━━━┩\n",
       "│<span style=\"color: #008080; text-decoration-color: #008080\">          lat_acc          </span>│<span style=\"color: #800080; text-decoration-color: #800080\">            nan            </span>│\n",
       "│<span style=\"color: #008080; text-decoration-color: #008080\">  lat_acc:2m_temperature   </span>│<span style=\"color: #800080; text-decoration-color: #800080\">    0.7366837077060729     </span>│\n",
       "│<span style=\"color: #008080; text-decoration-color: #008080\"> lat_acc:geopotential_250  </span>│<span style=\"color: #800080; text-decoration-color: #800080\">            nan            </span>│\n",
       "│<span style=\"color: #008080; text-decoration-color: #008080\">  lat_acc:geopotential_50  </span>│<span style=\"color: #800080; text-decoration-color: #800080\">            nan            </span>│\n",
       "│<span style=\"color: #008080; text-decoration-color: #008080\"> lat_acc:geopotential_500  </span>│<span style=\"color: #800080; text-decoration-color: #800080\">    0.6524468842047007     </span>│\n",
       "│<span style=\"color: #008080; text-decoration-color: #008080\"> lat_acc:geopotential_600  </span>│<span style=\"color: #800080; text-decoration-color: #800080\">    0.6118386273188791     </span>│\n",
       "│<span style=\"color: #008080; text-decoration-color: #008080\"> lat_acc:geopotential_700  </span>│<span style=\"color: #800080; text-decoration-color: #800080\">    0.5569504811378981     </span>│\n",
       "│<span style=\"color: #008080; text-decoration-color: #008080\"> lat_acc:geopotential_850  </span>│<span style=\"color: #800080; text-decoration-color: #800080\">    0.45056867290937436    </span>│\n",
       "│<span style=\"color: #008080; text-decoration-color: #008080\"> lat_acc:geopotential_925  </span>│<span style=\"color: #800080; text-decoration-color: #800080\">    0.4183734164199764     </span>│\n",
       "│<span style=\"color: #008080; text-decoration-color: #008080\">         lat_rmse          </span>│<span style=\"color: #800080; text-decoration-color: #800080\">            inf            </span>│\n",
       "│<span style=\"color: #008080; text-decoration-color: #008080\">  lat_rmse:2m_temperature  </span>│<span style=\"color: #800080; text-decoration-color: #800080\">     3.657341591656198     </span>│\n",
       "│<span style=\"color: #008080; text-decoration-color: #008080\"> lat_rmse:geopotential_250 </span>│<span style=\"color: #800080; text-decoration-color: #800080\">            inf            </span>│\n",
       "│<span style=\"color: #008080; text-decoration-color: #008080\"> lat_rmse:geopotential_50  </span>│<span style=\"color: #800080; text-decoration-color: #800080\">            inf            </span>│\n",
       "│<span style=\"color: #008080; text-decoration-color: #008080\"> lat_rmse:geopotential_500 </span>│<span style=\"color: #800080; text-decoration-color: #800080\">     759.497191982841      </span>│\n",
       "│<span style=\"color: #008080; text-decoration-color: #008080\"> lat_rmse:geopotential_600 </span>│<span style=\"color: #800080; text-decoration-color: #800080\">     657.0364869422198     </span>│\n",
       "│<span style=\"color: #008080; text-decoration-color: #008080\"> lat_rmse:geopotential_700 </span>│<span style=\"color: #800080; text-decoration-color: #800080\">     584.1600370061171     </span>│\n",
       "│<span style=\"color: #008080; text-decoration-color: #008080\"> lat_rmse:geopotential_850 </span>│<span style=\"color: #800080; text-decoration-color: #800080\">     529.6433420411994     </span>│\n",
       "│<span style=\"color: #008080; text-decoration-color: #008080\"> lat_rmse:geopotential_925 </span>│<span style=\"color: #800080; text-decoration-color: #800080\">     532.6681204780123     </span>│\n",
       "└───────────────────────────┴───────────────────────────┘\n",
       "</pre>\n"
      ],
      "text/plain": [
       "┏━━━━━━━━━━━━━━━━━━━━━━━━━━━┳━━━━━━━━━━━━━━━━━━━━━━━━━━━┓\n",
       "┃\u001b[1m \u001b[0m\u001b[1m       Test metric       \u001b[0m\u001b[1m \u001b[0m┃\u001b[1m \u001b[0m\u001b[1m      DataLoader 0       \u001b[0m\u001b[1m \u001b[0m┃\n",
       "┡━━━━━━━━━━━━━━━━━━━━━━━━━━━╇━━━━━━━━━━━━━━━━━━━━━━━━━━━┩\n",
       "│\u001b[36m \u001b[0m\u001b[36m         lat_acc         \u001b[0m\u001b[36m \u001b[0m│\u001b[35m \u001b[0m\u001b[35m           nan           \u001b[0m\u001b[35m \u001b[0m│\n",
       "│\u001b[36m \u001b[0m\u001b[36m lat_acc:2m_temperature  \u001b[0m\u001b[36m \u001b[0m│\u001b[35m \u001b[0m\u001b[35m   0.7366837077060729    \u001b[0m\u001b[35m \u001b[0m│\n",
       "│\u001b[36m \u001b[0m\u001b[36mlat_acc:geopotential_250 \u001b[0m\u001b[36m \u001b[0m│\u001b[35m \u001b[0m\u001b[35m           nan           \u001b[0m\u001b[35m \u001b[0m│\n",
       "│\u001b[36m \u001b[0m\u001b[36m lat_acc:geopotential_50 \u001b[0m\u001b[36m \u001b[0m│\u001b[35m \u001b[0m\u001b[35m           nan           \u001b[0m\u001b[35m \u001b[0m│\n",
       "│\u001b[36m \u001b[0m\u001b[36mlat_acc:geopotential_500 \u001b[0m\u001b[36m \u001b[0m│\u001b[35m \u001b[0m\u001b[35m   0.6524468842047007    \u001b[0m\u001b[35m \u001b[0m│\n",
       "│\u001b[36m \u001b[0m\u001b[36mlat_acc:geopotential_600 \u001b[0m\u001b[36m \u001b[0m│\u001b[35m \u001b[0m\u001b[35m   0.6118386273188791    \u001b[0m\u001b[35m \u001b[0m│\n",
       "│\u001b[36m \u001b[0m\u001b[36mlat_acc:geopotential_700 \u001b[0m\u001b[36m \u001b[0m│\u001b[35m \u001b[0m\u001b[35m   0.5569504811378981    \u001b[0m\u001b[35m \u001b[0m│\n",
       "│\u001b[36m \u001b[0m\u001b[36mlat_acc:geopotential_850 \u001b[0m\u001b[36m \u001b[0m│\u001b[35m \u001b[0m\u001b[35m   0.45056867290937436   \u001b[0m\u001b[35m \u001b[0m│\n",
       "│\u001b[36m \u001b[0m\u001b[36mlat_acc:geopotential_925 \u001b[0m\u001b[36m \u001b[0m│\u001b[35m \u001b[0m\u001b[35m   0.4183734164199764    \u001b[0m\u001b[35m \u001b[0m│\n",
       "│\u001b[36m \u001b[0m\u001b[36m        lat_rmse         \u001b[0m\u001b[36m \u001b[0m│\u001b[35m \u001b[0m\u001b[35m           inf           \u001b[0m\u001b[35m \u001b[0m│\n",
       "│\u001b[36m \u001b[0m\u001b[36m lat_rmse:2m_temperature \u001b[0m\u001b[36m \u001b[0m│\u001b[35m \u001b[0m\u001b[35m    3.657341591656198    \u001b[0m\u001b[35m \u001b[0m│\n",
       "│\u001b[36m \u001b[0m\u001b[36mlat_rmse:geopotential_250\u001b[0m\u001b[36m \u001b[0m│\u001b[35m \u001b[0m\u001b[35m           inf           \u001b[0m\u001b[35m \u001b[0m│\n",
       "│\u001b[36m \u001b[0m\u001b[36mlat_rmse:geopotential_50 \u001b[0m\u001b[36m \u001b[0m│\u001b[35m \u001b[0m\u001b[35m           inf           \u001b[0m\u001b[35m \u001b[0m│\n",
       "│\u001b[36m \u001b[0m\u001b[36mlat_rmse:geopotential_500\u001b[0m\u001b[36m \u001b[0m│\u001b[35m \u001b[0m\u001b[35m    759.497191982841     \u001b[0m\u001b[35m \u001b[0m│\n",
       "│\u001b[36m \u001b[0m\u001b[36mlat_rmse:geopotential_600\u001b[0m\u001b[36m \u001b[0m│\u001b[35m \u001b[0m\u001b[35m    657.0364869422198    \u001b[0m\u001b[35m \u001b[0m│\n",
       "│\u001b[36m \u001b[0m\u001b[36mlat_rmse:geopotential_700\u001b[0m\u001b[36m \u001b[0m│\u001b[35m \u001b[0m\u001b[35m    584.1600370061171    \u001b[0m\u001b[35m \u001b[0m│\n",
       "│\u001b[36m \u001b[0m\u001b[36mlat_rmse:geopotential_850\u001b[0m\u001b[36m \u001b[0m│\u001b[35m \u001b[0m\u001b[35m    529.6433420411994    \u001b[0m\u001b[35m \u001b[0m│\n",
       "│\u001b[36m \u001b[0m\u001b[36mlat_rmse:geopotential_925\u001b[0m\u001b[36m \u001b[0m│\u001b[35m \u001b[0m\u001b[35m    532.6681204780123    \u001b[0m\u001b[35m \u001b[0m│\n",
       "└───────────────────────────┴───────────────────────────┘\n"
      ]
     },
     "metadata": {},
     "output_type": "display_data"
    },
    {
     "data": {
      "text/html": [
       "<pre style=\"white-space:pre;overflow-x:auto;line-height:normal;font-family:Menlo,'DejaVu Sans Mono',consolas,'Courier New',monospace\"></pre>\n"
      ],
      "text/plain": []
     },
     "metadata": {},
     "output_type": "display_data"
    },
    {
     "data": {
      "text/html": [
       "<pre style=\"white-space:pre;overflow-x:auto;line-height:normal;font-family:Menlo,'DejaVu Sans Mono',consolas,'Courier New',monospace\">\n",
       "</pre>\n"
      ],
      "text/plain": [
       "\n"
      ]
     },
     "metadata": {},
     "output_type": "display_data"
    }
   ],
   "source": [
    "trainer.test(forecast_module, data_module)"
   ]
  },
  {
   "cell_type": "code",
   "execution_count": null,
   "id": "7fb499a8-9dd1-4f43-ab24-3427602ff846",
   "metadata": {},
   "outputs": [],
   "source": []
  }
 ],
 "metadata": {
  "kernelspec": {
   "display_name": "climate",
   "language": "python",
   "name": "climate"
  },
  "language_info": {
   "codemirror_mode": {
    "name": "ipython",
    "version": 3
   },
   "file_extension": ".py",
   "mimetype": "text/x-python",
   "name": "python",
   "nbconvert_exporter": "python",
   "pygments_lexer": "ipython3",
   "version": "3.10.9"
  }
 },
 "nbformat": 4,
 "nbformat_minor": 5
}
