{
  "cells": [
    {
      "cell_type": "markdown",
      "metadata": {
        "id": "rSRCNgYzUwaf"
      },
      "source": [
        "<a name=\"software-requirements\"></a>\n",
        "# Software Requirements"
      ]
    },
    {
      "cell_type": "code",
      "execution_count": null,
      "metadata": {
        "id": "rPmHl-TV8XMc"
      },
      "outputs": [],
      "source": [
        "%%bash\n",
        "python -m pip install --upgrade pip\n",
        "pip install git+https://github.com/aditya-grover/climate-learn.git"
      ]
    },
    {
      "cell_type": "code",
      "execution_count": 2,
      "metadata": {
        "colab": {
          "base_uri": "https://localhost:8080/"
        },
        "id": "EiLZdsHB3L79",
        "outputId": "7d5e81ed-6c51-4f54-8de0-e6555d4d4a74"
      },
      "outputs": [
        {
          "name": "stdout",
          "output_type": "stream",
          "text": [
            "Drive already mounted at /content/drive; to attempt to forcibly remount, call drive.mount(\"/content/drive\", force_remount=True).\n"
          ]
        }
      ],
      "source": [
        "from google.colab import drive\n",
        "drive.mount('/content/drive')"
      ]
    },
    {
      "cell_type": "markdown",
      "metadata": {
        "id": "99jkSa_KmrDH"
      },
      "source": [
        "<a name=\"temporal-forecasting\"></a>\n",
        "# Temporal Forecasting\n"
      ]
    },
    {
      "cell_type": "code",
      "execution_count": 3,
      "metadata": {
        "id": "mTzr2Liw-SEv"
      },
      "outputs": [],
      "source": [
        "from climate_learn.data import download"
      ]
    },
    {
      "cell_type": "code",
      "execution_count": 4,
      "metadata": {
        "id": "f3oQ0-pIZIgx"
      },
      "outputs": [],
      "source": [
        "# Download data from copernicus (~15-20 mins)\n",
        "# Generate API KEY: https://cds.climate.copernicus.eu/api-how-to\n",
        "# api_key = \"154140:40d3d2e0-ed2c-4f60-8bc8-d15789841be0\" # Change to your_api_key\n",
        "# download(source = \"copernicus\", variable = \"2m_temperature\", dataset = \"era5\", year = 1979, api_key = api_key)"
      ]
    },
    {
      "cell_type": "code",
      "execution_count": 5,
      "metadata": {
        "colab": {
          "base_uri": "https://localhost:8080/"
        },
        "id": "QmQG73ZpQNHP",
        "outputId": "e4d79d00-c5b8-4bb3-bf2a-75f94e737bec"
      },
      "outputs": [
        {
          "name": "stdout",
          "output_type": "stream",
          "text": [
            "Downloading era5 2m_temperature data for 5.625 resolution from weatherbench to /content/drive/MyDrive/Climate/.climate_tutorial/data/weatherbench/era5/5.625/2m_temperature\n"
          ]
        }
      ],
      "source": [
        "# Download data from weatherbench (~2-3 minutes)\n",
        "download(root = \"/content/drive/MyDrive/Climate/.climate_tutorial\", source = \"weatherbench\", variable = \"2m_temperature\", dataset = \"era5\", resolution = \"5.625\")"
      ]
    },
    {
      "cell_type": "markdown",
      "metadata": {
        "id": "Zb1e8ndtXiV-"
      },
      "source": [
        "ERA5 dataset directory structure from the Weatherbench source.\n",
        "\n",
        "```\n",
        "|-- 5.625deg\n",
        "|   |-- 2m_temperature\n",
        "|       |-- 2m_temperature_1979_5.625deg.nc\n",
        "|       |-- 2m_temperature_1980_5.625deg.nc\n",
        "|       |-- ...\n",
        "|       |-- 2m_temperature_2018_5.625deg.nc\n",
        "```"
      ]
    },
    {
      "cell_type": "markdown",
      "metadata": {
        "id": "bSt6h_Q-oqjK"
      },
      "source": [
        "## Data Preprocessing\n"
      ]
    },
    {
      "cell_type": "code",
      "execution_count": 6,
      "metadata": {
        "colab": {
          "base_uri": "https://localhost:8080/",
          "height": 357
        },
        "id": "97hHL2Z7-Z86",
        "outputId": "2b960774-065b-4eb4-d3e3-e18001acab32"
      },
      "outputs": [
        {
          "data": {
            "text/html": [
              "<div><svg style=\"position: absolute; width: 0; height: 0; overflow: hidden\">\n",
              "<defs>\n",
              "<symbol id=\"icon-database\" viewBox=\"0 0 32 32\">\n",
              "<path d=\"M16 0c-8.837 0-16 2.239-16 5v4c0 2.761 7.163 5 16 5s16-2.239 16-5v-4c0-2.761-7.163-5-16-5z\"></path>\n",
              "<path d=\"M16 17c-8.837 0-16-2.239-16-5v6c0 2.761 7.163 5 16 5s16-2.239 16-5v-6c0 2.761-7.163 5-16 5z\"></path>\n",
              "<path d=\"M16 26c-8.837 0-16-2.239-16-5v6c0 2.761 7.163 5 16 5s16-2.239 16-5v-6c0 2.761-7.163 5-16 5z\"></path>\n",
              "</symbol>\n",
              "<symbol id=\"icon-file-text2\" viewBox=\"0 0 32 32\">\n",
              "<path d=\"M28.681 7.159c-0.694-0.947-1.662-2.053-2.724-3.116s-2.169-2.030-3.116-2.724c-1.612-1.182-2.393-1.319-2.841-1.319h-15.5c-1.378 0-2.5 1.121-2.5 2.5v27c0 1.378 1.122 2.5 2.5 2.5h23c1.378 0 2.5-1.122 2.5-2.5v-19.5c0-0.448-0.137-1.23-1.319-2.841zM24.543 5.457c0.959 0.959 1.712 1.825 2.268 2.543h-4.811v-4.811c0.718 0.556 1.584 1.309 2.543 2.268zM28 29.5c0 0.271-0.229 0.5-0.5 0.5h-23c-0.271 0-0.5-0.229-0.5-0.5v-27c0-0.271 0.229-0.5 0.5-0.5 0 0 15.499-0 15.5 0v7c0 0.552 0.448 1 1 1h7v19.5z\"></path>\n",
              "<path d=\"M23 26h-14c-0.552 0-1-0.448-1-1s0.448-1 1-1h14c0.552 0 1 0.448 1 1s-0.448 1-1 1z\"></path>\n",
              "<path d=\"M23 22h-14c-0.552 0-1-0.448-1-1s0.448-1 1-1h14c0.552 0 1 0.448 1 1s-0.448 1-1 1z\"></path>\n",
              "<path d=\"M23 18h-14c-0.552 0-1-0.448-1-1s0.448-1 1-1h14c0.552 0 1 0.448 1 1s-0.448 1-1 1z\"></path>\n",
              "</symbol>\n",
              "</defs>\n",
              "</svg>\n",
              "<style>/* CSS stylesheet for displaying xarray objects in jupyterlab.\n",
              " *\n",
              " */\n",
              "\n",
              ":root {\n",
              "  --xr-font-color0: var(--jp-content-font-color0, rgba(0, 0, 0, 1));\n",
              "  --xr-font-color2: var(--jp-content-font-color2, rgba(0, 0, 0, 0.54));\n",
              "  --xr-font-color3: var(--jp-content-font-color3, rgba(0, 0, 0, 0.38));\n",
              "  --xr-border-color: var(--jp-border-color2, #e0e0e0);\n",
              "  --xr-disabled-color: var(--jp-layout-color3, #bdbdbd);\n",
              "  --xr-background-color: var(--jp-layout-color0, white);\n",
              "  --xr-background-color-row-even: var(--jp-layout-color1, white);\n",
              "  --xr-background-color-row-odd: var(--jp-layout-color2, #eeeeee);\n",
              "}\n",
              "\n",
              "html[theme=dark],\n",
              "body[data-theme=dark],\n",
              "body.vscode-dark {\n",
              "  --xr-font-color0: rgba(255, 255, 255, 1);\n",
              "  --xr-font-color2: rgba(255, 255, 255, 0.54);\n",
              "  --xr-font-color3: rgba(255, 255, 255, 0.38);\n",
              "  --xr-border-color: #1F1F1F;\n",
              "  --xr-disabled-color: #515151;\n",
              "  --xr-background-color: #111111;\n",
              "  --xr-background-color-row-even: #111111;\n",
              "  --xr-background-color-row-odd: #313131;\n",
              "}\n",
              "\n",
              ".xr-wrap {\n",
              "  display: block !important;\n",
              "  min-width: 300px;\n",
              "  max-width: 700px;\n",
              "}\n",
              "\n",
              ".xr-text-repr-fallback {\n",
              "  /* fallback to plain text repr when CSS is not injected (untrusted notebook) */\n",
              "  display: none;\n",
              "}\n",
              "\n",
              ".xr-header {\n",
              "  padding-top: 6px;\n",
              "  padding-bottom: 6px;\n",
              "  margin-bottom: 4px;\n",
              "  border-bottom: solid 1px var(--xr-border-color);\n",
              "}\n",
              "\n",
              ".xr-header > div,\n",
              ".xr-header > ul {\n",
              "  display: inline;\n",
              "  margin-top: 0;\n",
              "  margin-bottom: 0;\n",
              "}\n",
              "\n",
              ".xr-obj-type,\n",
              ".xr-array-name {\n",
              "  margin-left: 2px;\n",
              "  margin-right: 10px;\n",
              "}\n",
              "\n",
              ".xr-obj-type {\n",
              "  color: var(--xr-font-color2);\n",
              "}\n",
              "\n",
              ".xr-sections {\n",
              "  padding-left: 0 !important;\n",
              "  display: grid;\n",
              "  grid-template-columns: 150px auto auto 1fr 20px 20px;\n",
              "}\n",
              "\n",
              ".xr-section-item {\n",
              "  display: contents;\n",
              "}\n",
              "\n",
              ".xr-section-item input {\n",
              "  display: none;\n",
              "}\n",
              "\n",
              ".xr-section-item input + label {\n",
              "  color: var(--xr-disabled-color);\n",
              "}\n",
              "\n",
              ".xr-section-item input:enabled + label {\n",
              "  cursor: pointer;\n",
              "  color: var(--xr-font-color2);\n",
              "}\n",
              "\n",
              ".xr-section-item input:enabled + label:hover {\n",
              "  color: var(--xr-font-color0);\n",
              "}\n",
              "\n",
              ".xr-section-summary {\n",
              "  grid-column: 1;\n",
              "  color: var(--xr-font-color2);\n",
              "  font-weight: 500;\n",
              "}\n",
              "\n",
              ".xr-section-summary > span {\n",
              "  display: inline-block;\n",
              "  padding-left: 0.5em;\n",
              "}\n",
              "\n",
              ".xr-section-summary-in:disabled + label {\n",
              "  color: var(--xr-font-color2);\n",
              "}\n",
              "\n",
              ".xr-section-summary-in + label:before {\n",
              "  display: inline-block;\n",
              "  content: '►';\n",
              "  font-size: 11px;\n",
              "  width: 15px;\n",
              "  text-align: center;\n",
              "}\n",
              "\n",
              ".xr-section-summary-in:disabled + label:before {\n",
              "  color: var(--xr-disabled-color);\n",
              "}\n",
              "\n",
              ".xr-section-summary-in:checked + label:before {\n",
              "  content: '▼';\n",
              "}\n",
              "\n",
              ".xr-section-summary-in:checked + label > span {\n",
              "  display: none;\n",
              "}\n",
              "\n",
              ".xr-section-summary,\n",
              ".xr-section-inline-details {\n",
              "  padding-top: 4px;\n",
              "  padding-bottom: 4px;\n",
              "}\n",
              "\n",
              ".xr-section-inline-details {\n",
              "  grid-column: 2 / -1;\n",
              "}\n",
              "\n",
              ".xr-section-details {\n",
              "  display: none;\n",
              "  grid-column: 1 / -1;\n",
              "  margin-bottom: 5px;\n",
              "}\n",
              "\n",
              ".xr-section-summary-in:checked ~ .xr-section-details {\n",
              "  display: contents;\n",
              "}\n",
              "\n",
              ".xr-array-wrap {\n",
              "  grid-column: 1 / -1;\n",
              "  display: grid;\n",
              "  grid-template-columns: 20px auto;\n",
              "}\n",
              "\n",
              ".xr-array-wrap > label {\n",
              "  grid-column: 1;\n",
              "  vertical-align: top;\n",
              "}\n",
              "\n",
              ".xr-preview {\n",
              "  color: var(--xr-font-color3);\n",
              "}\n",
              "\n",
              ".xr-array-preview,\n",
              ".xr-array-data {\n",
              "  padding: 0 5px !important;\n",
              "  grid-column: 2;\n",
              "}\n",
              "\n",
              ".xr-array-data,\n",
              ".xr-array-in:checked ~ .xr-array-preview {\n",
              "  display: none;\n",
              "}\n",
              "\n",
              ".xr-array-in:checked ~ .xr-array-data,\n",
              ".xr-array-preview {\n",
              "  display: inline-block;\n",
              "}\n",
              "\n",
              ".xr-dim-list {\n",
              "  display: inline-block !important;\n",
              "  list-style: none;\n",
              "  padding: 0 !important;\n",
              "  margin: 0;\n",
              "}\n",
              "\n",
              ".xr-dim-list li {\n",
              "  display: inline-block;\n",
              "  padding: 0;\n",
              "  margin: 0;\n",
              "}\n",
              "\n",
              ".xr-dim-list:before {\n",
              "  content: '(';\n",
              "}\n",
              "\n",
              ".xr-dim-list:after {\n",
              "  content: ')';\n",
              "}\n",
              "\n",
              ".xr-dim-list li:not(:last-child):after {\n",
              "  content: ',';\n",
              "  padding-right: 5px;\n",
              "}\n",
              "\n",
              ".xr-has-index {\n",
              "  font-weight: bold;\n",
              "}\n",
              "\n",
              ".xr-var-list,\n",
              ".xr-var-item {\n",
              "  display: contents;\n",
              "}\n",
              "\n",
              ".xr-var-item > div,\n",
              ".xr-var-item label,\n",
              ".xr-var-item > .xr-var-name span {\n",
              "  background-color: var(--xr-background-color-row-even);\n",
              "  margin-bottom: 0;\n",
              "}\n",
              "\n",
              ".xr-var-item > .xr-var-name:hover span {\n",
              "  padding-right: 5px;\n",
              "}\n",
              "\n",
              ".xr-var-list > li:nth-child(odd) > div,\n",
              ".xr-var-list > li:nth-child(odd) > label,\n",
              ".xr-var-list > li:nth-child(odd) > .xr-var-name span {\n",
              "  background-color: var(--xr-background-color-row-odd);\n",
              "}\n",
              "\n",
              ".xr-var-name {\n",
              "  grid-column: 1;\n",
              "}\n",
              "\n",
              ".xr-var-dims {\n",
              "  grid-column: 2;\n",
              "}\n",
              "\n",
              ".xr-var-dtype {\n",
              "  grid-column: 3;\n",
              "  text-align: right;\n",
              "  color: var(--xr-font-color2);\n",
              "}\n",
              "\n",
              ".xr-var-preview {\n",
              "  grid-column: 4;\n",
              "}\n",
              "\n",
              ".xr-index-preview {\n",
              "  grid-column: 2 / 5;\n",
              "  color: var(--xr-font-color2);\n",
              "}\n",
              "\n",
              ".xr-var-name,\n",
              ".xr-var-dims,\n",
              ".xr-var-dtype,\n",
              ".xr-preview,\n",
              ".xr-attrs dt {\n",
              "  white-space: nowrap;\n",
              "  overflow: hidden;\n",
              "  text-overflow: ellipsis;\n",
              "  padding-right: 10px;\n",
              "}\n",
              "\n",
              ".xr-var-name:hover,\n",
              ".xr-var-dims:hover,\n",
              ".xr-var-dtype:hover,\n",
              ".xr-attrs dt:hover {\n",
              "  overflow: visible;\n",
              "  width: auto;\n",
              "  z-index: 1;\n",
              "}\n",
              "\n",
              ".xr-var-attrs,\n",
              ".xr-var-data,\n",
              ".xr-index-data {\n",
              "  display: none;\n",
              "  background-color: var(--xr-background-color) !important;\n",
              "  padding-bottom: 5px !important;\n",
              "}\n",
              "\n",
              ".xr-var-attrs-in:checked ~ .xr-var-attrs,\n",
              ".xr-var-data-in:checked ~ .xr-var-data,\n",
              ".xr-index-data-in:checked ~ .xr-index-data {\n",
              "  display: block;\n",
              "}\n",
              "\n",
              ".xr-var-data > table {\n",
              "  float: right;\n",
              "}\n",
              "\n",
              ".xr-var-name span,\n",
              ".xr-var-data,\n",
              ".xr-index-name div,\n",
              ".xr-index-data,\n",
              ".xr-attrs {\n",
              "  padding-left: 25px !important;\n",
              "}\n",
              "\n",
              ".xr-attrs,\n",
              ".xr-var-attrs,\n",
              ".xr-var-data,\n",
              ".xr-index-data {\n",
              "  grid-column: 1 / -1;\n",
              "}\n",
              "\n",
              "dl.xr-attrs {\n",
              "  padding: 0;\n",
              "  margin: 0;\n",
              "  display: grid;\n",
              "  grid-template-columns: 125px auto;\n",
              "}\n",
              "\n",
              ".xr-attrs dt,\n",
              ".xr-attrs dd {\n",
              "  padding: 0;\n",
              "  margin: 0;\n",
              "  float: left;\n",
              "  padding-right: 10px;\n",
              "  width: auto;\n",
              "}\n",
              "\n",
              ".xr-attrs dt {\n",
              "  font-weight: normal;\n",
              "  grid-column: 1;\n",
              "}\n",
              "\n",
              ".xr-attrs dt:hover span {\n",
              "  display: inline-block;\n",
              "  background: var(--xr-background-color);\n",
              "  padding-right: 10px;\n",
              "}\n",
              "\n",
              ".xr-attrs dd {\n",
              "  grid-column: 2;\n",
              "  white-space: pre-wrap;\n",
              "  word-break: break-all;\n",
              "}\n",
              "\n",
              ".xr-icon-database,\n",
              ".xr-icon-file-text2,\n",
              ".xr-no-icon {\n",
              "  display: inline-block;\n",
              "  vertical-align: middle;\n",
              "  width: 1em;\n",
              "  height: 1.5em !important;\n",
              "  stroke-width: 0;\n",
              "  stroke: currentColor;\n",
              "  fill: currentColor;\n",
              "}\n",
              "</style><pre class='xr-text-repr-fallback'>&lt;xarray.Dataset&gt;\n",
              "Dimensions:  (lon: 64, lat: 32, time: 350640)\n",
              "Coordinates:\n",
              "  * lon      (lon) float64 0.0 5.625 11.25 16.88 ... 337.5 343.1 348.8 354.4\n",
              "  * lat      (lat) float64 -87.19 -81.56 -75.94 -70.31 ... 75.94 81.56 87.19\n",
              "  * time     (time) datetime64[ns] 1979-01-01 ... 2018-12-31T23:00:00\n",
              "Data variables:\n",
              "    t2m      (time, lat, lon) float32 dask.array&lt;chunksize=(8760, 32, 64), meta=np.ndarray&gt;\n",
              "Attributes:\n",
              "    Conventions:  CF-1.6\n",
              "    history:      2019-11-07 07:51:20 GMT by grib_to_netcdf-2.14.0: /opt/ecmw...</pre><div class='xr-wrap' style='display:none'><div class='xr-header'><div class='xr-obj-type'>xarray.Dataset</div></div><ul class='xr-sections'><li class='xr-section-item'><input id='section-185aacba-a5dc-432a-9ae6-6622465357c6' class='xr-section-summary-in' type='checkbox' disabled ><label for='section-185aacba-a5dc-432a-9ae6-6622465357c6' class='xr-section-summary'  title='Expand/collapse section'>Dimensions:</label><div class='xr-section-inline-details'><ul class='xr-dim-list'><li><span class='xr-has-index'>lon</span>: 64</li><li><span class='xr-has-index'>lat</span>: 32</li><li><span class='xr-has-index'>time</span>: 350640</li></ul></div><div class='xr-section-details'></div></li><li class='xr-section-item'><input id='section-0a6f67e1-e54e-42d7-aeef-7a76e67bc0cc' class='xr-section-summary-in' type='checkbox'  checked><label for='section-0a6f67e1-e54e-42d7-aeef-7a76e67bc0cc' class='xr-section-summary' >Coordinates: <span>(3)</span></label><div class='xr-section-inline-details'></div><div class='xr-section-details'><ul class='xr-var-list'><li class='xr-var-item'><div class='xr-var-name'><span class='xr-has-index'>lon</span></div><div class='xr-var-dims'>(lon)</div><div class='xr-var-dtype'>float64</div><div class='xr-var-preview xr-preview'>0.0 5.625 11.25 ... 348.8 354.4</div><input id='attrs-504f5e76-b53b-4367-acfa-8ca1bc7dfbd8' class='xr-var-attrs-in' type='checkbox' disabled><label for='attrs-504f5e76-b53b-4367-acfa-8ca1bc7dfbd8' title='Show/Hide attributes'><svg class='icon xr-icon-file-text2'><use xlink:href='#icon-file-text2'></use></svg></label><input id='data-066d95a0-0c8f-4890-9c07-5a408bfa1548' class='xr-var-data-in' type='checkbox'><label for='data-066d95a0-0c8f-4890-9c07-5a408bfa1548' title='Show/Hide data repr'><svg class='icon xr-icon-database'><use xlink:href='#icon-database'></use></svg></label><div class='xr-var-attrs'><dl class='xr-attrs'></dl></div><div class='xr-var-data'><pre>array([  0.   ,   5.625,  11.25 ,  16.875,  22.5  ,  28.125,  33.75 ,  39.375,\n",
              "        45.   ,  50.625,  56.25 ,  61.875,  67.5  ,  73.125,  78.75 ,  84.375,\n",
              "        90.   ,  95.625, 101.25 , 106.875, 112.5  , 118.125, 123.75 , 129.375,\n",
              "       135.   , 140.625, 146.25 , 151.875, 157.5  , 163.125, 168.75 , 174.375,\n",
              "       180.   , 185.625, 191.25 , 196.875, 202.5  , 208.125, 213.75 , 219.375,\n",
              "       225.   , 230.625, 236.25 , 241.875, 247.5  , 253.125, 258.75 , 264.375,\n",
              "       270.   , 275.625, 281.25 , 286.875, 292.5  , 298.125, 303.75 , 309.375,\n",
              "       315.   , 320.625, 326.25 , 331.875, 337.5  , 343.125, 348.75 , 354.375])</pre></div></li><li class='xr-var-item'><div class='xr-var-name'><span class='xr-has-index'>lat</span></div><div class='xr-var-dims'>(lat)</div><div class='xr-var-dtype'>float64</div><div class='xr-var-preview xr-preview'>-87.19 -81.56 ... 81.56 87.19</div><input id='attrs-8b5eae30-5d66-43f2-851a-5e7829396be6' class='xr-var-attrs-in' type='checkbox' disabled><label for='attrs-8b5eae30-5d66-43f2-851a-5e7829396be6' title='Show/Hide attributes'><svg class='icon xr-icon-file-text2'><use xlink:href='#icon-file-text2'></use></svg></label><input id='data-a3b5c327-909d-4a03-bf11-99b9e6cdbb62' class='xr-var-data-in' type='checkbox'><label for='data-a3b5c327-909d-4a03-bf11-99b9e6cdbb62' title='Show/Hide data repr'><svg class='icon xr-icon-database'><use xlink:href='#icon-database'></use></svg></label><div class='xr-var-attrs'><dl class='xr-attrs'></dl></div><div class='xr-var-data'><pre>array([-87.1875, -81.5625, -75.9375, -70.3125, -64.6875, -59.0625, -53.4375,\n",
              "       -47.8125, -42.1875, -36.5625, -30.9375, -25.3125, -19.6875, -14.0625,\n",
              "        -8.4375,  -2.8125,   2.8125,   8.4375,  14.0625,  19.6875,  25.3125,\n",
              "        30.9375,  36.5625,  42.1875,  47.8125,  53.4375,  59.0625,  64.6875,\n",
              "        70.3125,  75.9375,  81.5625,  87.1875])</pre></div></li><li class='xr-var-item'><div class='xr-var-name'><span class='xr-has-index'>time</span></div><div class='xr-var-dims'>(time)</div><div class='xr-var-dtype'>datetime64[ns]</div><div class='xr-var-preview xr-preview'>1979-01-01 ... 2018-12-31T23:00:00</div><input id='attrs-b9e23349-2eaa-4dac-9461-c65ec30073b1' class='xr-var-attrs-in' type='checkbox' ><label for='attrs-b9e23349-2eaa-4dac-9461-c65ec30073b1' title='Show/Hide attributes'><svg class='icon xr-icon-file-text2'><use xlink:href='#icon-file-text2'></use></svg></label><input id='data-4990d3e8-6fca-4581-9d1b-5a3bf2d43f30' class='xr-var-data-in' type='checkbox'><label for='data-4990d3e8-6fca-4581-9d1b-5a3bf2d43f30' title='Show/Hide data repr'><svg class='icon xr-icon-database'><use xlink:href='#icon-database'></use></svg></label><div class='xr-var-attrs'><dl class='xr-attrs'><dt><span>long_name :</span></dt><dd>time</dd></dl></div><div class='xr-var-data'><pre>array([&#x27;1979-01-01T00:00:00.000000000&#x27;, &#x27;1979-01-01T01:00:00.000000000&#x27;,\n",
              "       &#x27;1979-01-01T02:00:00.000000000&#x27;, ..., &#x27;2018-12-31T21:00:00.000000000&#x27;,\n",
              "       &#x27;2018-12-31T22:00:00.000000000&#x27;, &#x27;2018-12-31T23:00:00.000000000&#x27;],\n",
              "      dtype=&#x27;datetime64[ns]&#x27;)</pre></div></li></ul></div></li><li class='xr-section-item'><input id='section-51725e8c-99cb-4fe5-a657-ef4cf380f5b4' class='xr-section-summary-in' type='checkbox'  checked><label for='section-51725e8c-99cb-4fe5-a657-ef4cf380f5b4' class='xr-section-summary' >Data variables: <span>(1)</span></label><div class='xr-section-inline-details'></div><div class='xr-section-details'><ul class='xr-var-list'><li class='xr-var-item'><div class='xr-var-name'><span>t2m</span></div><div class='xr-var-dims'>(time, lat, lon)</div><div class='xr-var-dtype'>float32</div><div class='xr-var-preview xr-preview'>dask.array&lt;chunksize=(8760, 32, 64), meta=np.ndarray&gt;</div><input id='attrs-b540938e-b8bf-4bdd-beb2-b9e800866095' class='xr-var-attrs-in' type='checkbox' ><label for='attrs-b540938e-b8bf-4bdd-beb2-b9e800866095' title='Show/Hide attributes'><svg class='icon xr-icon-file-text2'><use xlink:href='#icon-file-text2'></use></svg></label><input id='data-c3df8869-6ea2-417d-be95-a5975169da3b' class='xr-var-data-in' type='checkbox'><label for='data-c3df8869-6ea2-417d-be95-a5975169da3b' title='Show/Hide data repr'><svg class='icon xr-icon-database'><use xlink:href='#icon-database'></use></svg></label><div class='xr-var-attrs'><dl class='xr-attrs'><dt><span>units :</span></dt><dd>K</dd><dt><span>long_name :</span></dt><dd>2 metre temperature</dd></dl></div><div class='xr-var-data'><table>\n",
              "    <tr>\n",
              "        <td>\n",
              "            <table>\n",
              "                <thead>\n",
              "                    <tr>\n",
              "                        <td> </td>\n",
              "                        <th> Array </th>\n",
              "                        <th> Chunk </th>\n",
              "                    </tr>\n",
              "                </thead>\n",
              "                <tbody>\n",
              "                    \n",
              "                    <tr>\n",
              "                        <th> Bytes </th>\n",
              "                        <td> 2.68 GiB </td>\n",
              "                        <td> 68.62 MiB </td>\n",
              "                    </tr>\n",
              "                    \n",
              "                    <tr>\n",
              "                        <th> Shape </th>\n",
              "                        <td> (350640, 32, 64) </td>\n",
              "                        <td> (8784, 32, 64) </td>\n",
              "                    </tr>\n",
              "                    <tr>\n",
              "                        <th> Count </th>\n",
              "                        <td> 120 Tasks </td>\n",
              "                        <td> 40 Chunks </td>\n",
              "                    </tr>\n",
              "                    <tr>\n",
              "                    <th> Type </th>\n",
              "                    <td> float32 </td>\n",
              "                    <td> numpy.ndarray </td>\n",
              "                    </tr>\n",
              "                </tbody>\n",
              "            </table>\n",
              "        </td>\n",
              "        <td>\n",
              "        <svg width=\"156\" height=\"146\" style=\"stroke:rgb(0,0,0);stroke-width:1\" >\n",
              "\n",
              "  <!-- Horizontal lines -->\n",
              "  <line x1=\"10\" y1=\"0\" x2=\"80\" y2=\"70\" style=\"stroke-width:2\" />\n",
              "  <line x1=\"10\" y1=\"25\" x2=\"80\" y2=\"96\" style=\"stroke-width:2\" />\n",
              "\n",
              "  <!-- Vertical lines -->\n",
              "  <line x1=\"10\" y1=\"0\" x2=\"10\" y2=\"25\" style=\"stroke-width:2\" />\n",
              "  <line x1=\"13\" y1=\"3\" x2=\"13\" y2=\"28\" />\n",
              "  <line x1=\"17\" y1=\"7\" x2=\"17\" y2=\"32\" />\n",
              "  <line x1=\"20\" y1=\"10\" x2=\"20\" y2=\"36\" />\n",
              "  <line x1=\"24\" y1=\"14\" x2=\"24\" y2=\"39\" />\n",
              "  <line x1=\"27\" y1=\"17\" x2=\"27\" y2=\"43\" />\n",
              "  <line x1=\"31\" y1=\"21\" x2=\"31\" y2=\"46\" />\n",
              "  <line x1=\"34\" y1=\"24\" x2=\"34\" y2=\"50\" />\n",
              "  <line x1=\"38\" y1=\"28\" x2=\"38\" y2=\"53\" />\n",
              "  <line x1=\"41\" y1=\"31\" x2=\"41\" y2=\"57\" />\n",
              "  <line x1=\"47\" y1=\"37\" x2=\"47\" y2=\"62\" />\n",
              "  <line x1=\"50\" y1=\"40\" x2=\"50\" y2=\"66\" />\n",
              "  <line x1=\"54\" y1=\"44\" x2=\"54\" y2=\"69\" />\n",
              "  <line x1=\"57\" y1=\"47\" x2=\"57\" y2=\"73\" />\n",
              "  <line x1=\"61\" y1=\"51\" x2=\"61\" y2=\"76\" />\n",
              "  <line x1=\"64\" y1=\"54\" x2=\"64\" y2=\"80\" />\n",
              "  <line x1=\"68\" y1=\"58\" x2=\"68\" y2=\"83\" />\n",
              "  <line x1=\"71\" y1=\"61\" x2=\"71\" y2=\"87\" />\n",
              "  <line x1=\"75\" y1=\"65\" x2=\"75\" y2=\"90\" />\n",
              "  <line x1=\"80\" y1=\"70\" x2=\"80\" y2=\"96\" style=\"stroke-width:2\" />\n",
              "\n",
              "  <!-- Colored Rectangle -->\n",
              "  <polygon points=\"10.0,0.0 80.58823529411765,70.58823529411765 80.58823529411765,96.00085180870013 10.0,25.412616514582485\" style=\"fill:#8B4903A0;stroke-width:0\"/>\n",
              "\n",
              "  <!-- Horizontal lines -->\n",
              "  <line x1=\"10\" y1=\"0\" x2=\"35\" y2=\"0\" style=\"stroke-width:2\" />\n",
              "  <line x1=\"13\" y1=\"3\" x2=\"38\" y2=\"3\" />\n",
              "  <line x1=\"17\" y1=\"7\" x2=\"42\" y2=\"7\" />\n",
              "  <line x1=\"20\" y1=\"10\" x2=\"46\" y2=\"10\" />\n",
              "  <line x1=\"24\" y1=\"14\" x2=\"49\" y2=\"14\" />\n",
              "  <line x1=\"27\" y1=\"17\" x2=\"53\" y2=\"17\" />\n",
              "  <line x1=\"31\" y1=\"21\" x2=\"56\" y2=\"21\" />\n",
              "  <line x1=\"34\" y1=\"24\" x2=\"60\" y2=\"24\" />\n",
              "  <line x1=\"38\" y1=\"28\" x2=\"63\" y2=\"28\" />\n",
              "  <line x1=\"41\" y1=\"31\" x2=\"67\" y2=\"31\" />\n",
              "  <line x1=\"47\" y1=\"37\" x2=\"72\" y2=\"37\" />\n",
              "  <line x1=\"50\" y1=\"40\" x2=\"76\" y2=\"40\" />\n",
              "  <line x1=\"54\" y1=\"44\" x2=\"79\" y2=\"44\" />\n",
              "  <line x1=\"57\" y1=\"47\" x2=\"83\" y2=\"47\" />\n",
              "  <line x1=\"61\" y1=\"51\" x2=\"86\" y2=\"51\" />\n",
              "  <line x1=\"64\" y1=\"54\" x2=\"90\" y2=\"54\" />\n",
              "  <line x1=\"68\" y1=\"58\" x2=\"93\" y2=\"58\" />\n",
              "  <line x1=\"71\" y1=\"61\" x2=\"97\" y2=\"61\" />\n",
              "  <line x1=\"75\" y1=\"65\" x2=\"100\" y2=\"65\" />\n",
              "  <line x1=\"80\" y1=\"70\" x2=\"106\" y2=\"70\" style=\"stroke-width:2\" />\n",
              "\n",
              "  <!-- Vertical lines -->\n",
              "  <line x1=\"10\" y1=\"0\" x2=\"80\" y2=\"70\" style=\"stroke-width:2\" />\n",
              "  <line x1=\"35\" y1=\"0\" x2=\"106\" y2=\"70\" style=\"stroke-width:2\" />\n",
              "\n",
              "  <!-- Colored Rectangle -->\n",
              "  <polygon points=\"10.0,0.0 35.41261651458248,0.0 106.00085180870013,70.58823529411765 80.58823529411765,70.58823529411765\" style=\"fill:#8B4903A0;stroke-width:0\"/>\n",
              "\n",
              "  <!-- Horizontal lines -->\n",
              "  <line x1=\"80\" y1=\"70\" x2=\"106\" y2=\"70\" style=\"stroke-width:2\" />\n",
              "  <line x1=\"80\" y1=\"96\" x2=\"106\" y2=\"96\" style=\"stroke-width:2\" />\n",
              "\n",
              "  <!-- Vertical lines -->\n",
              "  <line x1=\"80\" y1=\"70\" x2=\"80\" y2=\"96\" style=\"stroke-width:2\" />\n",
              "  <line x1=\"106\" y1=\"70\" x2=\"106\" y2=\"96\" style=\"stroke-width:2\" />\n",
              "\n",
              "  <!-- Colored Rectangle -->\n",
              "  <polygon points=\"80.58823529411765,70.58823529411765 106.00085180870013,70.58823529411765 106.00085180870013,96.00085180870013 80.58823529411765,96.00085180870013\" style=\"fill:#ECB172A0;stroke-width:0\"/>\n",
              "\n",
              "  <!-- Text -->\n",
              "  <text x=\"93.294544\" y=\"116.000852\" font-size=\"1.0rem\" font-weight=\"100\" text-anchor=\"middle\" >64</text>\n",
              "  <text x=\"126.000852\" y=\"83.294544\" font-size=\"1.0rem\" font-weight=\"100\" text-anchor=\"middle\" transform=\"rotate(0,126.000852,83.294544)\">32</text>\n",
              "  <text x=\"35.294118\" y=\"80.706734\" font-size=\"1.0rem\" font-weight=\"100\" text-anchor=\"middle\" transform=\"rotate(45,35.294118,80.706734)\">350640</text>\n",
              "</svg>\n",
              "        </td>\n",
              "    </tr>\n",
              "</table></div></li></ul></div></li><li class='xr-section-item'><input id='section-f2cd9345-3d38-4546-b3f3-9650bdfed09c' class='xr-section-summary-in' type='checkbox'  ><label for='section-f2cd9345-3d38-4546-b3f3-9650bdfed09c' class='xr-section-summary' >Indexes: <span>(3)</span></label><div class='xr-section-inline-details'></div><div class='xr-section-details'><ul class='xr-var-list'><li class='xr-var-item'><div class='xr-index-name'><div>lon</div></div><div class='xr-index-preview'>PandasIndex</div><div></div><input id='index-8e9c4ae9-3adc-4d1a-96c1-af40eda5d721' class='xr-index-data-in' type='checkbox'/><label for='index-8e9c4ae9-3adc-4d1a-96c1-af40eda5d721' title='Show/Hide index repr'><svg class='icon xr-icon-database'><use xlink:href='#icon-database'></use></svg></label><div class='xr-index-data'><pre>PandasIndex(Float64Index([    0.0,   5.625,   11.25,  16.875,    22.5,  28.125,   33.75,\n",
              "               39.375,    45.0,  50.625,   56.25,  61.875,    67.5,  73.125,\n",
              "                78.75,  84.375,    90.0,  95.625,  101.25, 106.875,   112.5,\n",
              "              118.125,  123.75, 129.375,   135.0, 140.625,  146.25, 151.875,\n",
              "                157.5, 163.125,  168.75, 174.375,   180.0, 185.625,  191.25,\n",
              "              196.875,   202.5, 208.125,  213.75, 219.375,   225.0, 230.625,\n",
              "               236.25, 241.875,   247.5, 253.125,  258.75, 264.375,   270.0,\n",
              "              275.625,  281.25, 286.875,   292.5, 298.125,  303.75, 309.375,\n",
              "                315.0, 320.625,  326.25, 331.875,   337.5, 343.125,  348.75,\n",
              "              354.375],\n",
              "             dtype=&#x27;float64&#x27;, name=&#x27;lon&#x27;))</pre></div></li><li class='xr-var-item'><div class='xr-index-name'><div>lat</div></div><div class='xr-index-preview'>PandasIndex</div><div></div><input id='index-ecfd019d-0670-4732-b8b8-8a9b9982b23e' class='xr-index-data-in' type='checkbox'/><label for='index-ecfd019d-0670-4732-b8b8-8a9b9982b23e' title='Show/Hide index repr'><svg class='icon xr-icon-database'><use xlink:href='#icon-database'></use></svg></label><div class='xr-index-data'><pre>PandasIndex(Float64Index([-87.1875, -81.5625, -75.9375, -70.3125, -64.6875, -59.0625,\n",
              "              -53.4375, -47.8125, -42.1875, -36.5625, -30.9375, -25.3125,\n",
              "              -19.6875, -14.0625,  -8.4375,  -2.8125,   2.8125,   8.4375,\n",
              "               14.0625,  19.6875,  25.3125,  30.9375,  36.5625,  42.1875,\n",
              "               47.8125,  53.4375,  59.0625,  64.6875,  70.3125,  75.9375,\n",
              "               81.5625,  87.1875],\n",
              "             dtype=&#x27;float64&#x27;, name=&#x27;lat&#x27;))</pre></div></li><li class='xr-var-item'><div class='xr-index-name'><div>time</div></div><div class='xr-index-preview'>PandasIndex</div><div></div><input id='index-62e6f847-7bef-4953-97e8-7e94974de846' class='xr-index-data-in' type='checkbox'/><label for='index-62e6f847-7bef-4953-97e8-7e94974de846' title='Show/Hide index repr'><svg class='icon xr-icon-database'><use xlink:href='#icon-database'></use></svg></label><div class='xr-index-data'><pre>PandasIndex(DatetimeIndex([&#x27;1979-01-01 00:00:00&#x27;, &#x27;1979-01-01 01:00:00&#x27;,\n",
              "               &#x27;1979-01-01 02:00:00&#x27;, &#x27;1979-01-01 03:00:00&#x27;,\n",
              "               &#x27;1979-01-01 04:00:00&#x27;, &#x27;1979-01-01 05:00:00&#x27;,\n",
              "               &#x27;1979-01-01 06:00:00&#x27;, &#x27;1979-01-01 07:00:00&#x27;,\n",
              "               &#x27;1979-01-01 08:00:00&#x27;, &#x27;1979-01-01 09:00:00&#x27;,\n",
              "               ...\n",
              "               &#x27;2018-12-31 14:00:00&#x27;, &#x27;2018-12-31 15:00:00&#x27;,\n",
              "               &#x27;2018-12-31 16:00:00&#x27;, &#x27;2018-12-31 17:00:00&#x27;,\n",
              "               &#x27;2018-12-31 18:00:00&#x27;, &#x27;2018-12-31 19:00:00&#x27;,\n",
              "               &#x27;2018-12-31 20:00:00&#x27;, &#x27;2018-12-31 21:00:00&#x27;,\n",
              "               &#x27;2018-12-31 22:00:00&#x27;, &#x27;2018-12-31 23:00:00&#x27;],\n",
              "              dtype=&#x27;datetime64[ns]&#x27;, name=&#x27;time&#x27;, length=350640, freq=None))</pre></div></li></ul></div></li><li class='xr-section-item'><input id='section-f19bcca6-f2ae-4df2-87f9-21b4698afc20' class='xr-section-summary-in' type='checkbox'  checked><label for='section-f19bcca6-f2ae-4df2-87f9-21b4698afc20' class='xr-section-summary' >Attributes: <span>(2)</span></label><div class='xr-section-inline-details'></div><div class='xr-section-details'><dl class='xr-attrs'><dt><span>Conventions :</span></dt><dd>CF-1.6</dd><dt><span>history :</span></dt><dd>2019-11-07 07:51:20 GMT by grib_to_netcdf-2.14.0: /opt/ecmwf/eccodes/bin/grib_to_netcdf -o /cache/data6/adaptor.mars.internal-1573111969.63867-16399-5-91391c60-4927-4da2-b19c-5c8067041f7e.nc /cache/tmp/91391c60-4927-4da2-b19c-5c8067041f7e-adaptor.mars.internal-1573111969.639535-16399-3-tmp.grib</dd></dl></div></li></ul></div></div>"
            ],
            "text/plain": [
              "<xarray.Dataset>\n",
              "Dimensions:  (lon: 64, lat: 32, time: 350640)\n",
              "Coordinates:\n",
              "  * lon      (lon) float64 0.0 5.625 11.25 16.88 ... 337.5 343.1 348.8 354.4\n",
              "  * lat      (lat) float64 -87.19 -81.56 -75.94 -70.31 ... 75.94 81.56 87.19\n",
              "  * time     (time) datetime64[ns] 1979-01-01 ... 2018-12-31T23:00:00\n",
              "Data variables:\n",
              "    t2m      (time, lat, lon) float32 dask.array<chunksize=(8760, 32, 64), meta=np.ndarray>\n",
              "Attributes:\n",
              "    Conventions:  CF-1.6\n",
              "    history:      2019-11-07 07:51:20 GMT by grib_to_netcdf-2.14.0: /opt/ecmw..."
            ]
          },
          "metadata": {},
          "output_type": "display_data"
        }
      ],
      "source": [
        "from climate_learn.utils.data import load_dataset, view\n",
        "\n",
        "dataset = load_dataset(\"/content/drive/MyDrive/Climate/.climate_tutorial/data/weatherbench/era5/5.625/2m_temperature\")\n",
        "view(dataset)"
      ]
    },
    {
      "cell_type": "markdown",
      "metadata": {
        "id": "3XM3rITW9Y3-"
      },
      "source": [
        "## Data Conversion\n",
        "We further convert the *NetCDF* files to *PyTorch* Dataloaders.\n",
        "\n",
        "We store the useful information about\n",
        " the data ('lat', 'long') of the regions as _data members_ of our dataloaders.\n",
        "\n",
        "\n",
        "\n"
      ]
    },
    {
      "cell_type": "code",
      "execution_count": 7,
      "metadata": {
        "colab": {
          "base_uri": "https://localhost:8080/"
        },
        "id": "EK2UD49hQ3om",
        "outputId": "6650bc42-8a22-4f53-fa4e-b32b8c5f6887"
      },
      "outputs": [
        {
          "name": "stdout",
          "output_type": "stream",
          "text": [
            "Creating train dataset\n"
          ]
        },
        {
          "name": "stderr",
          "output_type": "stream",
          "text": [
            "100%|██████████| 36/36 [00:00<00:00, 79.05it/s]\n"
          ]
        },
        {
          "name": "stdout",
          "output_type": "stream",
          "text": [
            "Creating val dataset\n"
          ]
        },
        {
          "name": "stderr",
          "output_type": "stream",
          "text": [
            "100%|██████████| 2/2 [00:00<00:00, 10.82it/s]\n"
          ]
        },
        {
          "name": "stdout",
          "output_type": "stream",
          "text": [
            "Creating test dataset\n"
          ]
        },
        {
          "name": "stderr",
          "output_type": "stream",
          "text": [
            "100%|██████████| 2/2 [00:00<00:00, 44.91it/s]\n"
          ]
        }
      ],
      "source": [
        "from climate_learn.utils.datetime import Year, Days, Hours\n",
        "from climate_learn.data.climate_dataset.args import ERA5Args\n",
        "from climate_learn.data.tasks.args import ForecastingArgs\n",
        "from climate_learn.data import DataModuleArgs, DataModule\n",
        "\n",
        "data_args = ERA5Args(\n",
        "    root_dir = \"/content/drive/MyDrive/Climate/.climate_tutorial/data/weatherbench/era5/5.625/\",\n",
        "    variables = [\"2m_temperature\"],\n",
        "    years = range(1979, 2015),\n",
        ")\n",
        "\n",
        "forecasting_args = ForecastingArgs(\n",
        "    dataset_args = data_args,\n",
        "    in_vars = [\"2m_temperature\"],\n",
        "    out_vars = [\"2m_temperature\"],\n",
        "    pred_range = 3*24,\n",
        "    subsample = 6,\n",
        ")\n",
        "\n",
        "data_module_args = DataModuleArgs(\n",
        "    task_args = forecasting_args,\n",
        "    train_start_year = 1979,\n",
        "    val_start_year = 2015,\n",
        "    test_start_year = 2017,\n",
        "    end_year = 2018,\n",
        ")\n",
        "\n",
        "data_module = DataModule(\n",
        "    data_module_args = data_module_args,\n",
        "    batch_size = 128,\n",
        "    num_workers = 1\n",
        ")"
      ]
    },
    {
      "cell_type": "markdown",
      "metadata": {
        "id": "srfsF01OLV-C"
      },
      "source": [
        "<a name=\"spatial-downscaling\"></a>\n",
        "# Spatial Downscaling"
      ]
    },
    {
      "cell_type": "markdown",
      "metadata": {
        "id": "0zAegEGoV9zy"
      },
      "source": [
        "## Data Download\n",
        "\n",
        "To perfrom climate downscaling, we need to have data for the temperature at 2m at different resolutions. In addition to the 5.625deg dataset we downloaded above, here we download the 2.8125deg dataset, which divides the Earth's surface into a latitude x longitude grid of 64 x 128."
      ]
    },
    {
      "cell_type": "code",
      "execution_count": 8,
      "metadata": {
        "colab": {
          "base_uri": "https://localhost:8080/"
        },
        "id": "u3tRve6-h0sI",
        "outputId": "bd5501e2-ac7c-4b2f-9edc-584c3e054e74"
      },
      "outputs": [
        {
          "name": "stdout",
          "output_type": "stream",
          "text": [
            "Downloading era5 2m_temperature data for 2.8125 resolution from weatherbench to /content/drive/MyDrive/Climate/.climate_tutorial/data/weatherbench/era5/2.8125/2m_temperature\n"
          ]
        }
      ],
      "source": [
        "from climate_learn.data import download\n",
        "\n",
        "# Download data from weatherbench (~2-3 minutes)\n",
        "# download(root = \"/content/drive/MyDrive/Climate/.climate_tutorial\", source = \"weatherbench\", variable = \"2m_temperature\", dataset = \"era5\", resolution = \"5.625\")\n",
        "# Download data from weatherbench (~4-6 minutes)\n",
        "download(root = \"/content/drive/MyDrive/Climate/.climate_tutorial\", source = \"weatherbench\", variable = \"2m_temperature\", dataset = \"era5\", resolution = \"2.8125\")"
      ]
    },
    {
      "cell_type": "markdown",
      "metadata": {
        "id": "YsR8lhdjXejR"
      },
      "source": [
        "## Data Conversion"
      ]
    },
    {
      "cell_type": "code",
      "execution_count": 9,
      "metadata": {
        "colab": {
          "base_uri": "https://localhost:8080/"
        },
        "id": "7T9N7cL4oFKm",
        "outputId": "897e622e-6f29-4211-be36-c2e8250c4bf3"
      },
      "outputs": [
        {
          "name": "stdout",
          "output_type": "stream",
          "text": [
            "Creating train dataset\n"
          ]
        },
        {
          "name": "stderr",
          "output_type": "stream",
          "text": [
            "100%|██████████| 36/36 [00:01<00:00, 34.18it/s]\n",
            "100%|██████████| 36/36 [00:17<00:00,  2.01it/s]\n"
          ]
        },
        {
          "name": "stdout",
          "output_type": "stream",
          "text": [
            "Creating val dataset\n"
          ]
        },
        {
          "name": "stderr",
          "output_type": "stream",
          "text": [
            "100%|██████████| 2/2 [00:00<00:00, 25.79it/s]\n",
            "100%|██████████| 2/2 [00:01<00:00,  1.85it/s]\n"
          ]
        },
        {
          "name": "stdout",
          "output_type": "stream",
          "text": [
            "Creating test dataset\n"
          ]
        },
        {
          "name": "stderr",
          "output_type": "stream",
          "text": [
            "100%|██████████| 2/2 [00:00<00:00, 42.52it/s]\n",
            "100%|██████████| 2/2 [00:00<00:00,  2.11it/s]\n"
          ]
        }
      ],
      "source": [
        "from climate_learn.utils.datetime import Year, Days, Hours\n",
        "from climate_learn.data.climate_dataset.args import ERA5Args\n",
        "from climate_learn.data.tasks.args import DownscalingArgs\n",
        "from climate_learn.data import DataModuleArgs, DataModule\n",
        "\n",
        "lowres_data_args = ERA5Args(\n",
        "    root_dir = \"/content/drive/MyDrive/Climate/.climate_tutorial/data/weatherbench/era5/5.625/\",\n",
        "    variables = [\"2m_temperature\"],\n",
        "    years = range(1979, 2015),\n",
        ")\n",
        "\n",
        "highres_data_args = ERA5Args(\n",
        "    root_dir = \"/content/drive/MyDrive/Climate/.climate_tutorial/data/weatherbench/era5/2.8125\",\n",
        "    variables = [\"2m_temperature\"],\n",
        "    years = range(1979, 2015),\n",
        ")\n",
        "\n",
        "downscaling_args = DownscalingArgs(\n",
        "    dataset_args = data_args,\n",
        "    highres_dataset_args = highres_data_args,\n",
        "    in_vars = [\"2m_temperature\"],\n",
        "    out_vars = [\"2m_temperature\"],\n",
        "    subsample = 6,\n",
        ")\n",
        "\n",
        "data_module_args = DataModuleArgs(\n",
        "    task_args = downscaling_args,\n",
        "    train_start_year = 1979,\n",
        "    val_start_year = 2015,\n",
        "    test_start_year = 2017,\n",
        "    end_year = 2018,\n",
        ")\n",
        "\n",
        "data_module = DataModule(\n",
        "    data_module_args = data_module_args,\n",
        "    batch_size = 128,\n",
        "    num_workers = 1\n",
        ")"
      ]
    }
  ],
  "metadata": {
    "accelerator": "GPU",
    "colab": {
      "provenance": []
    },
    "gpuClass": "standard",
    "kernelspec": {
      "display_name": "cl_env",
      "language": "python",
      "name": "python3"
    },
    "language_info": {
      "name": "python",
      "version": "3.9.7"
    },
    "vscode": {
      "interpreter": {
        "hash": "5b35d5811d64db97cad819926e9e0ba09b354a75e2ee95b259c11201fc783944"
      }
    }
  },
  "nbformat": 4,
  "nbformat_minor": 0
}
