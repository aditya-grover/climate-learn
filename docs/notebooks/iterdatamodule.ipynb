{
 "cells": [
  {
   "cell_type": "code",
   "execution_count": null,
   "metadata": {},
   "outputs": [],
   "source": [
    "%load_ext autoreload\n",
    "%autoreload 2"
   ]
  },
  {
   "cell_type": "code",
   "execution_count": null,
   "metadata": {},
   "outputs": [],
   "source": [
    "!jupyter nbextension enable --py widgetsnbextension"
   ]
  },
  {
   "cell_type": "code",
   "execution_count": null,
   "metadata": {},
   "outputs": [],
   "source": [
    "from climate_learn.data import convert_nc2npz"
   ]
  },
  {
   "cell_type": "code",
   "execution_count": null,
   "metadata": {
    "collapsed": true,
    "jupyter": {
     "outputs_hidden": true
    },
    "tags": []
   },
   "outputs": [],
   "source": [
    "convert_nc2npz(\n",
    "    root_dir=\"/home/data/datasets/ClimateLearn/data/weatherbench/era5/5.625\",\n",
    "    save_dir=\"/home/data/datasets/ClimateLearn/data/weatherbench/era5/5.625_npz\",\n",
    "    variables=[\"2m_temperature\"],\n",
    "    start_train_year=1979,\n",
    "    start_val_year=2016,\n",
    "    start_test_year=2017,\n",
    "    end_year=2018,\n",
    "    num_shards=16\n",
    ")"
   ]
  },
  {
   "cell_type": "code",
   "execution_count": null,
   "metadata": {
    "collapsed": true,
    "jupyter": {
     "outputs_hidden": true
    },
    "tags": []
   },
   "outputs": [],
   "source": [
    "convert_nc2npz(\n",
    "    root_dir=\"/home/data/datasets/ClimateLearn/data/weatherbench/era5/2.8125\",\n",
    "    save_dir=\"/home/data/datasets/ClimateLearn/data/weatherbench/era5/2.8125_npz\",\n",
    "    variables=[\"2m_temperature\"],\n",
    "    start_train_year=1979,\n",
    "    start_val_year=2016,\n",
    "    start_test_year=2017,\n",
    "    end_year=2018,\n",
    "    num_shards=16\n",
    ")"
   ]
  },
  {
   "cell_type": "code",
   "execution_count": null,
   "metadata": {},
   "outputs": [],
   "source": [
    "from climate_learn.utils.datetime import Year, Days, Hours\n",
    "from climate_learn.data import IterDataModule\n",
    "\n",
    "forecast_data_module = IterDataModule(\n",
    "    task=\"forecasting\",\n",
    "    inp_root_dir=\"/home/data/datasets/ClimateLearn/data/weatherbench/era5/5.625_npz\",\n",
    "    out_root_dir=\"/home/data/datasets/ClimateLearn/data/weatherbench/era5/5.625_npz\",\n",
    "    in_vars=[\"2m_temperature\"],\n",
    "    out_vars=[\"2m_temperature\"],\n",
    "    pred_range=Days(3),\n",
    "    subsample=Hours(6),\n",
    "    batch_size=128,\n",
    "    num_workers=1\n",
    ")"
   ]
  },
  {
   "cell_type": "code",
   "execution_count": null,
   "metadata": {},
   "outputs": [],
   "source": [
    "from src.climate_learn.models import load_model\n",
    "\n",
    "forecast_model_kwargs = {\n",
    "    \"in_channels\": len(forecast_data_module.hparams.in_vars),\n",
    "    \"out_channels\": len(forecast_data_module.hparams.out_vars),\n",
    "    \"n_blocks\": 28\n",
    "}\n",
    "\n",
    "forecast_optim_kwargs = {\n",
    "    \"lr\": 1e-4,\n",
    "    \"weight_decay\": 1e-5,\n",
    "    \"warmup_epochs\": 0,\n",
    "    \"max_epochs\": 1\n",
    "}\n",
    "\n",
    "forecast_model_module = load_model(\n",
    "    name=\"resnet\",\n",
    "    task=\"forecasting\",\n",
    "    model_kwargs=forecast_model_kwargs,\n",
    "    optim_kwargs=forecast_optim_kwargs\n",
    ")"
   ]
  },
  {
   "cell_type": "code",
   "execution_count": null,
   "metadata": {},
   "outputs": [],
   "source": [
    "from src.climate_learn.models import set_climatology\n",
    "set_climatology(forecast_model_module, forecast_data_module)"
   ]
  },
  {
   "cell_type": "code",
   "execution_count": null,
   "metadata": {},
   "outputs": [],
   "source": [
    "from src.climate_learn.training import Trainer, WandbLogger\n",
    "\n",
    "forecast_trainer = Trainer(\n",
    "    seed=0,\n",
    "    accelerator=\"gpu\",\n",
    "    devices=[7],\n",
    "    precision=16,\n",
    "    max_epochs=1\n",
    ")"
   ]
  },
  {
   "cell_type": "code",
   "execution_count": null,
   "metadata": {},
   "outputs": [],
   "source": [
    "forecast_trainer.fit(forecast_model_module, forecast_data_module)"
   ]
  },
  {
   "cell_type": "code",
   "execution_count": null,
   "metadata": {},
   "outputs": [],
   "source": [
    "forecast_trainer.test(forecast_model_module, forecast_data_module)"
   ]
  },
  {
   "cell_type": "code",
   "execution_count": null,
   "metadata": {},
   "outputs": [],
   "source": [
    "from src.climate_learn.utils.datetime import Year, Days, Hours\n",
    "from src.climate_learn.data import IterDataModule\n",
    "\n",
    "downscale_data_module = IterDataModule(\n",
    "    task=\"downscaling\",\n",
    "    inp_root_dir=\"/home/data/datasets/ClimateLearn/data/weatherbench/era5/5.625_npz\",\n",
    "    out_root_dir=\"/home/data/datasets/ClimateLearn/data/weatherbench/era5/2.8125_npz\",\n",
    "    in_vars=[\"2m_temperature\"],\n",
    "    out_vars=[\"2m_temperature\"],\n",
    "    batch_size=128,\n",
    "    num_workers=1\n",
    ")"
   ]
  },
  {
   "cell_type": "code",
   "execution_count": null,
   "metadata": {},
   "outputs": [],
   "source": [
    "from src.climate_learn.models import load_model\n",
    "\n",
    "downscale_model_kwargs = {\n",
    "    \"in_channels\": len(downscale_data_module.hparams.in_vars),\n",
    "    \"out_channels\": len(downscale_data_module.hparams.out_vars),\n",
    "    \"n_blocks\": 4,\n",
    "}\n",
    "\n",
    "downscale_optim_kwargs = {\n",
    "    \"optimizer\": \"adamw\",\n",
    "    \"lr\": 1e-4,\n",
    "    \"weight_decay\": 1e-5,\n",
    "    \"warmup_epochs\": 1,\n",
    "    \"max_epochs\": 5\n",
    "}\n",
    "\n",
    "downscale_model_module = load_model(\n",
    "    name=\"resnet\",\n",
    "    task=\"downscaling\",\n",
    "    model_kwargs=downscale_model_kwargs,\n",
    "    optim_kwargs=downscale_optim_kwargs\n",
    ")"
   ]
  },
  {
   "cell_type": "code",
   "execution_count": null,
   "metadata": {},
   "outputs": [],
   "source": [
    "from src.climate_learn.models import set_climatology\n",
    "set_climatology(downscale_model_module, downscale_data_module)"
   ]
  },
  {
   "cell_type": "code",
   "execution_count": null,
   "metadata": {},
   "outputs": [],
   "source": [
    "from src.climate_learn.training import Trainer, WandbLogger\n",
    "\n",
    "downscale_trainer = Trainer(\n",
    "    seed = 0,\n",
    "    accelerator = \"gpu\",\n",
    "    devices=[7],\n",
    "    precision = 16,\n",
    "    max_epochs = 1,\n",
    ")"
   ]
  },
  {
   "cell_type": "code",
   "execution_count": null,
   "metadata": {},
   "outputs": [],
   "source": [
    "downscale_trainer.fit(downscale_model_module, data_module=downscale_data_module)"
   ]
  },
  {
   "cell_type": "code",
   "execution_count": null,
   "metadata": {},
   "outputs": [],
   "source": []
  }
 ],
 "metadata": {
  "interpreter": {
   "hash": "01d7ae94ec007e85165e08ab8d89b1cf8d99f34f2859f5001ab8d02ec992167d"
  },
  "kernelspec": {
   "display_name": "cs238",
   "language": "python",
   "name": "cs238"
  }
 },
 "nbformat": 4,
 "nbformat_minor": 4
}
